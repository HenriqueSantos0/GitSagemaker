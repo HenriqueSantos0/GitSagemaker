{
 "cells": [
  {
   "cell_type": "code",
   "execution_count": 1,
   "id": "ae4d93ef",
   "metadata": {},
   "outputs": [
    {
     "name": "stdout",
     "output_type": "stream",
     "text": [
      "Starting Spark application\n"
     ]
    },
    {
     "data": {
      "text/html": [
       "<table>\n",
       "<tr><th>ID</th><th>YARN Application ID</th><th>Kind</th><th>State</th><th>Spark UI</th><th>Driver log</th><th>User</th><th>Current session?</th></tr><tr><td>0</td><td>application_1658501474730_0001</td><td>pyspark</td><td>idle</td><td><a target=\"_blank\" href=\"http://ip-172-31-13-94.ec2.internal:20888/proxy/application_1658501474730_0001/\">Link</a></td><td><a target=\"_blank\" href=\"http://ip-172-31-2-87.ec2.internal:8042/node/containerlogs/container_1658501474730_0001_01_000001/livy\">Link</a></td><td>None</td><td>✔</td></tr></table>"
      ],
      "text/plain": [
       "<IPython.core.display.HTML object>"
      ]
     },
     "metadata": {},
     "output_type": "display_data"
    },
    {
     "data": {
      "application/vnd.jupyter.widget-view+json": {
       "model_id": "",
       "version_major": 2,
       "version_minor": 0
      },
      "text/plain": [
       "FloatProgress(value=0.0, bar_style='info', description='Progress:', layout=Layout(height='25px', width='50%'),…"
      ]
     },
     "metadata": {},
     "output_type": "display_data"
    },
    {
     "name": "stdout",
     "output_type": "stream",
     "text": [
      "SparkSession available as 'spark'.\n"
     ]
    },
    {
     "data": {
      "application/vnd.jupyter.widget-view+json": {
       "model_id": "",
       "version_major": 2,
       "version_minor": 0
      },
      "text/plain": [
       "FloatProgress(value=0.0, bar_style='info', description='Progress:', layout=Layout(height='25px', width='50%'),…"
      ]
     },
     "metadata": {},
     "output_type": "display_data"
    }
   ],
   "source": [
    "from pyspark.sql.functions import *\n",
    "from pyspark import SparkContext\n",
    "from pyspark.sql import SparkSession\n",
    "from pyspark.sql.types import StringType, IntegerType, DateType, LongType\n",
    "from pyspark.context import SparkContext\n",
    "from pyspark.conf import SparkConf"
   ]
  },
  {
   "cell_type": "code",
   "execution_count": 2,
   "id": "fdacb5db",
   "metadata": {},
   "outputs": [
    {
     "data": {
      "application/vnd.jupyter.widget-view+json": {
       "model_id": "",
       "version_major": 2,
       "version_minor": 0
      },
      "text/plain": [
       "FloatProgress(value=0.0, bar_style='info', description='Progress:', layout=Layout(height='25px', width='50%'),…"
      ]
     },
     "metadata": {},
     "output_type": "display_data"
    }
   ],
   "source": [
    "sc = SparkSession\n",
    "spark = SparkSession.builder.appName(\"Similares\").getOrCreate()\n",
    "sparkContext=spark.sparkContext"
   ]
  },
  {
   "cell_type": "code",
   "execution_count": 2,
   "id": "698f2bcf",
   "metadata": {},
   "outputs": [
    {
     "data": {
      "application/vnd.jupyter.widget-view+json": {
       "model_id": "",
       "version_major": 2,
       "version_minor": 0
      },
      "text/plain": [
       "FloatProgress(value=0.0, bar_style='info', description='Progress:', layout=Layout(height='25px', width='50%'),…"
      ]
     },
     "metadata": {},
     "output_type": "display_data"
    }
   ],
   "source": [
    "df_reco= spark\\\n",
    "        .read.format(\"parquet\")\\\n",
    "        .option(\"inferSchema\", \"True\")\\\n",
    "        .option(\"header\", \"True\")\\\n",
    "        .parquet(\"s3://teste-lbd/RECOMMENDATION_MODEL_INPUT_DELTA/\")"
   ]
  },
  {
   "cell_type": "code",
   "execution_count": 3,
   "id": "54617a2a",
   "metadata": {},
   "outputs": [
    {
     "data": {
      "application/vnd.jupyter.widget-view+json": {
       "model_id": "",
       "version_major": 2,
       "version_minor": 0
      },
      "text/plain": [
       "FloatProgress(value=0.0, bar_style='info', description='Progress:', layout=Layout(height='25px', width='50%'),…"
      ]
     },
     "metadata": {},
     "output_type": "display_data"
    },
    {
     "name": "stdout",
     "output_type": "stream",
     "text": [
      "+--------------------+--------+-----------+------------------+--------+--------------+--------------------+--------------------+--------------------+-------------------+\n",
      "|                 cpf|cod_item|qtd_efetiva|flag_item_sensivel|flag_otc|desc_tipo_item|      desc_categoria|          desc_grupo|  desc_sub_categoria|       data_emissao|\n",
      "+--------------------+--------+-----------+------------------+--------+--------------+--------------------+--------------------+--------------------+-------------------+\n",
      "|NHCQrJm5x8Po+IJPJ...|  112719|          1|             false|   false|            HB|           REMOVEDOR|          MAOS E PES|             ACETONA|2022-06-22T00:00:00|\n",
      "|NHCQrJm5x8Po+IJPJ...|  853800|          1|             false|    true|   MEDICAMENTO|               GASES|   GASTROINTESTINAIS|              GASES.|2022-06-22T00:00:00|\n",
      "|7ZHhz/Jsu41QpZyyb...|  108211|          1|             false|   false|            HB|               OLHOS|           MAQUIAGEM|   LAPIS SOBRANCELHA|2022-06-22T00:00:00|\n",
      "|zyh4hHuyQoIVMYH8v...|  109830|          1|             false|    true|   MEDICAMENTO|        VITAMINAS AZ|VITAMINAS E SUPLE...|          VITAMINA C|2022-06-17T00:00:00|\n",
      "|IVfs9R3rp0rwL3AEN...|  113056|         27|             false|   false|            HB|           COMPRESSA|  PRIMEIROS SOCORROS|                GAZE|2022-06-22T00:00:00|\n",
      "|7ZHhz/Jsu41QpZyyb...|  832280|          1|             false|   false|            HB|ACESSORIOS P/ MAQ...|           MAQUIAGEM|PINCEL PARA MAQUI...|2022-06-22T00:00:00|\n",
      "|i8CZtdlk+ZMexTD05...|  889480|          1|             false|   false|            HB|            CURATIVO|  PRIMEIROS SOCORROS|        TRANSPARENTE|2022-06-22T00:00:00|\n",
      "|lqkdmNc3ZYqdPTd05...|  911330|          1|             false|   false|   MEDICAMENTO|        NAO DEFINIDO|ALERGIAS E INFEC??ES|        NAO DEFINIDO|2022-06-22T00:00:00|\n",
      "|di4MT4e/cpotVE0mk...|  188180|          1|             false|   false|   MEDICAMENTO|        NAO DEFINIDO|VITAMINAS E SUPLE...|        NAO DEFINIDO|2022-06-21T00:00:00|\n",
      "|yBDRstHfCS8thDu9X...|  111794|          1|             false|   false|            HB|  UNHAS E ACESSORIOS|          MAOS E PES|       LIXA PARA PES|2022-06-22T00:00:00|\n",
      "+--------------------+--------+-----------+------------------+--------+--------------+--------------------+--------------------+--------------------+-------------------+\n",
      "only showing top 10 rows"
     ]
    }
   ],
   "source": [
    "df_reco.show(8)"
   ]
  },
  {
   "cell_type": "code",
   "execution_count": 4,
   "id": "0982498a",
   "metadata": {},
   "outputs": [
    {
     "data": {
      "application/vnd.jupyter.widget-view+json": {
       "model_id": "",
       "version_major": 2,
       "version_minor": 0
      },
      "text/plain": [
       "FloatProgress(value=0.0, bar_style='info', description='Progress:', layout=Layout(height='25px', width='50%'),…"
      ]
     },
     "metadata": {},
     "output_type": "display_data"
    }
   ],
   "source": [
    "df_delta= spark\\\n",
    "        .read.format(\"parquet\")\\\n",
    "        .option(\"inferSchema\", \"True\")\\\n",
    "        .option(\"header\", \"True\")\\\n",
    "        .parquet(\"s3://bckt-crm-in-prd/RECOMMENDATION_MODEL_INPUT_DELTA/\")"
   ]
  },
  {
   "cell_type": "code",
   "execution_count": 4,
   "id": "d8c7d619",
   "metadata": {},
   "outputs": [
    {
     "data": {
      "application/vnd.jupyter.widget-view+json": {
       "model_id": "",
       "version_major": 2,
       "version_minor": 0
      },
      "text/plain": [
       "FloatProgress(value=0.0, bar_style='info', description='Progress:', layout=Layout(height='25px', width='50%'),…"
      ]
     },
     "metadata": {},
     "output_type": "display_data"
    },
    {
     "name": "stdout",
     "output_type": "stream",
     "text": [
      "[('cpf', 'string'), ('cod_item', 'int'), ('qtd_efetiva', 'int'), ('flag_item_sensivel', 'boolean'), ('flag_otc', 'boolean'), ('desc_tipo_item', 'string'), ('desc_categoria', 'string'), ('desc_grupo', 'string'), ('desc_sub_categoria', 'string'), ('data_emissao', 'string')]"
     ]
    }
   ],
   "source": [
    "df_reco.dtypes"
   ]
  },
  {
   "cell_type": "code",
   "execution_count": null,
   "id": "143dab18",
   "metadata": {},
   "outputs": [],
   "source": [
    "df_reco.printSchema()"
   ]
  },
  {
   "cell_type": "markdown",
   "id": "1a9f641e",
   "metadata": {},
   "source": [
    "# Trocando String para Boolean"
   ]
  },
  {
   "cell_type": "code",
   "execution_count": 11,
   "id": "f8ec209b",
   "metadata": {},
   "outputs": [
    {
     "data": {
      "application/vnd.jupyter.widget-view+json": {
       "model_id": "",
       "version_major": 2,
       "version_minor": 0
      },
      "text/plain": [
       "FloatProgress(value=0.0, bar_style='info', description='Progress:', layout=Layout(height='25px', width='50%'),…"
      ]
     },
     "metadata": {},
     "output_type": "display_data"
    }
   ],
   "source": [
    "# import data field types\n",
    "from pyspark.sql.types import StringType, DoubleType, IntegerType, StructType, StructField, FloatType, BooleanType"
   ]
  },
  {
   "cell_type": "code",
   "execution_count": null,
   "id": "a49bc9ed",
   "metadata": {},
   "outputs": [],
   "source": []
  },
  {
   "cell_type": "code",
   "execution_count": 7,
   "id": "3be8d95b",
   "metadata": {},
   "outputs": [
    {
     "data": {
      "application/vnd.jupyter.widget-view+json": {
       "model_id": "",
       "version_major": 2,
       "version_minor": 0
      },
      "text/plain": [
       "FloatProgress(value=0.0, bar_style='info', description='Progress:', layout=Layout(height='25px', width='50%'),…"
      ]
     },
     "metadata": {},
     "output_type": "display_data"
    },
    {
     "name": "stdout",
     "output_type": "stream",
     "text": [
      "[('cpf', 'string'), ('cod_item', 'int'), ('qtd_efetiva', 'int'), ('flag_item_sensivel', 'boolean'), ('flag_otc', 'boolean'), ('desc_tipo_item', 'string'), ('desc_categoria', 'string'), ('desc_grupo', 'string'), ('desc_sub_categoria', 'string'), ('data_emissao', 'string')]"
     ]
    }
   ],
   "source": [
    "df_delta.dtypes"
   ]
  },
  {
   "cell_type": "code",
   "execution_count": 26,
   "id": "06bfaaf0",
   "metadata": {},
   "outputs": [
    {
     "data": {
      "application/vnd.jupyter.widget-view+json": {
       "model_id": "",
       "version_major": 2,
       "version_minor": 0
      },
      "text/plain": [
       "FloatProgress(value=0.0, bar_style='info', description='Progress:', layout=Layout(height='25px', width='50%'),…"
      ]
     },
     "metadata": {},
     "output_type": "display_data"
    },
    {
     "name": "stdout",
     "output_type": "stream",
     "text": [
      "+--------------------+--------+-----------+------------------+--------+--------------+--------------------+--------------------+--------------------+-------------------+\n",
      "|                 cpf|cod_item|qtd_efetiva|flag_item_sensivel|flag_otc|desc_tipo_item|      desc_categoria|          desc_grupo|  desc_sub_categoria|       data_emissao|\n",
      "+--------------------+--------+-----------+------------------+--------+--------------+--------------------+--------------------+--------------------+-------------------+\n",
      "|NHCQrJm5x8Po+IJPJ...|  112719|          1|             false|   false|            HB|           REMOVEDOR|          MAOS E PES|             ACETONA|2022-06-22T00:00:00|\n",
      "|NHCQrJm5x8Po+IJPJ...|  853800|          1|             false|    true|   MEDICAMENTO|               GASES|   GASTROINTESTINAIS|              GASES.|2022-06-22T00:00:00|\n",
      "|7ZHhz/Jsu41QpZyyb...|  108211|          1|             false|   false|            HB|               OLHOS|           MAQUIAGEM|   LAPIS SOBRANCELHA|2022-06-22T00:00:00|\n",
      "|zyh4hHuyQoIVMYH8v...|  109830|          1|             false|    true|   MEDICAMENTO|        VITAMINAS AZ|VITAMINAS E SUPLE...|          VITAMINA C|2022-06-17T00:00:00|\n",
      "|IVfs9R3rp0rwL3AEN...|  113056|         27|             false|   false|            HB|           COMPRESSA|  PRIMEIROS SOCORROS|                GAZE|2022-06-22T00:00:00|\n",
      "|7ZHhz/Jsu41QpZyyb...|  832280|          1|             false|   false|            HB|ACESSORIOS P/ MAQ...|           MAQUIAGEM|PINCEL PARA MAQUI...|2022-06-22T00:00:00|\n",
      "|i8CZtdlk+ZMexTD05...|  889480|          1|             false|   false|            HB|            CURATIVO|  PRIMEIROS SOCORROS|        TRANSPARENTE|2022-06-22T00:00:00|\n",
      "|lqkdmNc3ZYqdPTd05...|  911330|          1|             false|   false|   MEDICAMENTO|        NAO DEFINIDO|ALERGIAS E INFEC??ES|        NAO DEFINIDO|2022-06-22T00:00:00|\n",
      "|di4MT4e/cpotVE0mk...|  188180|          1|             false|   false|   MEDICAMENTO|        NAO DEFINIDO|VITAMINAS E SUPLE...|        NAO DEFINIDO|2022-06-21T00:00:00|\n",
      "|yBDRstHfCS8thDu9X...|  111794|          1|             false|   false|            HB|  UNHAS E ACESSORIOS|          MAOS E PES|       LIXA PARA PES|2022-06-22T00:00:00|\n",
      "+--------------------+--------+-----------+------------------+--------+--------------+--------------------+--------------------+--------------------+-------------------+\n",
      "only showing top 10 rows"
     ]
    }
   ],
   "source": [
    "df_delta.show(10)"
   ]
  },
  {
   "cell_type": "code",
   "execution_count": 20,
   "id": "878a0ba2",
   "metadata": {},
   "outputs": [
    {
     "data": {
      "application/vnd.jupyter.widget-view+json": {
       "model_id": "",
       "version_major": 2,
       "version_minor": 0
      },
      "text/plain": [
       "FloatProgress(value=0.0, bar_style='info', description='Progress:', layout=Layout(height='25px', width='50%'),…"
      ]
     },
     "metadata": {},
     "output_type": "display_data"
    }
   ],
   "source": [
    "schema_df = StructType([\n",
    "    StructField('cpf', StringType(), True),\n",
    "    StructField(\"cod_item\", IntegerType(), True),\n",
    "    StructField(\"qtd_efetiva\", IntegerType(), True),\n",
    "    StructField(\"flag_item_sensivel\", BooleanType(), True),\n",
    "    StructField(\"flag_otc\", BooleanType(), True),\n",
    "    StructField(\"desc_tipo_item\", StringType(), True),\n",
    "    StructField(\"desc_categoria\", StringType(), True),\n",
    "    StructField(\"desc_sub_categoria\", StringType(), True),\n",
    "    StructField(\"data_emissao\", StringType(), True),\n",
    "])"
   ]
  },
  {
   "cell_type": "code",
   "execution_count": 21,
   "id": "cdf603c7",
   "metadata": {},
   "outputs": [
    {
     "data": {
      "application/vnd.jupyter.widget-view+json": {
       "model_id": "",
       "version_major": 2,
       "version_minor": 0
      },
      "text/plain": [
       "FloatProgress(value=0.0, bar_style='info', description='Progress:', layout=Layout(height='25px', width='50%'),…"
      ]
     },
     "metadata": {},
     "output_type": "display_data"
    }
   ],
   "source": [
    "df_reco= spark\\\n",
    "        .read.format(\"parquet\")\\\n",
    "        .schema(schema_df)\\\n",
    "        .option(\"header\", \"True\")\\\n",
    "        .parquet(\"s3://bckt-crm-in-prd/IN_DATA_ZIP_ENCRYPTED/\")"
   ]
  },
  {
   "cell_type": "code",
   "execution_count": 22,
   "id": "057c6d66",
   "metadata": {},
   "outputs": [
    {
     "data": {
      "application/vnd.jupyter.widget-view+json": {
       "model_id": "",
       "version_major": 2,
       "version_minor": 0
      },
      "text/plain": [
       "FloatProgress(value=0.0, bar_style='info', description='Progress:', layout=Layout(height='25px', width='50%'),…"
      ]
     },
     "metadata": {},
     "output_type": "display_data"
    },
    {
     "name": "stdout",
     "output_type": "stream",
     "text": [
      "[('cpf', 'string'), ('cod_item', 'int'), ('qtd_efetiva', 'int'), ('flag_item_sensivel', 'boolean'), ('flag_otc', 'boolean'), ('desc_tipo_item', 'string'), ('desc_categoria', 'string'), ('desc_sub_categoria', 'string'), ('data_emissao', 'string')]"
     ]
    }
   ],
   "source": [
    "df_reco.dtypes"
   ]
  },
  {
   "cell_type": "code",
   "execution_count": 23,
   "id": "c9bd54b4",
   "metadata": {},
   "outputs": [
    {
     "data": {
      "application/vnd.jupyter.widget-view+json": {
       "model_id": "",
       "version_major": 2,
       "version_minor": 0
      },
      "text/plain": [
       "FloatProgress(value=0.0, bar_style='info', description='Progress:', layout=Layout(height='25px', width='50%'),…"
      ]
     },
     "metadata": {},
     "output_type": "display_data"
    },
    {
     "name": "stdout",
     "output_type": "stream",
     "text": [
      "+--------------------+--------+-----------+------------------+--------+--------------+--------------------+------------------+------------+\n",
      "|                 cpf|cod_item|qtd_efetiva|flag_item_sensivel|flag_otc|desc_tipo_item|      desc_categoria|desc_sub_categoria|data_emissao|\n",
      "+--------------------+--------+-----------+------------------+--------+--------------+--------------------+------------------+------------+\n",
      "|J+Chi3a0EiJb81KVV...|  806190|          1|             false|   false|            HB|     TAXA DE ENTREGA|      NAO DEFINIDO|  2021-11-08|\n",
      "|h+oFiVjpVSvtykDHG...|    6009|          1|             false|    true|   MEDICAMENTO|               TOSSE|   TOSSE CARREGADA|  2021-11-08|\n",
      "|4Y4Omqb+rqRLaMmOr...|  519020|          3|              true|   false|   MEDICAMENTO|        NAO DEFINIDO|      NAO DEFINIDO|  2021-11-08|\n",
      "|4Y4Omqb+rqRLaMmOr...|  557100|          1|             false|   false|   MEDICAMENTO|        NAO DEFINIDO|      NAO DEFINIDO|  2021-11-08|\n",
      "|4wFHuzvHLgrA7R+5p...|  868710|          1|             false|    true|   MEDICAMENTO|  AZIA E MA DIGESTAO|          ESTOMAGO|  2021-11-08|\n",
      "|4Y4Omqb+rqRLaMmOr...|  996310|          1|             false|   false|   MEDICAMENTO|        NAO DEFINIDO|      NAO DEFINIDO|  2021-11-08|\n",
      "|J+Chi3a0EiJb81KVV...|  579240|          1|             false|    true|   MEDICAMENTO|               TOSSE|   TOSSE CARREGADA|  2021-11-08|\n",
      "|v9oFk1J70fe9+wCxB...|   17442|          2|             false|    true|   MEDICAMENTO|CUIDADO COM FERIM...|  CUIDADOS T?PICOS|  2021-11-08|\n",
      "|v9oFk1J70fe9+wCxB...|  622150|          1|             false|    true|   MEDICAMENTO|           INTESTINO|      LAXANTE LEVE|  2021-11-08|\n",
      "|XVVwzrM5/CzJ4hli+...|  462720|          2|             false|    true|   MEDICAMENTO|CUIDADO COM FERIM...|  CUIDADOS T?PICOS|  2021-11-08|\n",
      "+--------------------+--------+-----------+------------------+--------+--------------+--------------------+------------------+------------+\n",
      "only showing top 10 rows"
     ]
    }
   ],
   "source": [
    "df_reco.show(10)"
   ]
  },
  {
   "cell_type": "code",
   "execution_count": 24,
   "id": "509a4131",
   "metadata": {},
   "outputs": [
    {
     "data": {
      "application/vnd.jupyter.widget-view+json": {
       "model_id": "",
       "version_major": 2,
       "version_minor": 0
      },
      "text/plain": [
       "FloatProgress(value=0.0, bar_style='info', description='Progress:', layout=Layout(height='25px', width='50%'),…"
      ]
     },
     "metadata": {},
     "output_type": "display_data"
    }
   ],
   "source": [
    "df_reco = df_reco.withColumn(\"flag_item_sensivel\", when(df_reco.flag_item_sensivel == True, 'true').otherwise('false'))"
   ]
  },
  {
   "cell_type": "code",
   "execution_count": 25,
   "id": "736929a3",
   "metadata": {},
   "outputs": [
    {
     "data": {
      "application/vnd.jupyter.widget-view+json": {
       "model_id": "",
       "version_major": 2,
       "version_minor": 0
      },
      "text/plain": [
       "FloatProgress(value=0.0, bar_style='info', description='Progress:', layout=Layout(height='25px', width='50%'),…"
      ]
     },
     "metadata": {},
     "output_type": "display_data"
    },
    {
     "name": "stdout",
     "output_type": "stream",
     "text": [
      "[('cpf', 'string'), ('cod_item', 'int'), ('qtd_efetiva', 'int'), ('flag_item_sensivel', 'string'), ('flag_otc', 'boolean'), ('desc_tipo_item', 'string'), ('desc_categoria', 'string'), ('desc_sub_categoria', 'string'), ('data_emissao', 'string')]"
     ]
    }
   ],
   "source": [
    "df_reco.dtypes"
   ]
  },
  {
   "cell_type": "code",
   "execution_count": null,
   "id": "2d216092",
   "metadata": {},
   "outputs": [],
   "source": [
    "import pyspark.sql.functions as f\n",
    "\n",
    "cols = [\"testing\", \"active\"]\n",
    "for col in cols:\n",
    "    df = df.withColumn(\n",
    "        col, \n",
    "        f.when(\n",
    "            f.col(col) == 'N',\n",
    "            'False'\n",
    "        ).when(\n",
    "            f.col(col) == 'Y',\n",
    "            'True'\n",
    "        ).when(\n",
    "            f.col(col).cast('string') == 'true',\n",
    "            'True'\n",
    "        ).when(\n",
    "            f.col(col).cast('string') == 'false',\n",
    "            'False'\n",
    "        ).otherwise(f.col(col).cast('string'))\n",
    "    )"
   ]
  }
 ],
 "metadata": {
  "kernelspec": {
   "display_name": "Sparkmagic (PySpark)",
   "language": "python",
   "name": "pysparkkernel"
  },
  "language_info": {
   "codemirror_mode": {
    "name": "python",
    "version": 3
   },
   "file_extension": ".py",
   "mimetype": "text/x-python",
   "name": "pyspark",
   "pygments_lexer": "python3"
  }
 },
 "nbformat": 4,
 "nbformat_minor": 5
}
