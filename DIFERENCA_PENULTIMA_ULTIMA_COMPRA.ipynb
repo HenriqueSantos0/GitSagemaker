{
 "cells": [
  {
   "cell_type": "code",
   "execution_count": 1,
   "id": "548c2550",
   "metadata": {},
   "outputs": [
    {
     "name": "stdout",
     "output_type": "stream",
     "text": [
      "Starting Spark application\n"
     ]
    },
    {
     "data": {
      "text/html": [
       "<table>\n",
       "<tr><th>ID</th><th>YARN Application ID</th><th>Kind</th><th>State</th><th>Spark UI</th><th>Driver log</th><th>User</th><th>Current session?</th></tr><tr><td>0</td><td>application_1653653285629_0001</td><td>pyspark</td><td>idle</td><td><a target=\"_blank\" href=\"http://ip-172-31-44-113.ec2.internal:20888/proxy/application_1653653285629_0001/\">Link</a></td><td><a target=\"_blank\" href=\"http://ip-172-31-35-238.ec2.internal:8042/node/containerlogs/container_1653653285629_0001_01_000001/livy\">Link</a></td><td>None</td><td>✔</td></tr></table>"
      ],
      "text/plain": [
       "<IPython.core.display.HTML object>"
      ]
     },
     "metadata": {},
     "output_type": "display_data"
    },
    {
     "data": {
      "application/vnd.jupyter.widget-view+json": {
       "model_id": "",
       "version_major": 2,
       "version_minor": 0
      },
      "text/plain": [
       "FloatProgress(value=0.0, bar_style='info', description='Progress:', layout=Layout(height='25px', width='50%'),…"
      ]
     },
     "metadata": {},
     "output_type": "display_data"
    },
    {
     "name": "stdout",
     "output_type": "stream",
     "text": [
      "SparkSession available as 'spark'.\n"
     ]
    },
    {
     "data": {
      "application/vnd.jupyter.widget-view+json": {
       "model_id": "",
       "version_major": 2,
       "version_minor": 0
      },
      "text/plain": [
       "FloatProgress(value=0.0, bar_style='info', description='Progress:', layout=Layout(height='25px', width='50%'),…"
      ]
     },
     "metadata": {},
     "output_type": "display_data"
    }
   ],
   "source": [
    "from pyspark.sql.functions import *\n",
    "from pyspark import SparkContext\n",
    "from pyspark.sql import SparkSession\n",
    "from pyspark.sql.types import StringType, IntegerType, DateType, LongType\n",
    "from pyspark.context import SparkContext\n",
    "from pyspark.conf import SparkConf\n",
    "from pyspark.sql.window import Window\n",
    "from pyspark.sql import functions as F\n",
    "from pyspark.sql.functions import to_timestamp\n",
    "from pyspark.sql.functions import col"
   ]
  },
  {
   "cell_type": "code",
   "execution_count": 2,
   "id": "2043ee03",
   "metadata": {},
   "outputs": [
    {
     "data": {
      "application/vnd.jupyter.widget-view+json": {
       "model_id": "",
       "version_major": 2,
       "version_minor": 0
      },
      "text/plain": [
       "FloatProgress(value=0.0, bar_style='info', description='Progress:', layout=Layout(height='25px', width='50%'),…"
      ]
     },
     "metadata": {},
     "output_type": "display_data"
    }
   ],
   "source": [
    "sc = SparkSession\n",
    "spark = SparkSession.builder.appName(\"recencia\").getOrCreate()\n",
    "sparkContext=spark.sparkContext"
   ]
  },
  {
   "cell_type": "code",
   "execution_count": 3,
   "id": "20373032",
   "metadata": {},
   "outputs": [
    {
     "data": {
      "application/vnd.jupyter.widget-view+json": {
       "model_id": "",
       "version_major": 2,
       "version_minor": 0
      },
      "text/plain": [
       "FloatProgress(value=0.0, bar_style='info', description='Progress:', layout=Layout(height='25px', width='50%'),…"
      ]
     },
     "metadata": {},
     "output_type": "display_data"
    }
   ],
   "source": [
    "#dataset sem gramatura\n",
    "df = spark\\\n",
    "        .read.format(\"csv\")\\\n",
    "        .option(\"inferSchema\", \"True\")\\\n",
    "        .option(\"header\", \"True\")\\\n",
    "        .csv(\"s3://bckt-crm-in-prd/IN_DATA_ZIP_ENCRYPTED/*\")"
   ]
  },
  {
   "cell_type": "code",
   "execution_count": 4,
   "id": "32a052c2",
   "metadata": {},
   "outputs": [
    {
     "data": {
      "application/vnd.jupyter.widget-view+json": {
       "model_id": "",
       "version_major": 2,
       "version_minor": 0
      },
      "text/plain": [
       "FloatProgress(value=0.0, bar_style='info', description='Progress:', layout=Layout(height='25px', width='50%'),…"
      ]
     },
     "metadata": {},
     "output_type": "display_data"
    }
   ],
   "source": [
    "from pyspark.sql.functions import to_date\n",
    "\n",
    "\n",
    "df1 = df.withColumn('data',to_date(df.data_emissao)).drop(\"data_emissao\")"
   ]
  },
  {
   "cell_type": "markdown",
   "id": "0e6cbfe2",
   "metadata": {},
   "source": [
    "# Codigo Stack Overflow"
   ]
  },
  {
   "cell_type": "code",
   "execution_count": 5,
   "id": "b5606b72",
   "metadata": {},
   "outputs": [
    {
     "data": {
      "application/vnd.jupyter.widget-view+json": {
       "model_id": "",
       "version_major": 2,
       "version_minor": 0
      },
      "text/plain": [
       "FloatProgress(value=0.0, bar_style='info', description='Progress:', layout=Layout(height='25px', width='50%'),…"
      ]
     },
     "metadata": {},
     "output_type": "display_data"
    }
   ],
   "source": [
    "data_frame = df1.groupBy([\"cod_item\", \"cpf\"])\\\n",
    ".agg( \n",
    "  reverse( # collect all the dates in an array in descending order from most recent to oldest.\n",
    "    array_sort(\n",
    "      collect_list( df1.data ))).alias(\"data\") )\\\n",
    ".select( \n",
    "  col(\"cpf\"),col('cod_item'), \n",
    "  col(\"data\")[0].alias(\"last_purchase\"), # get last purchase\n",
    "  col(\"data\")[1].alias(\"penultimate\")   ) #get last purchase + 1"
   ]
  },
  {
   "cell_type": "markdown",
   "id": "d25c1912",
   "metadata": {},
   "source": [
    "# Dados Agrupados Item"
   ]
  },
  {
   "cell_type": "code",
   "execution_count": 6,
   "id": "591a4369",
   "metadata": {},
   "outputs": [
    {
     "data": {
      "application/vnd.jupyter.widget-view+json": {
       "model_id": "",
       "version_major": 2,
       "version_minor": 0
      },
      "text/plain": [
       "FloatProgress(value=0.0, bar_style='info', description='Progress:', layout=Layout(height='25px', width='50%'),…"
      ]
     },
     "metadata": {},
     "output_type": "display_data"
    }
   ],
   "source": [
    "new_data = data_frame.na.drop(subset=[\"penultimate\"])"
   ]
  },
  {
   "cell_type": "code",
   "execution_count": null,
   "id": "17d50604",
   "metadata": {},
   "outputs": [],
   "source": [
    "new_data.count()"
   ]
  },
  {
   "cell_type": "code",
   "execution_count": null,
   "id": "2afcb419",
   "metadata": {},
   "outputs": [],
   "source": [
    "new_data.show(10)"
   ]
  },
  {
   "cell_type": "code",
   "execution_count": 7,
   "id": "a0e98e8c",
   "metadata": {},
   "outputs": [
    {
     "data": {
      "application/vnd.jupyter.widget-view+json": {
       "model_id": "",
       "version_major": 2,
       "version_minor": 0
      },
      "text/plain": [
       "FloatProgress(value=0.0, bar_style='info', description='Progress:', layout=Layout(height='25px', width='50%'),…"
      ]
     },
     "metadata": {},
     "output_type": "display_data"
    }
   ],
   "source": [
    "#Date diff between cod_item \n",
    "date_dif = new_data.select(col('cod_item'), col('cpf'),\n",
    "      col(\"last_purchase\"),\n",
    "      col(\"penultimate\"),\n",
    "      datediff(col(\"last_purchase\"),col(\"penultimate\")).alias(\"datediff\"))"
   ]
  },
  {
   "cell_type": "code",
   "execution_count": 10,
   "id": "6fa8124b",
   "metadata": {},
   "outputs": [
    {
     "data": {
      "application/vnd.jupyter.widget-view+json": {
       "model_id": "",
       "version_major": 2,
       "version_minor": 0
      },
      "text/plain": [
       "FloatProgress(value=0.0, bar_style='info', description='Progress:', layout=Layout(height='25px', width='50%'),…"
      ]
     },
     "metadata": {},
     "output_type": "display_data"
    },
    {
     "name": "stdout",
     "output_type": "stream",
     "text": [
      "0.10930866504548653"
     ]
    }
   ],
   "source": [
    "date_dif.count() / df.count()"
   ]
  },
  {
   "cell_type": "code",
   "execution_count": 9,
   "id": "8bb76ad1",
   "metadata": {},
   "outputs": [
    {
     "data": {
      "application/vnd.jupyter.widget-view+json": {
       "model_id": "",
       "version_major": 2,
       "version_minor": 0
      },
      "text/plain": [
       "FloatProgress(value=0.0, bar_style='info', description='Progress:', layout=Layout(height='25px', width='50%'),…"
      ]
     },
     "metadata": {},
     "output_type": "display_data"
    }
   ],
   "source": [
    "date_dif.coalesce(1).write.option(\"header\",\"true\").format(\"parquet\").mode(\"overwrite\").save(\"s3://bckt-crm-in-prd/row/table.parquet\")"
   ]
  },
  {
   "cell_type": "code",
   "execution_count": null,
   "id": "f08d0109",
   "metadata": {},
   "outputs": [],
   "source": [
    "date_dif.show(10)"
   ]
  },
  {
   "cell_type": "code",
   "execution_count": null,
   "id": "e25529cc",
   "metadata": {},
   "outputs": [],
   "source": [
    "date_dif = date_dif.filter(date_dif.datediff != 0)"
   ]
  },
  {
   "cell_type": "code",
   "execution_count": null,
   "id": "4a6fd302",
   "metadata": {},
   "outputs": [],
   "source": [
    "date_dif.groupBy(\"cod_item\").avg(\"datediff\").show(20)"
   ]
  },
  {
   "cell_type": "code",
   "execution_count": null,
   "id": "a513a030",
   "metadata": {},
   "outputs": [],
   "source": []
  }
 ],
 "metadata": {
  "kernelspec": {
   "display_name": "Sparkmagic (PySpark)",
   "language": "python",
   "name": "pysparkkernel"
  },
  "language_info": {
   "codemirror_mode": {
    "name": "python",
    "version": 3
   },
   "file_extension": ".py",
   "mimetype": "text/x-python",
   "name": "pyspark",
   "pygments_lexer": "python3"
  }
 },
 "nbformat": 4,
 "nbformat_minor": 5
}
