{
 "cells": [
  {
   "cell_type": "markdown",
   "id": "8f3346c4",
   "metadata": {},
   "source": [
    "#### Loading libraries"
   ]
  },
  {
   "cell_type": "code",
   "execution_count": 73,
   "id": "c8883f6e",
   "metadata": {},
   "outputs": [
    {
     "data": {
      "application/vnd.jupyter.widget-view+json": {
       "model_id": "",
       "version_major": 2,
       "version_minor": 0
      },
      "text/plain": [
       "FloatProgress(value=0.0, bar_style='info', description='Progress:', layout=Layout(height='25px', width='50%'),…"
      ]
     },
     "metadata": {},
     "output_type": "display_data"
    }
   ],
   "source": [
    "from pyspark.sql.functions import *\n",
    "from pyspark.sql import SparkSession\n",
    "from pyspark.sql import SQLContext\n",
    "from pyspark import SparkContext\n",
    "from pyspark import SparkConf"
   ]
  },
  {
   "cell_type": "code",
   "execution_count": 74,
   "id": "11eb0dd8",
   "metadata": {},
   "outputs": [
    {
     "data": {
      "text/html": [
       "Current session configs: <tt>{'driverMemory': '60000M', 'executorCores': 8, 'kind': 'pyspark'}</tt><br>"
      ],
      "text/plain": [
       "<IPython.core.display.HTML object>"
      ]
     },
     "metadata": {},
     "output_type": "display_data"
    },
    {
     "data": {
      "text/html": [
       "<table>\n",
       "<tr><th>ID</th><th>YARN Application ID</th><th>Kind</th><th>State</th><th>Spark UI</th><th>Driver log</th><th>User</th><th>Current session?</th></tr><tr><td>21</td><td>application_1648745669055_0031</td><td>pyspark</td><td>idle</td><td><a target=\"_blank\" href=\"http://ip-172-31-42-40.ec2.internal:20888/proxy/application_1648745669055_0031/\">Link</a></td><td><a target=\"_blank\" href=\"http://ip-172-31-47-8.ec2.internal:8042/node/containerlogs/container_1648745669055_0031_01_000001/livy\">Link</a></td><td>None</td><td>✔</td></tr></table>"
      ],
      "text/plain": [
       "<IPython.core.display.HTML object>"
      ]
     },
     "metadata": {},
     "output_type": "display_data"
    }
   ],
   "source": [
    "%%info"
   ]
  },
  {
   "cell_type": "markdown",
   "id": "39596866",
   "metadata": {},
   "source": [
    "#### Loading Data"
   ]
  },
  {
   "cell_type": "code",
   "execution_count": 75,
   "id": "ea64a830",
   "metadata": {},
   "outputs": [
    {
     "data": {
      "application/vnd.jupyter.widget-view+json": {
       "model_id": "",
       "version_major": 2,
       "version_minor": 0
      },
      "text/plain": [
       "FloatProgress(value=0.0, bar_style='info', description='Progress:', layout=Layout(height='25px', width='50%'),…"
      ]
     },
     "metadata": {},
     "output_type": "display_data"
    }
   ],
   "source": [
    "raw_dataset = \"s3a://bckt-crm-in-prd/row/dataset_filtrado_com_id.parquet/\"\n",
    "recommendations_user = \"s3a://bckt-crm-in-prd/recomendations/user/pp_user_recomendations_04_02_2022_16_37_54.csv/\"\n",
    "recommendations_item = \"s3a://bckt-crm-in-prd/recomendations/item/*.csv/\"\n",
    "sensitivy_items = \"s3a://bckt-crm-in-prd/IN_DATA_ZIP_ENCRYPTED/crm_produtos (2).csv\""
   ]
  },
  {
   "cell_type": "code",
   "execution_count": 76,
   "id": "2f78640e",
   "metadata": {},
   "outputs": [
    {
     "data": {
      "application/vnd.jupyter.widget-view+json": {
       "model_id": "",
       "version_major": 2,
       "version_minor": 0
      },
      "text/plain": [
       "FloatProgress(value=0.0, bar_style='info', description='Progress:', layout=Layout(height='25px', width='50%'),…"
      ]
     },
     "metadata": {},
     "output_type": "display_data"
    }
   ],
   "source": [
    "df_raw = spark\\\n",
    "        .read.format(\"parquet\")\\\n",
    "        .option(\"inferSchema\", \"True\")\\\n",
    "        .option(\"header\", \"True\")\\\n",
    "        .parquet(raw_dataset)"
   ]
  },
  {
   "cell_type": "code",
   "execution_count": 77,
   "id": "b4b7187a",
   "metadata": {},
   "outputs": [
    {
     "data": {
      "application/vnd.jupyter.widget-view+json": {
       "model_id": "",
       "version_major": 2,
       "version_minor": 0
      },
      "text/plain": [
       "FloatProgress(value=0.0, bar_style='info', description='Progress:', layout=Layout(height='25px', width='50%'),…"
      ]
     },
     "metadata": {},
     "output_type": "display_data"
    }
   ],
   "source": [
    "df_recommendations_user = spark\\\n",
    "        .read.format(\"csv\")\\\n",
    "        .option(\"inferSchema\", \"True\")\\\n",
    "        .option(\"header\", \"True\")\\\n",
    "        .load(recommendations_user)"
   ]
  },
  {
   "cell_type": "code",
   "execution_count": 78,
   "id": "81f5cee6",
   "metadata": {},
   "outputs": [
    {
     "data": {
      "application/vnd.jupyter.widget-view+json": {
       "model_id": "",
       "version_major": 2,
       "version_minor": 0
      },
      "text/plain": [
       "FloatProgress(value=0.0, bar_style='info', description='Progress:', layout=Layout(height='25px', width='50%'),…"
      ]
     },
     "metadata": {},
     "output_type": "display_data"
    }
   ],
   "source": [
    "df_recommendations_item = spark\\\n",
    "        .read.format(\"csv\")\\\n",
    "        .option(\"inferSchema\", \"True\")\\\n",
    "        .option(\"header\", \"True\")\\\n",
    "        .load(recommendations_item)"
   ]
  },
  {
   "cell_type": "code",
   "execution_count": 79,
   "id": "64f40fa5",
   "metadata": {
    "scrolled": true
   },
   "outputs": [
    {
     "data": {
      "application/vnd.jupyter.widget-view+json": {
       "model_id": "",
       "version_major": 2,
       "version_minor": 0
      },
      "text/plain": [
       "FloatProgress(value=0.0, bar_style='info', description='Progress:', layout=Layout(height='25px', width='50%'),…"
      ]
     },
     "metadata": {},
     "output_type": "display_data"
    }
   ],
   "source": [
    "df_item_sensity = spark\\\n",
    "        .read.format(\"csv\")\\\n",
    "        .option(\"inferSchema\", \"True\")\\\n",
    "        .option(\"header\", \"True\")\\\n",
    "        .load(sensitivy_items)"
   ]
  },
  {
   "cell_type": "code",
   "execution_count": 80,
   "id": "bdc6d5fb",
   "metadata": {},
   "outputs": [
    {
     "data": {
      "application/vnd.jupyter.widget-view+json": {
       "model_id": "",
       "version_major": 2,
       "version_minor": 0
      },
      "text/plain": [
       "FloatProgress(value=0.0, bar_style='info', description='Progress:', layout=Layout(height='25px', width='50%'),…"
      ]
     },
     "metadata": {},
     "output_type": "display_data"
    },
    {
     "name": "stdout",
     "output_type": "stream",
     "text": [
      "root\n",
      " |-- CUSTOMER_ID: string (nullable = true)\n",
      " |-- SKU: integer (nullable = true)\n",
      " |-- SCORE: double (nullable = true)"
     ]
    }
   ],
   "source": [
    "df_recommendations_user.printSchema()"
   ]
  },
  {
   "cell_type": "code",
   "execution_count": 81,
   "id": "c0c6a24b",
   "metadata": {},
   "outputs": [
    {
     "data": {
      "application/vnd.jupyter.widget-view+json": {
       "model_id": "",
       "version_major": 2,
       "version_minor": 0
      },
      "text/plain": [
       "FloatProgress(value=0.0, bar_style='info', description='Progress:', layout=Layout(height='25px', width='50%'),…"
      ]
     },
     "metadata": {},
     "output_type": "display_data"
    },
    {
     "name": "stdout",
     "output_type": "stream",
     "text": [
      "+--------------------+------+------+\n",
      "|         CUSTOMER_ID|   SKU| SCORE|\n",
      "+--------------------+------+------+\n",
      "|268jjX1Fv2icJol+N...|112511|0.9489|\n",
      "|268jjX1Fv2icJol+N...|993660|0.9463|\n",
      "|268jjX1Fv2icJol+N...|115351| 0.874|\n",
      "|268jjX1Fv2icJol+N...|993650|0.8352|\n",
      "|268jjX1Fv2icJol+N...|860490|0.8329|\n",
      "+--------------------+------+------+\n",
      "only showing top 5 rows"
     ]
    }
   ],
   "source": [
    "df_recommendations_user.show(5)"
   ]
  },
  {
   "cell_type": "markdown",
   "id": "1fef2123",
   "metadata": {},
   "source": [
    "#### Unique itens in recommendations"
   ]
  },
  {
   "cell_type": "code",
   "execution_count": 82,
   "id": "3ccb7725",
   "metadata": {
    "scrolled": true
   },
   "outputs": [
    {
     "data": {
      "application/vnd.jupyter.widget-view+json": {
       "model_id": "",
       "version_major": 2,
       "version_minor": 0
      },
      "text/plain": [
       "FloatProgress(value=0.0, bar_style='info', description='Progress:', layout=Layout(height='25px', width='50%'),…"
      ]
     },
     "metadata": {},
     "output_type": "display_data"
    },
    {
     "name": "stdout",
     "output_type": "stream",
     "text": [
      "4931"
     ]
    }
   ],
   "source": [
    "df_recommendations_user.select('SKU').distinct().count()"
   ]
  },
  {
   "cell_type": "markdown",
   "id": "0bdd82e9",
   "metadata": {},
   "source": [
    "#### Count of recommendations per user"
   ]
  },
  {
   "cell_type": "code",
   "execution_count": 83,
   "id": "a1fcfcab",
   "metadata": {},
   "outputs": [
    {
     "data": {
      "application/vnd.jupyter.widget-view+json": {
       "model_id": "",
       "version_major": 2,
       "version_minor": 0
      },
      "text/plain": [
       "FloatProgress(value=0.0, bar_style='info', description='Progress:', layout=Layout(height='25px', width='50%'),…"
      ]
     },
     "metadata": {},
     "output_type": "display_data"
    },
    {
     "name": "stdout",
     "output_type": "stream",
     "text": [
      "+------------------------+-----+\n",
      "|CUSTOMER_ID             |count|\n",
      "+------------------------+-----+\n",
      "|Tidy6iL9tYlAeDovSyrarw==|50   |\n",
      "|X7zoJYAVf7NYf/S3RMpDLQ==|50   |\n",
      "|Y6VKfd6xj2JQ0s6/QXjsKQ==|50   |\n",
      "|xeaEJTBEuvhJbuXAjPbG3A==|50   |\n",
      "|9cfUuqQcK27DDLAg4PlScA==|50   |\n",
      "|AVtKRGNmtUwSSkJy3BJNTQ==|50   |\n",
      "|t2s6DKpIEGWdZyFot7j+hw==|50   |\n",
      "|xdrEay7ln0L8sR8oa+1wAA==|50   |\n",
      "|kHmLA4iP/X3nOj2DaoPa4g==|50   |\n",
      "|xGV2wFpKBRuhomgK0Zn0yw==|50   |\n",
      "+------------------------+-----+\n",
      "only showing top 10 rows"
     ]
    }
   ],
   "source": [
    "df_recommendations_user.groupby('CUSTOMER_ID').count().show(10, truncate=False)"
   ]
  },
  {
   "cell_type": "code",
   "execution_count": 84,
   "id": "bd872d42",
   "metadata": {},
   "outputs": [
    {
     "data": {
      "application/vnd.jupyter.widget-view+json": {
       "model_id": "",
       "version_major": 2,
       "version_minor": 0
      },
      "text/plain": [
       "FloatProgress(value=0.0, bar_style='info', description='Progress:', layout=Layout(height='25px', width='50%'),…"
      ]
     },
     "metadata": {},
     "output_type": "display_data"
    },
    {
     "name": "stdout",
     "output_type": "stream",
     "text": [
      "root\n",
      " |-- cod_item: string (nullable = true)\n",
      " |-- desc_varejo: string (nullable = true)\n",
      " |-- cod_tipo_item: string (nullable = true)\n",
      " |-- desc_tipo_item: string (nullable = true)\n",
      " |-- cod_grupo: string (nullable = true)\n",
      " |-- desc_grupo: string (nullable = true)\n",
      " |-- cod_subgrupo: string (nullable = true)\n",
      " |-- desc_subgrupo: string (nullable = true)\n",
      " |-- cod_categoria: string (nullable = true)\n",
      " |-- desc_categoria: string (nullable = true)\n",
      " |-- cod_subcategoria: string (nullable = true)\n",
      " |-- desc_subcategoria: string (nullable = true)\n",
      " |-- cod_marca: string (nullable = true)\n",
      " |-- desc_marca: string (nullable = true)\n",
      " |-- cod_sub_marca: string (nullable = true)\n",
      " |-- desc_sub_marca: string (nullable = true)\n",
      " |-- cod_classe_terapeutica: string (nullable = true)\n",
      " |-- desc_classe_terapeutica: string (nullable = true)\n",
      " |-- cod_sub_tipo: string (nullable = true)\n",
      " |-- desc_sub_tipo: string (nullable = true)\n",
      " |-- cod_fabricante: integer (nullable = true)\n",
      " |-- desc_fabricante: string (nullable = true)\n",
      " |-- desc_fabricante_reduzido: string (nullable = true)\n",
      " |-- cod_controle_preco: string (nullable = true)\n",
      " |-- cod_tarja: string (nullable = true)\n",
      " |-- qtd_embalagem: integer (nullable = true)\n",
      " |-- flag_marca_propria: string (nullable = true)\n",
      " |-- flag_bloqueio_promocao: string (nullable = true)\n",
      " |-- flag_psicotropico: string (nullable = true)\n",
      " |-- flag_baby_list: string (nullable = true)\n",
      " |-- flag_otc: string (nullable = true)\n",
      " |-- flag_uso_continuo: string (nullable = true)\n",
      " |-- flag_farm_popular: string (nullable = true)\n",
      " |-- data_inclusao: string (nullable = true)\n",
      " |-- data_exclusao: string (nullable = true)\n",
      " |-- flag_item_sensivel: string (nullable = true)\n",
      " |-- concentracao: string (nullable = true)\n",
      " |-- unid_composicao: string (nullable = true)\n",
      " |-- composicao: string (nullable = true)\n",
      " |-- desc_apresentacao: string (nullable = true)"
     ]
    }
   ],
   "source": [
    "df_item_sensity.printSchema()"
   ]
  },
  {
   "cell_type": "code",
   "execution_count": 85,
   "id": "3f5d3edb",
   "metadata": {},
   "outputs": [
    {
     "data": {
      "application/vnd.jupyter.widget-view+json": {
       "model_id": "",
       "version_major": 2,
       "version_minor": 0
      },
      "text/plain": [
       "FloatProgress(value=0.0, bar_style='info', description='Progress:', layout=Layout(height='25px', width='50%'),…"
      ]
     },
     "metadata": {},
     "output_type": "display_data"
    },
    {
     "name": "stdout",
     "output_type": "stream",
     "text": [
      "+--------+--------------------+-------------+--------------+---------+--------------------+------------+--------------------+-------------+--------------+----------------+-----------------+---------+--------------------+-------------+--------------+----------------------+-----------------------+------------+-------------+--------------+--------------------+------------------------+------------------+---------+-------------+------------------+----------------------+-----------------+--------------+--------+-----------------+-----------------+-------------------+-------------+------------------+------------+---------------+----------+-----------------+\n",
      "|cod_item|         desc_varejo|cod_tipo_item|desc_tipo_item|cod_grupo|          desc_grupo|cod_subgrupo|       desc_subgrupo|cod_categoria|desc_categoria|cod_subcategoria|desc_subcategoria|cod_marca|          desc_marca|cod_sub_marca|desc_sub_marca|cod_classe_terapeutica|desc_classe_terapeutica|cod_sub_tipo|desc_sub_tipo|cod_fabricante|     desc_fabricante|desc_fabricante_reduzido|cod_controle_preco|cod_tarja|qtd_embalagem|flag_marca_propria|flag_bloqueio_promocao|flag_psicotropico|flag_baby_list|flag_otc|flag_uso_continuo|flag_farm_popular|      data_inclusao|data_exclusao|flag_item_sensivel|concentracao|unid_composicao|composicao|desc_apresentacao|\n",
      "+--------+--------------------+-------------+--------------+---------+--------------------+------------+--------------------+-------------+--------------+----------------+-----------------+---------+--------------------+-------------+--------------+----------------------+-----------------------+------------+-------------+--------------+--------------------+------------------------+------------------+---------+-------------+------------------+----------------------+-----------------+--------------+--------+-----------------+-----------------+-------------------+-------------+------------------+------------+---------------+----------+-----------------+\n",
      "|  657110|ACIDO ACETICO 2% ...|            1|   MEDICAMENTO|     1174|LABORATÓRIO MANIP...|        1174|LABORATÓRIO MANIP...|            0|  NAO DEFINIDO|               0|     NAO DEFINIDO|     3032|FAMILIA 70000 - P...|            0|  NAO DEFINIDO|                  NULL|                   NULL|           M|   MANIPULADO|           112|DIMED S/A DISTRIB...|          ATACADO PV POA|                 L|        V|            1|                 N|                     S|                N|             N|       N|                N|                N|2013-05-28 11:45:33|         NULL|                 N|           0|              0|         0|             NULL|\n",
      "|  999160|CAFEINA SOL ORAL ...|            1|   MEDICAMENTO|     1174|LABORATÓRIO MANIP...|        1174|LABORATÓRIO MANIP...|            0|  NAO DEFINIDO|               0|     NAO DEFINIDO|     3032|FAMILIA 70000 - P...|            0|  NAO DEFINIDO|                   300|   PRODUTO DE USO HO...|           M|   MANIPULADO|           112|DIMED S/A DISTRIB...|          ATACADO PV POA|                 L|        V|            1|                 N|                     S|                N|             N|       N|                N|                N|2009-01-10 11:43:24|         NULL|                 N|           0|              0|         0|             NULL|\n",
      "|  113401|FOSFORO ELEM 25MM...|            1|   MEDICAMENTO|     1174|LABORATÓRIO MANIP...|        1174|LABORATÓRIO MANIP...|            0|  NAO DEFINIDO|               0|     NAO DEFINIDO|     3032|FAMILIA 70000 - P...|            0|  NAO DEFINIDO|                  NULL|                   NULL|           M|   MANIPULADO|           112|DIMED S/A DISTRIB...|          ATACADO PV POA|                 L|        V|            1|                 N|                     S|                N|             N|       N|                N|                N|2019-11-21 14:31:16|         NULL|                 N|           0|              0|         0|             NULL|\n",
      "+--------+--------------------+-------------+--------------+---------+--------------------+------------+--------------------+-------------+--------------+----------------+-----------------+---------+--------------------+-------------+--------------+----------------------+-----------------------+------------+-------------+--------------+--------------------+------------------------+------------------+---------+-------------+------------------+----------------------+-----------------+--------------+--------+-----------------+-----------------+-------------------+-------------+------------------+------------+---------------+----------+-----------------+\n",
      "only showing top 3 rows"
     ]
    }
   ],
   "source": [
    "df_item_sensity.show(3)"
   ]
  },
  {
   "cell_type": "markdown",
   "id": "0e5904e1",
   "metadata": {},
   "source": [
    "#### Select only non sensitivy items."
   ]
  },
  {
   "cell_type": "code",
   "execution_count": 86,
   "id": "ffa18197",
   "metadata": {},
   "outputs": [
    {
     "data": {
      "application/vnd.jupyter.widget-view+json": {
       "model_id": "",
       "version_major": 2,
       "version_minor": 0
      },
      "text/plain": [
       "FloatProgress(value=0.0, bar_style='info', description='Progress:', layout=Layout(height='25px', width='50%'),…"
      ]
     },
     "metadata": {},
     "output_type": "display_data"
    }
   ],
   "source": [
    "from pyspark.sql.functions import col\n",
    " \n",
    "n_sensiveis = df_item_sensity.filter(\n",
    "    (df_item_sensity.flag_item_sensivel == \"N\") & ((df_item_sensity.flag_otc == \"S\") | \n",
    "                                                   (df_item_sensity.desc_tipo_item == \"HB\"))).select(col(\"cod_item\"))"
   ]
  },
  {
   "cell_type": "code",
   "execution_count": 87,
   "id": "6e69102d",
   "metadata": {},
   "outputs": [
    {
     "data": {
      "application/vnd.jupyter.widget-view+json": {
       "model_id": "",
       "version_major": 2,
       "version_minor": 0
      },
      "text/plain": [
       "FloatProgress(value=0.0, bar_style='info', description='Progress:', layout=Layout(height='25px', width='50%'),…"
      ]
     },
     "metadata": {},
     "output_type": "display_data"
    },
    {
     "name": "stdout",
     "output_type": "stream",
     "text": [
      "+--------+\n",
      "|cod_item|\n",
      "+--------+\n",
      "|  994930|\n",
      "|  629200|\n",
      "|  515170|\n",
      "+--------+\n",
      "only showing top 3 rows"
     ]
    }
   ],
   "source": [
    "n_sensiveis.show(3)"
   ]
  },
  {
   "cell_type": "markdown",
   "id": "e2cd0dfa",
   "metadata": {},
   "source": [
    "#### Transform data on integer."
   ]
  },
  {
   "cell_type": "code",
   "execution_count": 88,
   "id": "92a5b7d0",
   "metadata": {},
   "outputs": [
    {
     "data": {
      "application/vnd.jupyter.widget-view+json": {
       "model_id": "",
       "version_major": 2,
       "version_minor": 0
      },
      "text/plain": [
       "FloatProgress(value=0.0, bar_style='info', description='Progress:', layout=Layout(height='25px', width='50%'),…"
      ]
     },
     "metadata": {},
     "output_type": "display_data"
    }
   ],
   "source": [
    "n_sensiveis = n_sensiveis.\\\n",
    "        withColumn(\"cod_item\", col(\"cod_item\").cast(\"integer\"))"
   ]
  },
  {
   "cell_type": "markdown",
   "id": "c1b39a25",
   "metadata": {},
   "source": [
    "## Filter Sensitivy Items on User Recommendations"
   ]
  },
  {
   "cell_type": "markdown",
   "id": "f6dad4fb",
   "metadata": {},
   "source": [
    "#### Create Dataframe from join with only sensitivy items."
   ]
  },
  {
   "cell_type": "code",
   "execution_count": 89,
   "id": "9aff8588",
   "metadata": {},
   "outputs": [
    {
     "data": {
      "application/vnd.jupyter.widget-view+json": {
       "model_id": "",
       "version_major": 2,
       "version_minor": 0
      },
      "text/plain": [
       "FloatProgress(value=0.0, bar_style='info', description='Progress:', layout=Layout(height='25px', width='50%'),…"
      ]
     },
     "metadata": {},
     "output_type": "display_data"
    },
    {
     "name": "stdout",
     "output_type": "stream",
     "text": [
      "+--------------------+------+------+--------+\n",
      "|         CUSTOMER_ID|   SKU| SCORE|cod_item|\n",
      "+--------------------+------+------+--------+\n",
      "|268jjX1Fv2icJol+N...|112511|0.9489|  112511|\n",
      "|268jjX1Fv2icJol+N...|993660|0.9463|  993660|\n",
      "|268jjX1Fv2icJol+N...|115351| 0.874|  115351|\n",
      "|268jjX1Fv2icJol+N...|993650|0.8352|  993650|\n",
      "|268jjX1Fv2icJol+N...|832350|0.7487|  832350|\n",
      "+--------------------+------+------+--------+\n",
      "only showing top 5 rows"
     ]
    }
   ],
   "source": [
    "merge_users = df_recommendations_user.join(n_sensiveis, df_recommendations_user[\"SKU\"] == n_sensiveis[\"cod_item\"])\n",
    "merge_users.show(5)"
   ]
  },
  {
   "cell_type": "code",
   "execution_count": 90,
   "id": "d1bc5504",
   "metadata": {},
   "outputs": [
    {
     "data": {
      "application/vnd.jupyter.widget-view+json": {
       "model_id": "",
       "version_major": 2,
       "version_minor": 0
      },
      "text/plain": [
       "FloatProgress(value=0.0, bar_style='info', description='Progress:', layout=Layout(height='25px', width='50%'),…"
      ]
     },
     "metadata": {},
     "output_type": "display_data"
    }
   ],
   "source": [
    "merge_users = merge_users.drop(\"cod_item\")"
   ]
  },
  {
   "cell_type": "code",
   "execution_count": 91,
   "id": "afe98d56",
   "metadata": {},
   "outputs": [
    {
     "data": {
      "application/vnd.jupyter.widget-view+json": {
       "model_id": "",
       "version_major": 2,
       "version_minor": 0
      },
      "text/plain": [
       "FloatProgress(value=0.0, bar_style='info', description='Progress:', layout=Layout(height='25px', width='50%'),…"
      ]
     },
     "metadata": {},
     "output_type": "display_data"
    },
    {
     "name": "stdout",
     "output_type": "stream",
     "text": [
      "(131812009, 3)"
     ]
    }
   ],
   "source": [
    "print((merge_users.count(), len(merge_users.columns)))"
   ]
  },
  {
   "cell_type": "markdown",
   "id": "084c244d",
   "metadata": {},
   "source": [
    "#### Unique itens in recommendations"
   ]
  },
  {
   "cell_type": "code",
   "execution_count": 118,
   "id": "678b26c1",
   "metadata": {
    "scrolled": false
   },
   "outputs": [
    {
     "data": {
      "application/vnd.jupyter.widget-view+json": {
       "model_id": "",
       "version_major": 2,
       "version_minor": 0
      },
      "text/plain": [
       "FloatProgress(value=0.0, bar_style='info', description='Progress:', layout=Layout(height='25px', width='50%'),…"
      ]
     },
     "metadata": {},
     "output_type": "display_data"
    },
    {
     "name": "stdout",
     "output_type": "stream",
     "text": [
      "3846176"
     ]
    }
   ],
   "source": [
    "merge_users.select('CUSTOMER_ID').distinct().count()"
   ]
  },
  {
   "cell_type": "markdown",
   "id": "1daf14d2",
   "metadata": {},
   "source": [
    "### Results validation"
   ]
  },
  {
   "cell_type": "code",
   "execution_count": 176,
   "id": "a545dffd",
   "metadata": {
    "scrolled": false
   },
   "outputs": [
    {
     "data": {
      "application/vnd.jupyter.widget-view+json": {
       "model_id": "",
       "version_major": 2,
       "version_minor": 0
      },
      "text/plain": [
       "FloatProgress(value=0.0, bar_style='info', description='Progress:', layout=Layout(height='25px', width='50%'),…"
      ]
     },
     "metadata": {},
     "output_type": "display_data"
    }
   ],
   "source": [
    "ids_validations = ['DCFzrBYQbjQWZqnVozxKsQ==' ]\n",
    "df_validation = df_raw.filter(df_raw['cpf'].isin(ids_validations))"
   ]
  },
  {
   "cell_type": "code",
   "execution_count": 177,
   "id": "8fba128c",
   "metadata": {},
   "outputs": [
    {
     "data": {
      "application/vnd.jupyter.widget-view+json": {
       "model_id": "",
       "version_major": 2,
       "version_minor": 0
      },
      "text/plain": [
       "FloatProgress(value=0.0, bar_style='info', description='Progress:', layout=Layout(height='25px', width='50%'),…"
      ]
     },
     "metadata": {},
     "output_type": "display_data"
    }
   ],
   "source": [
    "df_rec = merge_users"
   ]
  },
  {
   "cell_type": "code",
   "execution_count": 178,
   "id": "27b8652d",
   "metadata": {},
   "outputs": [
    {
     "data": {
      "application/vnd.jupyter.widget-view+json": {
       "model_id": "",
       "version_major": 2,
       "version_minor": 0
      },
      "text/plain": [
       "FloatProgress(value=0.0, bar_style='info', description='Progress:', layout=Layout(height='25px', width='50%'),…"
      ]
     },
     "metadata": {},
     "output_type": "display_data"
    },
    {
     "name": "stdout",
     "output_type": "stream",
     "text": [
      "root\n",
      " |-- CUSTOMER_ID: string (nullable = true)\n",
      " |-- SKU: integer (nullable = true)\n",
      " |-- SCORE: double (nullable = true)"
     ]
    }
   ],
   "source": [
    "df_rec.printSchema()"
   ]
  },
  {
   "cell_type": "code",
   "execution_count": 179,
   "id": "70e122d6",
   "metadata": {},
   "outputs": [
    {
     "data": {
      "application/vnd.jupyter.widget-view+json": {
       "model_id": "",
       "version_major": 2,
       "version_minor": 0
      },
      "text/plain": [
       "FloatProgress(value=0.0, bar_style='info', description='Progress:', layout=Layout(height='25px', width='50%'),…"
      ]
     },
     "metadata": {},
     "output_type": "display_data"
    },
    {
     "name": "stdout",
     "output_type": "stream",
     "text": [
      "root\n",
      " |-- cpf: string (nullable = true)\n",
      " |-- cod_item: long (nullable = true)\n",
      " |-- qtd_efetiva: long (nullable = true)\n",
      " |-- desc_varejo: string (nullable = true)\n",
      " |-- desc_grupo: string (nullable = true)\n",
      " |-- flag_item_sensivel: string (nullable = true)\n",
      " |-- desc_categoria: string (nullable = true)\n",
      " |-- flag_otc: string (nullable = true)\n",
      " |-- desc_tipo_item: string (nullable = true)\n",
      " |-- customer_id: long (nullable = true)"
     ]
    }
   ],
   "source": [
    "df_raw.printSchema()"
   ]
  },
  {
   "cell_type": "markdown",
   "id": "4f6c3ae9",
   "metadata": {},
   "source": [
    "#### Recommendation Validation Dataset"
   ]
  },
  {
   "cell_type": "code",
   "execution_count": 180,
   "id": "218bef2b",
   "metadata": {},
   "outputs": [
    {
     "data": {
      "application/vnd.jupyter.widget-view+json": {
       "model_id": "",
       "version_major": 2,
       "version_minor": 0
      },
      "text/plain": [
       "FloatProgress(value=0.0, bar_style='info', description='Progress:', layout=Layout(height='25px', width='50%'),…"
      ]
     },
     "metadata": {},
     "output_type": "display_data"
    }
   ],
   "source": [
    "df_rec_validation = df_rec.filter(df_rec['CUSTOMER_ID'].isin(ids_validations))"
   ]
  },
  {
   "cell_type": "code",
   "execution_count": 181,
   "id": "024f11d7",
   "metadata": {},
   "outputs": [
    {
     "data": {
      "application/vnd.jupyter.widget-view+json": {
       "model_id": "",
       "version_major": 2,
       "version_minor": 0
      },
      "text/plain": [
       "FloatProgress(value=0.0, bar_style='info', description='Progress:', layout=Layout(height='25px', width='50%'),…"
      ]
     },
     "metadata": {},
     "output_type": "display_data"
    },
    {
     "name": "stdout",
     "output_type": "stream",
     "text": [
      "+--------------------+------+------+\n",
      "|         CUSTOMER_ID|   SKU| SCORE|\n",
      "+--------------------+------+------+\n",
      "|DCFzrBYQbjQWZqnVo...|483870|1.1574|\n",
      "|DCFzrBYQbjQWZqnVo...|993910|1.1464|\n",
      "+--------------------+------+------+\n",
      "only showing top 2 rows"
     ]
    }
   ],
   "source": [
    "df_rec_validation.show(2)"
   ]
  },
  {
   "cell_type": "code",
   "execution_count": 182,
   "id": "a89ec4bb",
   "metadata": {},
   "outputs": [
    {
     "data": {
      "application/vnd.jupyter.widget-view+json": {
       "model_id": "",
       "version_major": 2,
       "version_minor": 0
      },
      "text/plain": [
       "FloatProgress(value=0.0, bar_style='info', description='Progress:', layout=Layout(height='25px', width='50%'),…"
      ]
     },
     "metadata": {},
     "output_type": "display_data"
    }
   ],
   "source": [
    "df_rec_validation = df_rec_validation.join(df_item_sensity, df_rec_validation[\"SKU\"] == df_item_sensity[\"cod_item\"])"
   ]
  },
  {
   "cell_type": "code",
   "execution_count": 183,
   "id": "5484f08f",
   "metadata": {},
   "outputs": [
    {
     "data": {
      "application/vnd.jupyter.widget-view+json": {
       "model_id": "",
       "version_major": 2,
       "version_minor": 0
      },
      "text/plain": [
       "FloatProgress(value=0.0, bar_style='info', description='Progress:', layout=Layout(height='25px', width='50%'),…"
      ]
     },
     "metadata": {},
     "output_type": "display_data"
    },
    {
     "name": "stdout",
     "output_type": "stream",
     "text": [
      "+--------------------+-----+\n",
      "|         CUSTOMER_ID|count|\n",
      "+--------------------+-----+\n",
      "|DCFzrBYQbjQWZqnVo...|   43|\n",
      "+--------------------+-----+"
     ]
    }
   ],
   "source": [
    "df_rec_validation.groupby('CUSTOMER_ID').count().show()"
   ]
  },
  {
   "cell_type": "code",
   "execution_count": 184,
   "id": "3a31b76f",
   "metadata": {},
   "outputs": [
    {
     "data": {
      "application/vnd.jupyter.widget-view+json": {
       "model_id": "",
       "version_major": 2,
       "version_minor": 0
      },
      "text/plain": [
       "FloatProgress(value=0.0, bar_style='info', description='Progress:', layout=Layout(height='25px', width='50%'),…"
      ]
     },
     "metadata": {},
     "output_type": "display_data"
    },
    {
     "name": "stdout",
     "output_type": "stream",
     "text": [
      "+--------------------+-----+\n",
      "|         CUSTOMER_ID|count|\n",
      "+--------------------+-----+\n",
      "|DCFzrBYQbjQWZqnVo...|   43|\n",
      "+--------------------+-----+"
     ]
    }
   ],
   "source": [
    "df_rec_validation.groupby('CUSTOMER_ID').count().show()"
   ]
  },
  {
   "cell_type": "code",
   "execution_count": 185,
   "id": "cf9bbb1a",
   "metadata": {},
   "outputs": [
    {
     "data": {
      "application/vnd.jupyter.widget-view+json": {
       "model_id": "",
       "version_major": 2,
       "version_minor": 0
      },
      "text/plain": [
       "FloatProgress(value=0.0, bar_style='info', description='Progress:', layout=Layout(height='25px', width='50%'),…"
      ]
     },
     "metadata": {},
     "output_type": "display_data"
    },
    {
     "name": "stdout",
     "output_type": "stream",
     "text": [
      "+--------------------+------+--------------------+-----------------+------+\n",
      "|         CUSTOMER_ID|   SKU|         desc_varejo|       desc_grupo| SCORE|\n",
      "+--------------------+------+--------------------+-----------------+------+\n",
      "|DCFzrBYQbjQWZqnVo...|483870|SAL DE FRUTA ENO ...|GASTROINTESTINAIS|1.1574|\n",
      "|DCFzrBYQbjQWZqnVo...|993910|NAPROXENO 550MG 1...|      DOR E FEBRE|1.1464|\n",
      "+--------------------+------+--------------------+-----------------+------+\n",
      "only showing top 2 rows"
     ]
    }
   ],
   "source": [
    "df_rec_validation.select(\n",
    "    'CUSTOMER_ID','SKU','desc_varejo','desc_grupo','SCORE'\n",
    "    ).show(2)"
   ]
  },
  {
   "cell_type": "markdown",
   "id": "39567a4e",
   "metadata": {},
   "source": [
    "#### Compras"
   ]
  },
  {
   "cell_type": "code",
   "execution_count": 186,
   "id": "5f1506d7",
   "metadata": {},
   "outputs": [
    {
     "data": {
      "application/vnd.jupyter.widget-view+json": {
       "model_id": "",
       "version_major": 2,
       "version_minor": 0
      },
      "text/plain": [
       "FloatProgress(value=0.0, bar_style='info', description='Progress:', layout=Layout(height='25px', width='50%'),…"
      ]
     },
     "metadata": {},
     "output_type": "display_data"
    },
    {
     "name": "stdout",
     "output_type": "stream",
     "text": [
      "+------------------------+--------------------------------------+---------------------+--------+\n",
      "|cpf                     |desc_varejo                           |desc_grupo           |cod_item|\n",
      "+------------------------+--------------------------------------+---------------------+--------+\n",
      "|DCFzrBYQbjQWZqnVozxKsQ==|OMEPRAZOL 20MG 28CAP NEOQ GEN         |GASTROINTESTINAIS    |707020  |\n",
      "|DCFzrBYQbjQWZqnVozxKsQ==|LÂM GILLETTE MACH3 SENSIT LEV 4 PAG 3 |MASCULINO            |872280  |\n",
      "|DCFzrBYQbjQWZqnVozxKsQ==|SAB LIQ PANVEL SEMPBEM AMOR REFIL200ML|SABONETE E ACESSORIOS|118461  |\n",
      "|DCFzrBYQbjQWZqnVozxKsQ==|DESOD REXONA MEN AER ACTIVE 2X90G+50% |DESODORANTE          |816690  |\n",
      "|DCFzrBYQbjQWZqnVozxKsQ==|SAB LIQ RFL LUX FLOR DE LÓTUS 200ML   |SABONETE E ACESSORIOS|119848  |\n",
      "|DCFzrBYQbjQWZqnVozxKsQ==|PROT SOL C&B F30 200ML GTS FAC F30 50G|PRODUTOS PARA O CORPO|119063  |\n",
      "|DCFzrBYQbjQWZqnVozxKsQ==|LISADOR DIP 1G 10CP                   |DOR E FEBRE          |869680  |\n",
      "|DCFzrBYQbjQWZqnVozxKsQ==|ESC DENT ORAL-B INDICAT COLOR 30 C/4  |HIGIENE BUCAL        |111843  |\n",
      "|DCFzrBYQbjQWZqnVozxKsQ==|LORATADINA 10MG 12 CP BIOS GEN        |GRIPES E RESFRIADOS  |478740  |\n",
      "|DCFzrBYQbjQWZqnVozxKsQ==|SAB LIQ RFL LUX BUQUE DE JASMIM 200ML |SABONETE E ACESSORIOS|119844  |\n",
      "|DCFzrBYQbjQWZqnVozxKsQ==|AEROLIN 2MG 20 CP                     |ALERGIAS E INFECÇÕES |2089    |\n",
      "|DCFzrBYQbjQWZqnVozxKsQ==|LORATADINA 10MG 12 CP NEOQ GEN        |GRIPES E RESFRIADOS  |157190  |\n",
      "|DCFzrBYQbjQWZqnVozxKsQ==|DESO AERO REXONA ACTIVE DRY 250ML L+P-|DESODORANTE          |105441  |\n",
      "|DCFzrBYQbjQWZqnVozxKsQ==|HEPALINA FLAC 10ML AV                 |GASTROINTESTINAIS    |440700  |\n",
      "|DCFzrBYQbjQWZqnVozxKsQ==|TOALHA UMED PANVEL BABY C/48 LV4PG3 20|INFANTIL             |112085  |\n",
      "|DCFzrBYQbjQWZqnVozxKsQ==|OMEPRAZOL 20MG 28CAP NEOQ GEN         |GASTROINTESTINAIS    |707020  |\n",
      "|DCFzrBYQbjQWZqnVozxKsQ==|EPOCLER ABACAX FLAC 10ML AV           |GASTROINTESTINAIS    |76937   |\n",
      "|DCFzrBYQbjQWZqnVozxKsQ==|BISOLVON XPE AD 120ML                 |GRIPES E RESFRIADOS  |382671  |\n",
      "|DCFzrBYQbjQWZqnVozxKsQ==|CRE DENT CLOSEUP PROT. ANTIACUCAR 70G |HIGIENE BUCAL        |118830  |\n",
      "|DCFzrBYQbjQWZqnVozxKsQ==|ENXAG BUC PANVEL ORAL HORTELA 300ML 18|HIGIENE BUCAL        |847220  |\n",
      "|DCFzrBYQbjQWZqnVozxKsQ==|PROT SOL NIVEA FPS 50 200 GTS F50 100 |PRODUTOS PARA O CORPO|114874  |\n",
      "|DCFzrBYQbjQWZqnVozxKsQ==|BENEGRIP 500MG 6CP AV                 |GRIPES E RESFRIADOS  |840740  |\n",
      "|DCFzrBYQbjQWZqnVozxKsQ==|SAL DE FRUTA ENO 5G 2ENV AV           |GASTROINTESTINAIS    |483870  |\n",
      "|DCFzrBYQbjQWZqnVozxKsQ==|EPOCLER ABACAX FLAC 10ML AV           |GASTROINTESTINAIS    |76937   |\n",
      "|DCFzrBYQbjQWZqnVozxKsQ==|OMEPRAZOL 20MG 28CAP NEOQ GEN         |GASTROINTESTINAIS    |707020  |\n",
      "|DCFzrBYQbjQWZqnVozxKsQ==|LAM GILLETTE MACH3 REGULAR LEV4 PAG3  |MASCULINO            |109523  |\n",
      "|DCFzrBYQbjQWZqnVozxKsQ==|PRESERV JONTEX CONFORT PLUS BOLSO C/3 |MASCULINO            |323349  |\n",
      "|DCFzrBYQbjQWZqnVozxKsQ==|SPRAY PRÓPOLIS C/ GENG APIS VIDA 30ML |GRIPES E RESFRIADOS  |112179  |\n",
      "|DCFzrBYQbjQWZqnVozxKsQ==|SPRAY PROP COM GUACO PANVEL AV 30ML 19|GRIPES E RESFRIADOS  |116226  |\n",
      "|DCFzrBYQbjQWZqnVozxKsQ==|AEROLIN 2MG 20 CP                     |ALERGIAS E INFECÇÕES |2089    |\n",
      "|DCFzrBYQbjQWZqnVozxKsQ==|EPOCLER ABACAX FLAC 10ML AV           |GASTROINTESTINAIS    |76937   |\n",
      "+------------------------+--------------------------------------+---------------------+--------+"
     ]
    }
   ],
   "source": [
    "df_validation.filter(df_validation.cpf == 'DCFzrBYQbjQWZqnVozxKsQ==').select(\n",
    "    'cpf','desc_varejo','desc_grupo','cod_item'\n",
    "    ).show(50, truncate = False)"
   ]
  },
  {
   "cell_type": "markdown",
   "id": "86047063",
   "metadata": {},
   "source": [
    "#### Recomendações"
   ]
  },
  {
   "cell_type": "code",
   "execution_count": 187,
   "id": "f676ff97",
   "metadata": {},
   "outputs": [
    {
     "data": {
      "application/vnd.jupyter.widget-view+json": {
       "model_id": "",
       "version_major": 2,
       "version_minor": 0
      },
      "text/plain": [
       "FloatProgress(value=0.0, bar_style='info', description='Progress:', layout=Layout(height='25px', width='50%'),…"
      ]
     },
     "metadata": {},
     "output_type": "display_data"
    },
    {
     "name": "stdout",
     "output_type": "stream",
     "text": [
      "+------------------------+------+--------------------------------------+-----------------------+------+\n",
      "|CUSTOMER_ID             |SKU   |desc_varejo                           |desc_grupo             |SCORE |\n",
      "+------------------------+------+--------------------------------------+-----------------------+------+\n",
      "|DCFzrBYQbjQWZqnVozxKsQ==|483870|SAL DE FRUTA ENO 5G 2ENV AV           |GASTROINTESTINAIS      |1.1574|\n",
      "|DCFzrBYQbjQWZqnVozxKsQ==|993910|NAPROXENO 550MG 10 CP NEOQ GEN C      |DOR E FEBRE            |1.1464|\n",
      "|DCFzrBYQbjQWZqnVozxKsQ==|670160|PARACETAMOL 500MG 20 CP PRATI GEN     |DOR E FEBRE            |1.1279|\n",
      "|DCFzrBYQbjQWZqnVozxKsQ==|109532|ENO MENTA 8 PASTILHAS MASTIGAVEIS AV  |GASTROINTESTINAIS      |1.0312|\n",
      "|DCFzrBYQbjQWZqnVozxKsQ==|591080|HYABAK 0,15% COL10ML                  |CUIDADOS COM OLHOS     |1.0206|\n",
      "|DCFzrBYQbjQWZqnVozxKsQ==|370126|STILGRIP GRAN 5G AV CH                |GRIPES E RESFRIADOS    |1.0083|\n",
      "|DCFzrBYQbjQWZqnVozxKsQ==|156550|PARACETAMOL 750MG 20 CP NEOQ GEN      |DOR E FEBRE            |0.9951|\n",
      "|DCFzrBYQbjQWZqnVozxKsQ==|687020|AGUA MIN AGUA PEDRA C/GAS 500ML       |ALIMENTO               |0.9707|\n",
      "|DCFzrBYQbjQWZqnVozxKsQ==|868710|MAGNESIA BISURADA 10 PAST AV CH       |GASTROINTESTINAIS      |0.9671|\n",
      "|DCFzrBYQbjQWZqnVozxKsQ==|115231|AGUA MINERAL PANVEL LEVE COM GAS 500ML|ALIMENTO               |0.9473|\n",
      "|DCFzrBYQbjQWZqnVozxKsQ==|847080|ESCOVA PANVEL ORAL POCKET MC          |HIGIENE BUCAL          |0.9426|\n",
      "|DCFzrBYQbjQWZqnVozxKsQ==|996120|ALLEGRA PED SUSP 60ML                 |GRIPES E RESFRIADOS    |0.9367|\n",
      "|DCFzrBYQbjQWZqnVozxKsQ==|111868|MANTEIGA DE CACAU VIVAZ FPS8 3,3G AV  |TRATAMENTO FACIAL      |0.9173|\n",
      "|DCFzrBYQbjQWZqnVozxKsQ==|840740|BENEGRIP 500MG 6CP AV                 |GRIPES E RESFRIADOS    |0.9171|\n",
      "|DCFzrBYQbjQWZqnVozxKsQ==|624360|DIPIRONA SOD 1G 10CP NEOQ GEN         |DOR E FEBRE            |0.9014|\n",
      "|DCFzrBYQbjQWZqnVozxKsQ==|115486|KIT ELSEVE LONGO SONHO SH 375+CO 170ML|CABELOS                |0.8977|\n",
      "|DCFzrBYQbjQWZqnVozxKsQ==|385824|BUSCOPAN COMPOSTO 20 CP REV           |DOR E FEBRE            |0.8966|\n",
      "|DCFzrBYQbjQWZqnVozxKsQ==|114874|PROT SOL NIVEA FPS 50 200 GTS F50 100 |PRODUTOS PARA O CORPO  |0.8925|\n",
      "|DCFzrBYQbjQWZqnVozxKsQ==|118830|CRE DENT CLOSEUP PROT. ANTIACUCAR 70G |HIGIENE BUCAL          |0.8572|\n",
      "|DCFzrBYQbjQWZqnVozxKsQ==|157190|LORATADINA 10MG 12 CP NEOQ GEN        |GRIPES E RESFRIADOS    |0.8048|\n",
      "|DCFzrBYQbjQWZqnVozxKsQ==|304940|RED BULL ORIGINAL 250ML AV            |ALIMENTO               |0.7949|\n",
      "|DCFzrBYQbjQWZqnVozxKsQ==|802450|LUFTA GASTRO PRO 10ML AV              |GASTROINTESTINAIS      |0.7885|\n",
      "|DCFzrBYQbjQWZqnVozxKsQ==|114255|LENCOS UMED PANVEL BABY 90UN 21       |INFANTIL               |0.7882|\n",
      "|DCFzrBYQbjQWZqnVozxKsQ==|116167|KURAMED SPRAY 50ML                    |FERIMENTOS E CONTUSÕES |0.7878|\n",
      "|DCFzrBYQbjQWZqnVozxKsQ==|445400|DORIL ENXAQUECA 18CP                  |DOR E FEBRE            |0.7757|\n",
      "|DCFzrBYQbjQWZqnVozxKsQ==|115103|BEPANTOL DERMA CREME TOQUE SECO 30G   |PRODUTOS PARA O CORPO  |0.7666|\n",
      "|DCFzrBYQbjQWZqnVozxKsQ==|100580|DORIL ENXAQUECA 4CP AV                |DOR E FEBRE            |0.76  |\n",
      "|DCFzrBYQbjQWZqnVozxKsQ==|878990|VITAMINA C KIDS PANVEL VITA 30 GOMAS  |VITAMINAS E SUPLEMENTOS|0.7431|\n",
      "|DCFzrBYQbjQWZqnVozxKsQ==|478740|LORATADINA 10MG 12 CP BIOS GEN        |GRIPES E RESFRIADOS    |0.7421|\n",
      "|DCFzrBYQbjQWZqnVozxKsQ==|111504|KIT PANTENE REST PROF SH 350ML+CO175ML|CABELOS                |0.7406|\n",
      "|DCFzrBYQbjQWZqnVozxKsQ==|111506|KIT PANTENE HIDRATAC SH 350ML+CO175ML |CABELOS                |0.7269|\n",
      "|DCFzrBYQbjQWZqnVozxKsQ==|3018  |BUSCOPAN 10MG 20 DR                   |DOR E FEBRE            |0.7229|\n",
      "|DCFzrBYQbjQWZqnVozxKsQ==|869680|LISADOR DIP 1G 10CP                   |DOR E FEBRE            |0.7183|\n",
      "|DCFzrBYQbjQWZqnVozxKsQ==|942290|G.MASCAR TRIDENT MELANCIA AV          |ALIMENTO               |0.718 |\n",
      "|DCFzrBYQbjQWZqnVozxKsQ==|112085|TOALHA UMED PANVEL BABY C/48 LV4PG3 20|INFANTIL               |0.7154|\n",
      "|DCFzrBYQbjQWZqnVozxKsQ==|195570|BUSCODUO 500 MG 20 CP REV             |DOR E FEBRE            |0.7135|\n",
      "|DCFzrBYQbjQWZqnVozxKsQ==|105441|DESO AERO REXONA ACTIVE DRY 250ML L+P-|DESODORANTE            |0.712 |\n",
      "|DCFzrBYQbjQWZqnVozxKsQ==|118493|KIT PANTENE MICELAR SH400ML+CO175ML   |CABELOS                |0.7116|\n",
      "|DCFzrBYQbjQWZqnVozxKsQ==|409300|CRE DENT COLGATE TRIPLA AÇÃO 90G      |HIGIENE BUCAL          |0.711 |\n",
      "|DCFzrBYQbjQWZqnVozxKsQ==|564860|NOVALGINA 1G 4 CP AVULSO CH           |DOR E FEBRE            |0.7094|\n",
      "|DCFzrBYQbjQWZqnVozxKsQ==|117880|REMOV ESM ARGAN 100ML PANVEL.20       |MAOS E PES             |0.7073|\n",
      "|DCFzrBYQbjQWZqnVozxKsQ==|108213|LAP P/OLHOS PANVEL MAKEUP PRETO 1,1G  |MAQUIAGEM              |0.7068|\n",
      "|DCFzrBYQbjQWZqnVozxKsQ==|119895|KIT TRESEMME TRESPLEX SH400+CO200ML NV|CABELOS                |0.6961|\n",
      "+------------------------+------+--------------------------------------+-----------------------+------+"
     ]
    }
   ],
   "source": [
    "df_rec_validation.filter(df_rec_validation.CUSTOMER_ID == 'DCFzrBYQbjQWZqnVozxKsQ==').select(\n",
    "    'CUSTOMER_ID','SKU','desc_varejo','desc_grupo','SCORE'\n",
    "    ).show(50, truncate=False)"
   ]
  },
  {
   "cell_type": "markdown",
   "id": "0efa9974",
   "metadata": {},
   "source": [
    "#### Unique desc_grupo"
   ]
  },
  {
   "cell_type": "code",
   "execution_count": 29,
   "id": "bf93d949",
   "metadata": {
    "collapsed": true
   },
   "outputs": [
    {
     "data": {
      "application/vnd.jupyter.widget-view+json": {
       "model_id": "",
       "version_major": 2,
       "version_minor": 0
      },
      "text/plain": [
       "FloatProgress(value=0.0, bar_style='info', description='Progress:', layout=Layout(height='25px', width='50%'),…"
      ]
     },
     "metadata": {},
     "output_type": "display_data"
    },
    {
     "name": "stdout",
     "output_type": "stream",
     "text": [
      "+---------------------------+\n",
      "|desc_grupo                 |\n",
      "+---------------------------+\n",
      "|TRATAMENTO FACIAL          |\n",
      "|PRIMEIROS SOCORROS         |\n",
      "|GASTROINTESTINAIS          |\n",
      "|MAOS E PES                 |\n",
      "|MASCULINO                  |\n",
      "|SABONETE E ACESSORIOS      |\n",
      "|INFANTIL                   |\n",
      "|DESODORANTE                |\n",
      "|ACESSORIOS P/ CABELO       |\n",
      "|VITAMINAS E SUPLEMENTOS    |\n",
      "|ORTOPEDICO                 |\n",
      "|CARDIO                     |\n",
      "|ALERGIAS E INFECÇÕES       |\n",
      "|CABELOS                    |\n",
      "|ALIMENTO                   |\n",
      "|COLESTEROL E TRIGLICERÍDEOS|\n",
      "|PELE E MUCOSAS             |\n",
      "|DOR E FEBRE                |\n",
      "|MAQUIAGEM                  |\n",
      "|PRODUTOS PARA O CORPO      |\n",
      "|SAÚDE DA MULHER            |\n",
      "|PSICOTROPICO               |\n",
      "+---------------------------+"
     ]
    }
   ],
   "source": [
    "df_validation.filter(df_validation.cpf == '23Ov54Y7xJ3blh+6BBw5cA==').select(\n",
    "    'desc_grupo').distinct().show(50, truncate = False)"
   ]
  },
  {
   "cell_type": "code",
   "execution_count": 30,
   "id": "a4ecf794",
   "metadata": {
    "collapsed": true
   },
   "outputs": [
    {
     "data": {
      "application/vnd.jupyter.widget-view+json": {
       "model_id": "",
       "version_major": 2,
       "version_minor": 0
      },
      "text/plain": [
       "FloatProgress(value=0.0, bar_style='info', description='Progress:', layout=Layout(height='25px', width='50%'),…"
      ]
     },
     "metadata": {},
     "output_type": "display_data"
    },
    {
     "name": "stdout",
     "output_type": "stream",
     "text": [
      "+----------------------+\n",
      "|desc_grupo            |\n",
      "+----------------------+\n",
      "|PRIMEIROS SOCORROS    |\n",
      "|GASTROINTESTINAIS     |\n",
      "|GRIPES E RESFRIADOS   |\n",
      "|MAOS E PES            |\n",
      "|SABONETE E ACESSORIOS |\n",
      "|INFANTIL              |\n",
      "|DESODORANTE           |\n",
      "|FERIMENTOS E CONTUSÕES|\n",
      "|HIGIENE INTIMA        |\n",
      "|ALIMENTO              |\n",
      "|DOR E FEBRE           |\n",
      "|MAQUIAGEM             |\n",
      "|HIGIENE BUCAL         |\n",
      "|PRODUTOS PARA O CORPO |\n",
      "+----------------------+"
     ]
    }
   ],
   "source": [
    "df_rec_validation.filter(df_rec_validation['CUSTOMER_ID'] == '23Ov54Y7xJ3blh+6BBw5cA==').select(\n",
    "    'desc_grupo').distinct().show(50, truncate = False)"
   ]
  },
  {
   "cell_type": "markdown",
   "id": "f2956c1b",
   "metadata": {},
   "source": [
    "#### Compras"
   ]
  },
  {
   "cell_type": "code",
   "execution_count": 31,
   "id": "8cefd446",
   "metadata": {
    "collapsed": true
   },
   "outputs": [
    {
     "data": {
      "application/vnd.jupyter.widget-view+json": {
       "model_id": "",
       "version_major": 2,
       "version_minor": 0
      },
      "text/plain": [
       "FloatProgress(value=0.0, bar_style='info', description='Progress:', layout=Layout(height='25px', width='50%'),…"
      ]
     },
     "metadata": {},
     "output_type": "display_data"
    },
    {
     "name": "stdout",
     "output_type": "stream",
     "text": [
      "+------------------------+--------------------------------------+-----------------------+--------+\n",
      "|cpf                     |desc_varejo                           |desc_grupo             |cod_item|\n",
      "+------------------------+--------------------------------------+-----------------------+--------+\n",
      "|0wpra35PuZlCwsFjZIb3BQ==|HASTES FLEXIVEIS C/150 PANVEL. 18     |INFANTIL               |856300  |\n",
      "|0wpra35PuZlCwsFjZIb3BQ==|ACECLOFENACO 100MG 12CP EMS GEN       |DOR E CONTUSÃO         |623430  |\n",
      "|0wpra35PuZlCwsFjZIb3BQ==|DIPROSPAN 1X1ML                       |ALERGIAS E INFECÇÕES   |604     |\n",
      "|0wpra35PuZlCwsFjZIb3BQ==|PEPSAMAR 10 CP AV CH                  |GASTROINTESTINAIS      |913020  |\n",
      "|0wpra35PuZlCwsFjZIb3BQ==|KIT LBP MURUMURU E ROSA SH+CO300ML+LAT|CABELOS                |110770  |\n",
      "|0wpra35PuZlCwsFjZIb3BQ==|MILHO MOSTARDA E MEL PANVEL LEVE 25G  |ALIMENTO               |115491  |\n",
      "|0wpra35PuZlCwsFjZIb3BQ==|MASSAGEOL AER 120ML                   |FERIMENTOS E CONTUSÕES |517280  |\n",
      "|0wpra35PuZlCwsFjZIb3BQ==|VITAMINA C EFERV 1G PANVEL VITA 10 CP |VITAMINAS E SUPLEMENTOS|109865  |\n",
      "|0wpra35PuZlCwsFjZIb3BQ==|MILHO TORRADO SALGADO PANVEL LEVE 25G |ALIMENTO               |115475  |\n",
      "|0wpra35PuZlCwsFjZIb3BQ==|LENCO UMED BABY DOVE H.SENSIVEL C/50  |INFANTIL               |420430  |\n",
      "|0wpra35PuZlCwsFjZIb3BQ==|CIMEGRIPE 20 CAP                      |GRIPES E RESFRIADOS    |921040  |\n",
      "|0wpra35PuZlCwsFjZIb3BQ==|KIT DOVE SAB MICELAR 6X90G LEV+ PAGUE-|SABONETE E ACESSORIOS  |113772  |\n",
      "|0wpra35PuZlCwsFjZIb3BQ==|MIX CASTANHA REMIX MAE TERRA 25G      |ALIMENTO               |120387  |\n",
      "|0wpra35PuZlCwsFjZIb3BQ==|OTOCIRIAX OTO 5ML                     |CUIDADOS COM OLHOS     |838230  |\n",
      "|0wpra35PuZlCwsFjZIb3BQ==|KIT CRE DEN ORAL-B ESC A.ACUCAR C3 70G|HIGIENE BUCAL          |113631  |\n",
      "|0wpra35PuZlCwsFjZIb3BQ==|BISC POLV BAT DOCE PANVEL LEVE 50G    |ALIMENTO               |119434  |\n",
      "|0wpra35PuZlCwsFjZIb3BQ==|CRE DENT CLOSEUP TRIPLE M.AMERIC. 70G |HIGIENE BUCAL          |830590  |\n",
      "|0wpra35PuZlCwsFjZIb3BQ==|DRENISON OCLUSIVO 7,5X200CM P         |PELE E MUCOSAS         |87327   |\n",
      "|0wpra35PuZlCwsFjZIb3BQ==|DUO LAP OLHOS PANV MAKEUP VEG PRET BEG|MAQUIAGEM              |115133  |\n",
      "|0wpra35PuZlCwsFjZIb3BQ==|CRE NIVEA LATA 56G                    |PRODUTOS PARA O CORPO  |334804  |\n",
      "|0wpra35PuZlCwsFjZIb3BQ==|BAT LIQ MATTE PANVEL MAKEUP VERM CLASS|MAQUIAGEM              |877840  |\n",
      "|0wpra35PuZlCwsFjZIb3BQ==|SHAMPOO PALMOLIVE KIDS MINIONS 350ML  |INFANTIL               |113114  |\n",
      "|0wpra35PuZlCwsFjZIb3BQ==|PROT SOL C&B F30 200ML GTS FAC F30 50G|PRODUTOS PARA O CORPO  |119063  |\n",
      "|0wpra35PuZlCwsFjZIb3BQ==|KIT C.DENT COLGATE NEUTRACUCAR 70GL3P2|HIGIENE BUCAL          |828210  |\n",
      "|0wpra35PuZlCwsFjZIb3BQ==|SAB LIQ NATAL DOURADO 285ML 20N       |SABONETE E ACESSORIOS  |111999  |\n",
      "|0wpra35PuZlCwsFjZIb3BQ==|DIF ARO PANV CASA HIBISCO CANELA 250ML|LINHAS ESPECIAIS       |117023  |\n",
      "|0wpra35PuZlCwsFjZIb3BQ==|GESTINOL 75/30MCG 84 CP               |SAÚDE DA MULHER        |638590  |\n",
      "|0wpra35PuZlCwsFjZIb3BQ==|PROT SOL AUSTRALIAN GOLD TS FPS30 200G|PRODUTOS PARA O CORPO  |110822  |\n",
      "|0wpra35PuZlCwsFjZIb3BQ==|KIT AUSSIE SHAMPOO + 3MM MOIST        |CABELOS                |116132  |\n",
      "|0wpra35PuZlCwsFjZIb3BQ==|IBUPROFENO 100MG/ML 20ML NEOQ GEN     |DOR E FEBRE            |532580  |\n",
      "|0wpra35PuZlCwsFjZIb3BQ==|PALETA SOMBRAS VULT DISNEY TIANA      |MAQUIAGEM              |111283  |\n",
      "|0wpra35PuZlCwsFjZIb3BQ==|LENCO DEMAQ PANVEL FACES 25 UN 19     |TRATAMENTO FACIAL      |116747  |\n",
      "|0wpra35PuZlCwsFjZIb3BQ==|AZELAN GEL 30G                        |PELE E MUCOSAS         |611770  |\n",
      "|0wpra35PuZlCwsFjZIb3BQ==|CURATIVO TRANSP 40UN PANVEL.20        |PRIMEIROS SOCORROS     |113062  |\n",
      "|0wpra35PuZlCwsFjZIb3BQ==|PO COMP PANVEL MAKE UP BEGE MEL 19    |MAQUIAGEM              |117724  |\n",
      "|0wpra35PuZlCwsFjZIb3BQ==|PIR PP TAR PRET 4 UN PANVEL ACES14    |ACESSORIOS P/ CABELO   |681680  |\n",
      "|0wpra35PuZlCwsFjZIb3BQ==|POS SOL AEROSSOL PANVEL SOLAR 200ML 18|PRODUTOS PARA O CORPO  |876020  |\n",
      "|0wpra35PuZlCwsFjZIb3BQ==|PERCOF XPE 120ML L                    |GRIPES E RESFRIADOS    |811100  |\n",
      "|0wpra35PuZlCwsFjZIb3BQ==|SPRAY PROP GENGIBRE PANVEL AV 30ML 19 |GRIPES E RESFRIADOS    |116208  |\n",
      "|0wpra35PuZlCwsFjZIb3BQ==|PROT SOL PANVEL SOLAR OLE FPS6 140ML18|PRODUTOS PARA O CORPO  |876370  |\n",
      "|0wpra35PuZlCwsFjZIb3BQ==|BENALET BOLSO MENTA 4 CP AV           |GRIPES E RESFRIADOS    |612960  |\n",
      "|0wpra35PuZlCwsFjZIb3BQ==|STREPSILS 8 PASTILHAS                 |GRIPES E RESFRIADOS    |574640  |\n",
      "|0wpra35PuZlCwsFjZIb3BQ==|SULF.NEOMICINA+BACITRACINA 15G EMS GEN|FERIMENTOS E CONTUSÕES |462720  |\n",
      "|0wpra35PuZlCwsFjZIb3BQ==|PARAC+CLOR.PSE 500/30MG 24CP EMS GEN C|GRIPES E RESFRIADOS    |989630  |\n",
      "|0wpra35PuZlCwsFjZIb3BQ==|IBUPROFENO 100MG/ML 20ML NEOQ GEN     |DOR E FEBRE            |532580  |\n",
      "|0wpra35PuZlCwsFjZIb3BQ==|PARACETAMOL 200MG/ML 15ML NEOQ GEN    |DOR E FEBRE            |993980  |\n",
      "|0wpra35PuZlCwsFjZIb3BQ==|XAROPE DE GUACO G500 BALSÂMICO 150 ML |GRIPES E RESFRIADOS    |116678  |\n",
      "|0wpra35PuZlCwsFjZIb3BQ==|LC PROL BRONZEADO PANVEL SOLAR 120G 18|PRODUTOS PARA O CORPO  |876520  |\n",
      "|0wpra35PuZlCwsFjZIb3BQ==|COMPRES GAZE ESTERIL PANVEL.10UN 20   |PRIMEIROS SOCORROS     |112572  |\n",
      "|0wpra35PuZlCwsFjZIb3BQ==|CIMEGRIPE 20 CAP                      |GRIPES E RESFRIADOS    |921040  |\n",
      "+------------------------+--------------------------------------+-----------------------+--------+\n",
      "only showing top 50 rows"
     ]
    }
   ],
   "source": [
    "df_validation.filter(df_validation.cpf == '0wpra35PuZlCwsFjZIb3BQ==').select(\n",
    "    'cpf','desc_varejo','desc_grupo','cod_item'\n",
    "    ).show(50, truncate = False)"
   ]
  },
  {
   "cell_type": "markdown",
   "id": "af0ee901",
   "metadata": {},
   "source": [
    "#### Recomendações"
   ]
  },
  {
   "cell_type": "code",
   "execution_count": 32,
   "id": "51ab27cb",
   "metadata": {
    "collapsed": true
   },
   "outputs": [
    {
     "data": {
      "application/vnd.jupyter.widget-view+json": {
       "model_id": "",
       "version_major": 2,
       "version_minor": 0
      },
      "text/plain": [
       "FloatProgress(value=0.0, bar_style='info', description='Progress:', layout=Layout(height='25px', width='50%'),…"
      ]
     },
     "metadata": {},
     "output_type": "display_data"
    },
    {
     "name": "stdout",
     "output_type": "stream",
     "text": [
      "+------------------------+------+--------------------------------------+-----------------------+------+\n",
      "|CUSTOMER_ID             |SKU   |desc_varejo                           |desc_grupo             |SCORE |\n",
      "+------------------------+------+--------------------------------------+-----------------------+------+\n",
      "|0wpra35PuZlCwsFjZIb3BQ==|478740|LORATADINA 10MG 12 CP BIOS GEN        |GRIPES E RESFRIADOS    |1.3107|\n",
      "|0wpra35PuZlCwsFjZIb3BQ==|118445|STREPSILS LARANJA 16 PASTILHAS        |GRIPES E RESFRIADOS    |1.2761|\n",
      "|0wpra35PuZlCwsFjZIb3BQ==|113873|APARELHO DEPIL DESC PANVEL ESSENCIAL19|PRODUTOS PARA O CORPO  |1.2275|\n",
      "|0wpra35PuZlCwsFjZIb3BQ==|468000|LORATAMED 10MG 12CP                   |GRIPES E RESFRIADOS    |1.2112|\n",
      "|0wpra35PuZlCwsFjZIb3BQ==|156550|PARACETAMOL 750MG 20 CP NEOQ GEN      |DOR E FEBRE            |1.1687|\n",
      "|0wpra35PuZlCwsFjZIb3BQ==|111547|SORO FISIOLOGICO LIFAR 0,9% 500ML     |FERIMENTOS E CONTUSÕES |1.1675|\n",
      "|0wpra35PuZlCwsFjZIb3BQ==|114686|CRE DENT COLGATE LUM. WHITE CARVAO 70G|HIGIENE BUCAL          |1.1143|\n",
      "|0wpra35PuZlCwsFjZIb3BQ==|3158  |CEBION 1G EFERV 10 CP                 |VITAMINAS E SUPLEMENTOS|1.0668|\n",
      "|0wpra35PuZlCwsFjZIb3BQ==|431370|DECONGEX PLUS 12 CP REV               |GRIPES E RESFRIADOS    |1.0376|\n",
      "|0wpra35PuZlCwsFjZIb3BQ==|115476|SHAMP SECO DETOX PANVEL HAIRTHER 150ML|CABELOS                |1.0039|\n",
      "|0wpra35PuZlCwsFjZIb3BQ==|833110|DES DOVE AERO ORIGINAL 150ML          |DESODORANTE            |0.9958|\n",
      "|0wpra35PuZlCwsFjZIb3BQ==|116308|CHIPS MANDIOQUINHA PANVEL LEVE 55G    |ALIMENTO               |0.9874|\n",
      "|0wpra35PuZlCwsFjZIb3BQ==|829280|COMP LÁCTEO MILNUTRI 800G             |MAES E FILHOS          |0.9835|\n",
      "|0wpra35PuZlCwsFjZIb3BQ==|116118|KIT SAB INT PANVEL ESSENCIAL DEL 200ML|HIGIENE INTIMA         |0.9672|\n",
      "|0wpra35PuZlCwsFjZIb3BQ==|106822|KIT PANTENE BAMBU SH400ML+CO175ML NV  |CABELOS                |0.9632|\n",
      "|0wpra35PuZlCwsFjZIb3BQ==|117572|ALGODAO DISCO PANVEL FACES L100 P85 19|TRATAMENTO FACIAL      |0.9605|\n",
      "|0wpra35PuZlCwsFjZIb3BQ==|112081|TOALHA UMED PANVEL BABY 48 UN 20      |INFANTIL               |0.9602|\n",
      "|0wpra35PuZlCwsFjZIb3BQ==|107196|SAB BARRA DUO FELIZ NATAL 2X90G 21N   |SABONETE E ACESSORIOS  |0.9457|\n",
      "|0wpra35PuZlCwsFjZIb3BQ==|111999|SAB LIQ NATAL DOURADO 285ML 20N       |SABONETE E ACESSORIOS  |0.9442|\n",
      "|0wpra35PuZlCwsFjZIb3BQ==|993620|DICLO DIETILAMO 1% GEL 60G NEOQ GEN P |FERIMENTOS E CONTUSÕES |0.9434|\n",
      "|0wpra35PuZlCwsFjZIb3BQ==|5657  |NEOSALDINA 20DRAGEAS                  |DOR E FEBRE            |0.9414|\n",
      "|0wpra35PuZlCwsFjZIb3BQ==|847150|FIO DENTAL PANVEL ORAL SYSTEM 130M    |HIGIENE BUCAL          |0.9377|\n",
      "|0wpra35PuZlCwsFjZIb3BQ==|841510|ANTI BUC LISTE COOL MIN LV500ML E PG35|HIGIENE BUCAL          |0.9369|\n",
      "|0wpra35PuZlCwsFjZIb3BQ==|109680|ENX BUC LISTERINE C.MINT 500ML+50% 250|HIGIENE BUCAL          |0.9364|\n",
      "|0wpra35PuZlCwsFjZIb3BQ==|116117|SAB INT PANVEL ESSENCIAL FLORAL 200ML |HIGIENE INTIMA         |0.9352|\n",
      "|0wpra35PuZlCwsFjZIb3BQ==|532580|IBUPROFENO 100MG/ML 20ML NEOQ GEN     |DOR E FEBRE            |0.9308|\n",
      "|0wpra35PuZlCwsFjZIb3BQ==|116116|SAB INT PANVEL ESSENCIAL DELIC 200ML  |HIGIENE INTIMA         |0.9267|\n",
      "|0wpra35PuZlCwsFjZIb3BQ==|856300|HASTES FLEXIVEIS C/150 PANVEL. 18     |INFANTIL               |0.9173|\n",
      "|0wpra35PuZlCwsFjZIb3BQ==|115955|SHAMP SECO FLO PANVEL HAIRT 150ML     |CABELOS                |0.9082|\n",
      "|0wpra35PuZlCwsFjZIb3BQ==|112719|ACETONA LIFAR 100ML NV                |MAOS E PES             |0.9069|\n",
      "|0wpra35PuZlCwsFjZIb3BQ==|921040|CIMEGRIPE 20 CAP                      |GRIPES E RESFRIADOS    |0.8928|\n",
      "|0wpra35PuZlCwsFjZIb3BQ==|157190|LORATADINA 10MG 12 CP NEOQ GEN        |GRIPES E RESFRIADOS    |0.8882|\n",
      "|0wpra35PuZlCwsFjZIb3BQ==|420420|LEN UMED BABY DOVE HIDRA ENRIQ 50UN   |INFANTIL               |0.8872|\n",
      "|0wpra35PuZlCwsFjZIb3BQ==|468560|DORFLEX 36 COMPRIMIDOS                |DOR E FEBRE            |0.8867|\n",
      "|0wpra35PuZlCwsFjZIb3BQ==|114416|DESOD AERO NIVEA FLOR CEREJEIRA 150ML |DESODORANTE            |0.8847|\n",
      "|0wpra35PuZlCwsFjZIb3BQ==|420660|LC HIDRAT NIVEA BODY MILK EXT SEC200ML|PRODUTOS PARA O CORPO  |0.8779|\n",
      "|0wpra35PuZlCwsFjZIb3BQ==|969340|CORISTINA D 4CP AV                    |GRIPES E RESFRIADOS    |0.8677|\n",
      "|0wpra35PuZlCwsFjZIb3BQ==|112499|GEL ANT NAT C EX D CAM ERV D E AL V 60|PRIMEIROS SOCORROS     |0.8677|\n",
      "|0wpra35PuZlCwsFjZIb3BQ==|112157|KIT ELSEVE LISO SONHO SH 375+CO 170ML |CABELOS                |0.8655|\n",
      "|0wpra35PuZlCwsFjZIb3BQ==|675720|DROPROPIZINA 3MG/ML 120ML BIO GEN     |GRIPES E RESFRIADOS    |0.8572|\n",
      "|0wpra35PuZlCwsFjZIb3BQ==|830570|CRE DENT CLOSEUP TRIPLE MENTA 70G     |HIGIENE BUCAL          |0.8557|\n",
      "|0wpra35PuZlCwsFjZIb3BQ==|863270|KIT VIAGEM COLGATE TT CRE+ESC+ENX 60ML|HIGIENE BUCAL          |0.8517|\n",
      "|0wpra35PuZlCwsFjZIb3BQ==|902400|SORO FISIO SOL.CL.SODIO 0,9% ADV500ML |FERIMENTOS E CONTUSÕES |0.8436|\n",
      "|0wpra35PuZlCwsFjZIb3BQ==|116747|LENCO DEMAQ PANVEL FACES 25 UN 19     |TRATAMENTO FACIAL      |0.8418|\n",
      "|0wpra35PuZlCwsFjZIb3BQ==|7137  |TARGIFOR C 16 CP EFERV                |VITAMINAS E SUPLEMENTOS|0.8331|\n",
      "|0wpra35PuZlCwsFjZIb3BQ==|111998|SAB LIQ NATAL VERMELHO 285ML 20N      |SABONETE E ACESSORIOS  |0.8311|\n",
      "+------------------------+------+--------------------------------------+-----------------------+------+"
     ]
    }
   ],
   "source": [
    "df_rec_validation.filter(df_rec_validation.CUSTOMER_ID == '0wpra35PuZlCwsFjZIb3BQ==').select(\n",
    "    'CUSTOMER_ID','SKU','desc_varejo','desc_grupo','SCORE'\n",
    "    ).show(50, truncate=False)"
   ]
  },
  {
   "cell_type": "code",
   "execution_count": 33,
   "id": "48c65ab9",
   "metadata": {
    "collapsed": true
   },
   "outputs": [
    {
     "data": {
      "application/vnd.jupyter.widget-view+json": {
       "model_id": "",
       "version_major": 2,
       "version_minor": 0
      },
      "text/plain": [
       "FloatProgress(value=0.0, bar_style='info', description='Progress:', layout=Layout(height='25px', width='50%'),…"
      ]
     },
     "metadata": {},
     "output_type": "display_data"
    },
    {
     "name": "stdout",
     "output_type": "stream",
     "text": [
      "+-----------------------+\n",
      "|desc_grupo             |\n",
      "+-----------------------+\n",
      "|TRATAMENTO FACIAL      |\n",
      "|LINHAS ESPECIAIS       |\n",
      "|PRIMEIROS SOCORROS     |\n",
      "|GASTROINTESTINAIS      |\n",
      "|CUIDADOS COM OLHOS     |\n",
      "|GRIPES E RESFRIADOS    |\n",
      "|MAOS E PES             |\n",
      "|SABONETE E ACESSORIOS  |\n",
      "|INFANTIL               |\n",
      "|DESODORANTE            |\n",
      "|ACESSORIOS P/ CABELO   |\n",
      "|FERIMENTOS E CONTUSÕES |\n",
      "|VITAMINAS E SUPLEMENTOS|\n",
      "|DOR E CONTUSÃO         |\n",
      "|ALERGIAS E INFECÇÕES   |\n",
      "|CABELOS                |\n",
      "|ALIMENTO               |\n",
      "|CONVENIENCIA           |\n",
      "|PELE E MUCOSAS         |\n",
      "|DOR E FEBRE            |\n",
      "|MAQUIAGEM              |\n",
      "|HIGIENE BUCAL          |\n",
      "|PRODUTOS PARA O CORPO  |\n",
      "|SAÚDE DA MULHER        |\n",
      "+-----------------------+"
     ]
    }
   ],
   "source": [
    "df_validation.filter(df_validation.cpf == '0wpra35PuZlCwsFjZIb3BQ==').select(\n",
    "    'desc_grupo').distinct().show(50, truncate = False)"
   ]
  },
  {
   "cell_type": "code",
   "execution_count": 34,
   "id": "3cbfcf19",
   "metadata": {
    "collapsed": true
   },
   "outputs": [
    {
     "data": {
      "application/vnd.jupyter.widget-view+json": {
       "model_id": "",
       "version_major": 2,
       "version_minor": 0
      },
      "text/plain": [
       "FloatProgress(value=0.0, bar_style='info', description='Progress:', layout=Layout(height='25px', width='50%'),…"
      ]
     },
     "metadata": {},
     "output_type": "display_data"
    },
    {
     "name": "stdout",
     "output_type": "stream",
     "text": [
      "+-----------------------+\n",
      "|desc_grupo             |\n",
      "+-----------------------+\n",
      "|TRATAMENTO FACIAL      |\n",
      "|PRIMEIROS SOCORROS     |\n",
      "|GRIPES E RESFRIADOS    |\n",
      "|MAOS E PES             |\n",
      "|SABONETE E ACESSORIOS  |\n",
      "|INFANTIL               |\n",
      "|DESODORANTE            |\n",
      "|FERIMENTOS E CONTUSÕES |\n",
      "|VITAMINAS E SUPLEMENTOS|\n",
      "|MAES E FILHOS          |\n",
      "|HIGIENE INTIMA         |\n",
      "|CABELOS                |\n",
      "|ALIMENTO               |\n",
      "|DOR E FEBRE            |\n",
      "|HIGIENE BUCAL          |\n",
      "|PRODUTOS PARA O CORPO  |\n",
      "+-----------------------+"
     ]
    }
   ],
   "source": [
    "df_rec_validation.filter(df_rec_validation['CUSTOMER_ID'] == '0wpra35PuZlCwsFjZIb3BQ==').select(\n",
    "    'desc_grupo').distinct().show(50, truncate = False)"
   ]
  },
  {
   "cell_type": "markdown",
   "id": "9218ea82",
   "metadata": {},
   "source": [
    ".."
   ]
  },
  {
   "cell_type": "markdown",
   "id": "db83a54c",
   "metadata": {},
   "source": [
    "#### Define functions"
   ]
  },
  {
   "cell_type": "code",
   "execution_count": 35,
   "id": "89102f30",
   "metadata": {},
   "outputs": [
    {
     "data": {
      "application/vnd.jupyter.widget-view+json": {
       "model_id": "",
       "version_major": 2,
       "version_minor": 0
      },
      "text/plain": [
       "FloatProgress(value=0.0, bar_style='info', description='Progress:', layout=Layout(height='25px', width='50%'),…"
      ]
     },
     "metadata": {},
     "output_type": "display_data"
    }
   ],
   "source": [
    "def get_purchased(id, n=50):\n",
    "    print(\"Purchased\")\n",
    "    df_raw.filter(df_raw.cpf == id).select(\n",
    "        'cpf','desc_varejo','desc_grupo','qtd_efetiva'\n",
    "        ).show(n, truncate = False)"
   ]
  },
  {
   "cell_type": "code",
   "execution_count": 36,
   "id": "8c3f65cc",
   "metadata": {},
   "outputs": [
    {
     "data": {
      "application/vnd.jupyter.widget-view+json": {
       "model_id": "",
       "version_major": 2,
       "version_minor": 0
      },
      "text/plain": [
       "FloatProgress(value=0.0, bar_style='info', description='Progress:', layout=Layout(height='25px', width='50%'),…"
      ]
     },
     "metadata": {},
     "output_type": "display_data"
    }
   ],
   "source": [
    "def get_recommendations(id, n=50):\n",
    "    print(\"Recommendations\")\n",
    "    df_temp = df_rec.join(df_item_sensity, df_rec[\"SKU\"] == df_item_sensity[\"cod_item\"])\n",
    "    df_temp.filter(df_temp.CUSTOMER_ID == id).select(\n",
    "    'CUSTOMER_ID','SKU','desc_varejo','desc_grupo','SCORE'\n",
    "    ).show(n, truncate=False)"
   ]
  },
  {
   "cell_type": "code",
   "execution_count": null,
   "id": "401e581f",
   "metadata": {},
   "outputs": [],
   "source": []
  },
  {
   "cell_type": "code",
   "execution_count": 65,
   "id": "ab5fb1ea",
   "metadata": {},
   "outputs": [
    {
     "data": {
      "application/vnd.jupyter.widget-view+json": {
       "model_id": "",
       "version_major": 2,
       "version_minor": 0
      },
      "text/plain": [
       "FloatProgress(value=0.0, bar_style='info', description='Progress:', layout=Layout(height='25px', width='50%'),…"
      ]
     },
     "metadata": {},
     "output_type": "display_data"
    },
    {
     "name": "stdout",
     "output_type": "stream",
     "text": [
      "Purchased\n",
      "+------------------------+--------------------------------------+---------------------+-----------+\n",
      "|cpf                     |desc_varejo                           |desc_grupo           |qtd_efetiva|\n",
      "+------------------------+--------------------------------------+---------------------+-----------+\n",
      "|DCFzrBYQbjQWZqnVozxKsQ==|OMEPRAZOL 20MG 28CAP NEOQ GEN         |GASTROINTESTINAIS    |1          |\n",
      "|DCFzrBYQbjQWZqnVozxKsQ==|LÂM GILLETTE MACH3 SENSIT LEV 4 PAG 3 |MASCULINO            |1          |\n",
      "|DCFzrBYQbjQWZqnVozxKsQ==|SAB LIQ PANVEL SEMPBEM AMOR REFIL200ML|SABONETE E ACESSORIOS|1          |\n",
      "|DCFzrBYQbjQWZqnVozxKsQ==|DESOD REXONA MEN AER ACTIVE 2X90G+50% |DESODORANTE          |1          |\n",
      "|DCFzrBYQbjQWZqnVozxKsQ==|SAB LIQ RFL LUX FLOR DE LÓTUS 200ML   |SABONETE E ACESSORIOS|3          |\n",
      "|DCFzrBYQbjQWZqnVozxKsQ==|PROT SOL C&B F30 200ML GTS FAC F30 50G|PRODUTOS PARA O CORPO|1          |\n",
      "|DCFzrBYQbjQWZqnVozxKsQ==|LISADOR DIP 1G 10CP                   |DOR E FEBRE          |2          |\n",
      "|DCFzrBYQbjQWZqnVozxKsQ==|ESC DENT ORAL-B INDICAT COLOR 30 C/4  |HIGIENE BUCAL        |1          |\n",
      "|DCFzrBYQbjQWZqnVozxKsQ==|LORATADINA 10MG 12 CP BIOS GEN        |GRIPES E RESFRIADOS  |1          |\n",
      "|DCFzrBYQbjQWZqnVozxKsQ==|SAB LIQ RFL LUX BUQUE DE JASMIM 200ML |SABONETE E ACESSORIOS|2          |\n",
      "|DCFzrBYQbjQWZqnVozxKsQ==|AEROLIN 2MG 20 CP                     |ALERGIAS E INFECÇÕES |1          |\n",
      "|DCFzrBYQbjQWZqnVozxKsQ==|LORATADINA 10MG 12 CP NEOQ GEN        |GRIPES E RESFRIADOS  |1          |\n",
      "|DCFzrBYQbjQWZqnVozxKsQ==|DESO AERO REXONA ACTIVE DRY 250ML L+P-|DESODORANTE          |2          |\n",
      "|DCFzrBYQbjQWZqnVozxKsQ==|HEPALINA FLAC 10ML AV                 |GASTROINTESTINAIS    |10         |\n",
      "|DCFzrBYQbjQWZqnVozxKsQ==|TOALHA UMED PANVEL BABY C/48 LV4PG3 20|INFANTIL             |1          |\n",
      "|DCFzrBYQbjQWZqnVozxKsQ==|OMEPRAZOL 20MG 28CAP NEOQ GEN         |GASTROINTESTINAIS    |2          |\n",
      "|DCFzrBYQbjQWZqnVozxKsQ==|EPOCLER ABACAX FLAC 10ML AV           |GASTROINTESTINAIS    |6          |\n",
      "|DCFzrBYQbjQWZqnVozxKsQ==|BISOLVON XPE AD 120ML                 |GRIPES E RESFRIADOS  |1          |\n",
      "|DCFzrBYQbjQWZqnVozxKsQ==|CRE DENT CLOSEUP PROT. ANTIACUCAR 70G |HIGIENE BUCAL        |6          |\n",
      "|DCFzrBYQbjQWZqnVozxKsQ==|ENXAG BUC PANVEL ORAL HORTELA 300ML 18|HIGIENE BUCAL        |1          |\n",
      "|DCFzrBYQbjQWZqnVozxKsQ==|PROT SOL NIVEA FPS 50 200 GTS F50 100 |PRODUTOS PARA O CORPO|1          |\n",
      "|DCFzrBYQbjQWZqnVozxKsQ==|BENEGRIP 500MG 6CP AV                 |GRIPES E RESFRIADOS  |2          |\n",
      "|DCFzrBYQbjQWZqnVozxKsQ==|SAL DE FRUTA ENO 5G 2ENV AV           |GASTROINTESTINAIS    |4          |\n",
      "|DCFzrBYQbjQWZqnVozxKsQ==|EPOCLER ABACAX FLAC 10ML AV           |GASTROINTESTINAIS    |6          |\n",
      "|DCFzrBYQbjQWZqnVozxKsQ==|OMEPRAZOL 20MG 28CAP NEOQ GEN         |GASTROINTESTINAIS    |1          |\n",
      "|DCFzrBYQbjQWZqnVozxKsQ==|LAM GILLETTE MACH3 REGULAR LEV4 PAG3  |MASCULINO            |1          |\n",
      "|DCFzrBYQbjQWZqnVozxKsQ==|PRESERV JONTEX CONFORT PLUS BOLSO C/3 |MASCULINO            |3          |\n",
      "|DCFzrBYQbjQWZqnVozxKsQ==|SPRAY PRÓPOLIS C/ GENG APIS VIDA 30ML |GRIPES E RESFRIADOS  |1          |\n",
      "|DCFzrBYQbjQWZqnVozxKsQ==|SPRAY PROP COM GUACO PANVEL AV 30ML 19|GRIPES E RESFRIADOS  |1          |\n",
      "|DCFzrBYQbjQWZqnVozxKsQ==|AEROLIN 2MG 20 CP                     |ALERGIAS E INFECÇÕES |2          |\n",
      "|DCFzrBYQbjQWZqnVozxKsQ==|EPOCLER ABACAX FLAC 10ML AV           |GASTROINTESTINAIS    |6          |\n",
      "+------------------------+--------------------------------------+---------------------+-----------+"
     ]
    }
   ],
   "source": [
    "get_purchased('DCFzrBYQbjQWZqnVozxKsQ==',50)"
   ]
  },
  {
   "cell_type": "code",
   "execution_count": 66,
   "id": "ba289ed9",
   "metadata": {},
   "outputs": [
    {
     "data": {
      "application/vnd.jupyter.widget-view+json": {
       "model_id": "",
       "version_major": 2,
       "version_minor": 0
      },
      "text/plain": [
       "FloatProgress(value=0.0, bar_style='info', description='Progress:', layout=Layout(height='25px', width='50%'),…"
      ]
     },
     "metadata": {},
     "output_type": "display_data"
    },
    {
     "name": "stdout",
     "output_type": "stream",
     "text": [
      "Recommendations\n",
      "+------------------------+------+--------------------------------------+-----------------------+------+\n",
      "|CUSTOMER_ID             |SKU   |desc_varejo                           |desc_grupo             |SCORE |\n",
      "+------------------------+------+--------------------------------------+-----------------------+------+\n",
      "|DCFzrBYQbjQWZqnVozxKsQ==|483870|SAL DE FRUTA ENO 5G 2ENV AV           |GASTROINTESTINAIS      |1.1574|\n",
      "|DCFzrBYQbjQWZqnVozxKsQ==|993910|NAPROXENO 550MG 10 CP NEOQ GEN C      |DOR E FEBRE            |1.1464|\n",
      "|DCFzrBYQbjQWZqnVozxKsQ==|670160|PARACETAMOL 500MG 20 CP PRATI GEN     |DOR E FEBRE            |1.1279|\n",
      "|DCFzrBYQbjQWZqnVozxKsQ==|109532|ENO MENTA 8 PASTILHAS MASTIGAVEIS AV  |GASTROINTESTINAIS      |1.0312|\n",
      "|DCFzrBYQbjQWZqnVozxKsQ==|591080|HYABAK 0,15% COL10ML                  |CUIDADOS COM OLHOS     |1.0206|\n",
      "|DCFzrBYQbjQWZqnVozxKsQ==|370126|STILGRIP GRAN 5G AV CH                |GRIPES E RESFRIADOS    |1.0083|\n",
      "|DCFzrBYQbjQWZqnVozxKsQ==|156550|PARACETAMOL 750MG 20 CP NEOQ GEN      |DOR E FEBRE            |0.9951|\n",
      "|DCFzrBYQbjQWZqnVozxKsQ==|687020|AGUA MIN AGUA PEDRA C/GAS 500ML       |ALIMENTO               |0.9707|\n",
      "|DCFzrBYQbjQWZqnVozxKsQ==|868710|MAGNESIA BISURADA 10 PAST AV CH       |GASTROINTESTINAIS      |0.9671|\n",
      "|DCFzrBYQbjQWZqnVozxKsQ==|115231|AGUA MINERAL PANVEL LEVE COM GAS 500ML|ALIMENTO               |0.9473|\n",
      "|DCFzrBYQbjQWZqnVozxKsQ==|847080|ESCOVA PANVEL ORAL POCKET MC          |HIGIENE BUCAL          |0.9426|\n",
      "|DCFzrBYQbjQWZqnVozxKsQ==|996120|ALLEGRA PED SUSP 60ML                 |GRIPES E RESFRIADOS    |0.9367|\n",
      "|DCFzrBYQbjQWZqnVozxKsQ==|111868|MANTEIGA DE CACAU VIVAZ FPS8 3,3G AV  |TRATAMENTO FACIAL      |0.9173|\n",
      "|DCFzrBYQbjQWZqnVozxKsQ==|840740|BENEGRIP 500MG 6CP AV                 |GRIPES E RESFRIADOS    |0.9171|\n",
      "|DCFzrBYQbjQWZqnVozxKsQ==|624360|DIPIRONA SOD 1G 10CP NEOQ GEN         |DOR E FEBRE            |0.9014|\n",
      "|DCFzrBYQbjQWZqnVozxKsQ==|115486|KIT ELSEVE LONGO SONHO SH 375+CO 170ML|CABELOS                |0.8977|\n",
      "|DCFzrBYQbjQWZqnVozxKsQ==|385824|BUSCOPAN COMPOSTO 20 CP REV           |DOR E FEBRE            |0.8966|\n",
      "|DCFzrBYQbjQWZqnVozxKsQ==|114874|PROT SOL NIVEA FPS 50 200 GTS F50 100 |PRODUTOS PARA O CORPO  |0.8925|\n",
      "|DCFzrBYQbjQWZqnVozxKsQ==|118830|CRE DENT CLOSEUP PROT. ANTIACUCAR 70G |HIGIENE BUCAL          |0.8572|\n",
      "|DCFzrBYQbjQWZqnVozxKsQ==|157190|LORATADINA 10MG 12 CP NEOQ GEN        |GRIPES E RESFRIADOS    |0.8048|\n",
      "|DCFzrBYQbjQWZqnVozxKsQ==|304940|RED BULL ORIGINAL 250ML AV            |ALIMENTO               |0.7949|\n",
      "|DCFzrBYQbjQWZqnVozxKsQ==|802450|LUFTA GASTRO PRO 10ML AV              |GASTROINTESTINAIS      |0.7885|\n",
      "|DCFzrBYQbjQWZqnVozxKsQ==|114255|LENCOS UMED PANVEL BABY 90UN 21       |INFANTIL               |0.7882|\n",
      "|DCFzrBYQbjQWZqnVozxKsQ==|116167|KURAMED SPRAY 50ML                    |FERIMENTOS E CONTUSÕES |0.7878|\n",
      "|DCFzrBYQbjQWZqnVozxKsQ==|445400|DORIL ENXAQUECA 18CP                  |DOR E FEBRE            |0.7757|\n",
      "|DCFzrBYQbjQWZqnVozxKsQ==|115103|BEPANTOL DERMA CREME TOQUE SECO 30G   |PRODUTOS PARA O CORPO  |0.7666|\n",
      "|DCFzrBYQbjQWZqnVozxKsQ==|100580|DORIL ENXAQUECA 4CP AV                |DOR E FEBRE            |0.76  |\n",
      "|DCFzrBYQbjQWZqnVozxKsQ==|878990|VITAMINA C KIDS PANVEL VITA 30 GOMAS  |VITAMINAS E SUPLEMENTOS|0.7431|\n",
      "|DCFzrBYQbjQWZqnVozxKsQ==|478740|LORATADINA 10MG 12 CP BIOS GEN        |GRIPES E RESFRIADOS    |0.7421|\n",
      "|DCFzrBYQbjQWZqnVozxKsQ==|111504|KIT PANTENE REST PROF SH 350ML+CO175ML|CABELOS                |0.7406|\n",
      "|DCFzrBYQbjQWZqnVozxKsQ==|111506|KIT PANTENE HIDRATAC SH 350ML+CO175ML |CABELOS                |0.7269|\n",
      "|DCFzrBYQbjQWZqnVozxKsQ==|3018  |BUSCOPAN 10MG 20 DR                   |DOR E FEBRE            |0.7229|\n",
      "|DCFzrBYQbjQWZqnVozxKsQ==|869680|LISADOR DIP 1G 10CP                   |DOR E FEBRE            |0.7183|\n",
      "|DCFzrBYQbjQWZqnVozxKsQ==|942290|G.MASCAR TRIDENT MELANCIA AV          |ALIMENTO               |0.718 |\n",
      "|DCFzrBYQbjQWZqnVozxKsQ==|112085|TOALHA UMED PANVEL BABY C/48 LV4PG3 20|INFANTIL               |0.7154|\n",
      "|DCFzrBYQbjQWZqnVozxKsQ==|195570|BUSCODUO 500 MG 20 CP REV             |DOR E FEBRE            |0.7135|\n",
      "|DCFzrBYQbjQWZqnVozxKsQ==|105441|DESO AERO REXONA ACTIVE DRY 250ML L+P-|DESODORANTE            |0.712 |\n",
      "|DCFzrBYQbjQWZqnVozxKsQ==|118493|KIT PANTENE MICELAR SH400ML+CO175ML   |CABELOS                |0.7116|\n",
      "|DCFzrBYQbjQWZqnVozxKsQ==|409300|CRE DENT COLGATE TRIPLA AÇÃO 90G      |HIGIENE BUCAL          |0.711 |\n",
      "|DCFzrBYQbjQWZqnVozxKsQ==|564860|NOVALGINA 1G 4 CP AVULSO CH           |DOR E FEBRE            |0.7094|\n",
      "|DCFzrBYQbjQWZqnVozxKsQ==|117880|REMOV ESM ARGAN 100ML PANVEL.20       |MAOS E PES             |0.7073|\n",
      "|DCFzrBYQbjQWZqnVozxKsQ==|108213|LAP P/OLHOS PANVEL MAKEUP PRETO 1,1G  |MAQUIAGEM              |0.7068|\n",
      "|DCFzrBYQbjQWZqnVozxKsQ==|119895|KIT TRESEMME TRESPLEX SH400+CO200ML NV|CABELOS                |0.6961|\n",
      "+------------------------+------+--------------------------------------+-----------------------+------+"
     ]
    }
   ],
   "source": [
    "get_recommendations('DCFzrBYQbjQWZqnVozxKsQ==',50)"
   ]
  },
  {
   "cell_type": "markdown",
   "id": "6da9c55b",
   "metadata": {},
   "source": [
    "#### Unique desc_grupo"
   ]
  },
  {
   "cell_type": "code",
   "execution_count": 47,
   "id": "e72e2441",
   "metadata": {
    "collapsed": true
   },
   "outputs": [
    {
     "data": {
      "application/vnd.jupyter.widget-view+json": {
       "model_id": "",
       "version_major": 2,
       "version_minor": 0
      },
      "text/plain": [
       "FloatProgress(value=0.0, bar_style='info', description='Progress:', layout=Layout(height='25px', width='50%'),…"
      ]
     },
     "metadata": {},
     "output_type": "display_data"
    },
    {
     "name": "stdout",
     "output_type": "stream",
     "text": [
      "+----------------------+\n",
      "|desc_grupo            |\n",
      "+----------------------+\n",
      "|TRATAMENTO FACIAL     |\n",
      "|PRIMEIROS SOCORROS    |\n",
      "|GASTROINTESTINAIS     |\n",
      "|CUIDADOS COM OLHOS    |\n",
      "|GRIPES E RESFRIADOS   |\n",
      "|MASCULINO             |\n",
      "|SABONETE E ACESSORIOS |\n",
      "|INFANTIL              |\n",
      "|DESODORANTE           |\n",
      "|FERIMENTOS E CONTUSÕES|\n",
      "|MAES E FILHOS         |\n",
      "|CARDIO                |\n",
      "|ALERGIAS E INFECÇÕES  |\n",
      "|ALIMENTO              |\n",
      "|COVID                 |\n",
      "|CONVENIENCIA          |\n",
      "|PELE E MUCOSAS        |\n",
      "|DOR E FEBRE           |\n",
      "|HIGIENE BUCAL         |\n",
      "|PSICOTROPICO          |\n",
      "+----------------------+"
     ]
    }
   ],
   "source": [
    "df_raw.filter(df_raw.cpf == 'B6XHLKOHzCzw78xEbQJoSA==').select(\n",
    "    'desc_grupo').distinct().show(50, truncate = False)"
   ]
  },
  {
   "cell_type": "code",
   "execution_count": 54,
   "id": "20f362a4",
   "metadata": {
    "collapsed": true
   },
   "outputs": [
    {
     "data": {
      "application/vnd.jupyter.widget-view+json": {
       "model_id": "",
       "version_major": 2,
       "version_minor": 0
      },
      "text/plain": [
       "FloatProgress(value=0.0, bar_style='info', description='Progress:', layout=Layout(height='25px', width='50%'),…"
      ]
     },
     "metadata": {},
     "output_type": "display_data"
    },
    {
     "name": "stdout",
     "output_type": "stream",
     "text": [
      "+----------------------+\n",
      "|desc_grupo            |\n",
      "+----------------------+\n",
      "|TRATAMENTO FACIAL     |\n",
      "|PRIMEIROS SOCORROS    |\n",
      "|GASTROINTESTINAIS     |\n",
      "|GRIPES E RESFRIADOS   |\n",
      "|MAOS E PES            |\n",
      "|SABONETE E ACESSORIOS |\n",
      "|DERMOCOSMETICO        |\n",
      "|INFANTIL              |\n",
      "|PRODUTOS PARA GESTANTE|\n",
      "|ALIMENTO              |\n",
      "|CONVENIENCIA          |\n",
      "|DOR E FEBRE           |\n",
      "|MAQUIAGEM             |\n",
      "|HIGIENE BUCAL         |\n",
      "|PRODUTOS PARA O CORPO |\n",
      "+----------------------+"
     ]
    }
   ],
   "source": [
    "df_rec_validation.filter(df_rec_validation['CUSTOMER_ID'] == 'B6XHLKOHzCzw78xEbQJoSA==').select(\n",
    "    'desc_grupo').distinct().show(50, truncate = False)"
   ]
  },
  {
   "cell_type": "code",
   "execution_count": null,
   "id": "c29e7b93",
   "metadata": {},
   "outputs": [],
   "source": []
  },
  {
   "cell_type": "code",
   "execution_count": 64,
   "id": "7ce73a9f",
   "metadata": {},
   "outputs": [
    {
     "data": {
      "application/vnd.jupyter.widget-view+json": {
       "model_id": "",
       "version_major": 2,
       "version_minor": 0
      },
      "text/plain": [
       "FloatProgress(value=0.0, bar_style='info', description='Progress:', layout=Layout(height='25px', width='50%'),…"
      ]
     },
     "metadata": {},
     "output_type": "display_data"
    },
    {
     "name": "stdout",
     "output_type": "stream",
     "text": [
      "+------+---------+\n",
      "|   SKU|SKU_count|\n",
      "+------+---------+\n",
      "|156550|  1011121|\n",
      "|402732|   422914|\n",
      "|111673|   399340|\n",
      "|853800|   393016|\n",
      "|921040|   358881|\n",
      "|115229|   357842|\n",
      "|483870|   350862|\n",
      "|468560|   308561|\n",
      "|107983|   307834|\n",
      "|624360|   301961|\n",
      "|111547|   290448|\n",
      "|940360|   288856|\n",
      "|119602|   286969|\n",
      "|111674|   284019|\n",
      "|818980|   276615|\n",
      "|468000|   276254|\n",
      "|112719|   269522|\n",
      "|454510|   266897|\n",
      "|112127|   264929|\n",
      "|117572|   261712|\n",
      "+------+---------+\n",
      "only showing top 20 rows"
     ]
    }
   ],
   "source": [
    "df_rec.groupBy(\"SKU\") \\\n",
    "  .agg(count(\"SKU\").alias(\"SKU_count\")) \\\n",
    "  .sort(desc(\"SKU_count\")) \\\n",
    "  .show()"
   ]
  },
  {
   "cell_type": "code",
   "execution_count": 58,
   "id": "ee38f2c9",
   "metadata": {},
   "outputs": [
    {
     "data": {
      "application/vnd.jupyter.widget-view+json": {
       "model_id": "",
       "version_major": 2,
       "version_minor": 0
      },
      "text/plain": [
       "FloatProgress(value=0.0, bar_style='info', description='Progress:', layout=Layout(height='25px', width='50%'),…"
      ]
     },
     "metadata": {},
     "output_type": "display_data"
    },
    {
     "name": "stdout",
     "output_type": "stream",
     "text": [
      "+------+------+\n",
      "|   SKU| count|\n",
      "+------+------+\n",
      "|998830| 15532|\n",
      "|998090| 41272|\n",
      "|996210| 53321|\n",
      "|996120|169555|\n",
      "|995490| 18029|\n",
      "|995480|  3641|\n",
      "|995190|109534|\n",
      "|994210|    10|\n",
      "|993980|125309|\n",
      "|993960|209462|\n",
      "|993920| 75100|\n",
      "|993910|172215|\n",
      "|993660|141443|\n",
      "|993650|204140|\n",
      "|993620|224731|\n",
      "|993510| 72452|\n",
      "|993260|  4854|\n",
      "|992330|    42|\n",
      "|992320| 30815|\n",
      "|989620| 59806|\n",
      "|986170|  8793|\n",
      "|986150| 10702|\n",
      "|985950| 32258|\n",
      "|985430| 44540|\n",
      "|984360|   413|\n",
      "|984350| 31376|\n",
      "|983080|  6222|\n",
      "|982610|    31|\n",
      "|980110| 72923|\n",
      "|980100| 57980|\n",
      "|979110| 11855|\n",
      "|979090|  8015|\n",
      "|979080| 19625|\n",
      "|977040|129777|\n",
      "|972960|    94|\n",
      "|969340|151325|\n",
      "|968790| 24194|\n",
      "|968780| 79791|\n",
      "|968450|     2|\n",
      "|968430|   248|\n",
      "|968270|222744|\n",
      "|968020|    54|\n",
      "|967650|  7696|\n",
      "|967640| 59847|\n",
      "|965590|  9260|\n",
      "|962790| 12677|\n",
      "|962420| 17829|\n",
      "|962410| 80172|\n",
      "|960980| 23058|\n",
      "|960440| 46408|\n",
      "|958050|150078|\n",
      "|957680| 11635|\n",
      "|957640|  5300|\n",
      "|957430| 76098|\n",
      "|957420| 44038|\n",
      "|957350| 11282|\n",
      "|957260| 11133|\n",
      "|957240| 14785|\n",
      "|957190| 10387|\n",
      "|956640| 14646|\n",
      "|954910| 20906|\n",
      "|952170| 57933|\n",
      "|952160|106359|\n",
      "|952150| 55147|\n",
      "|950810|   306|\n",
      "|950800|  3563|\n",
      "|948660|138139|\n",
      "|947370| 44981|\n",
      "|947360| 82863|\n",
      "|947310|188976|\n",
      "|946720|  5415|\n",
      "|943790|  9512|\n",
      "|943780|  8120|\n",
      "|943760| 13389|\n",
      "|943680| 19277|\n",
      "|943610|  7373|\n",
      "|943590| 14753|\n",
      "|943570| 12754|\n",
      "|943560|  4632|\n",
      "|942470| 10409|\n",
      "|942290|115645|\n",
      "|940970|   120|\n",
      "|940730| 11442|\n",
      "|940720|  5068|\n",
      "|940710| 80728|\n",
      "|940690|  6107|\n",
      "|940360|288856|\n",
      "|940310|164741|\n",
      "|940300|140000|\n",
      "|940290|105721|\n",
      "|938960| 19746|\n",
      "|937570| 33964|\n",
      "|937500| 75999|\n",
      "|936780| 15518|\n",
      "|935160|150161|\n",
      "|935080|    12|\n",
      "|933550| 37651|\n",
      "|931460|111416|\n",
      "|930540| 73139|\n",
      "|929670| 26327|\n",
      "+------+------+\n",
      "only showing top 100 rows"
     ]
    }
   ],
   "source": [
    "df_rec.groupby('SKU').count().sort(desc(\"SKU\")).show(100)"
   ]
  },
  {
   "cell_type": "code",
   "execution_count": null,
   "id": "9a4a7e49",
   "metadata": {},
   "outputs": [],
   "source": []
  },
  {
   "cell_type": "code",
   "execution_count": null,
   "id": "49651113",
   "metadata": {},
   "outputs": [],
   "source": []
  },
  {
   "cell_type": "code",
   "execution_count": 39,
   "id": "65ea3146",
   "metadata": {
    "collapsed": true
   },
   "outputs": [
    {
     "data": {
      "application/vnd.jupyter.widget-view+json": {
       "model_id": "",
       "version_major": 2,
       "version_minor": 0
      },
      "text/plain": [
       "FloatProgress(value=0.0, bar_style='info', description='Progress:', layout=Layout(height='25px', width='50%'),…"
      ]
     },
     "metadata": {},
     "output_type": "display_data"
    },
    {
     "name": "stdout",
     "output_type": "stream",
     "text": [
      "Purchased\n",
      "+------------------------+--------------------------------------+----------------------+-----------+\n",
      "|cpf                     |desc_varejo                           |desc_grupo            |qtd_efetiva|\n",
      "+------------------------+--------------------------------------+----------------------+-----------+\n",
      "|eQBc3AFC7BMi+14MwjvsgQ==|SUMAX 100MG 2 CP                      |DOR E FEBRE           |1          |\n",
      "|eQBc3AFC7BMi+14MwjvsgQ==|FITA DENTAL PANVEL ORAL SYSTEM 130M   |HIGIENE BUCAL         |1          |\n",
      "|eQBc3AFC7BMi+14MwjvsgQ==|SUMAX 50MG 2 CP                       |DOR E FEBRE           |2          |\n",
      "|eQBc3AFC7BMi+14MwjvsgQ==|KIT ESC DENT CURAPROX 5460 U.SOFT C/2 |HIGIENE BUCAL         |1          |\n",
      "|eQBc3AFC7BMi+14MwjvsgQ==|TORAGESIC 10MG SUBLING 10 CP          |DOR E FEBRE           |1          |\n",
      "|eQBc3AFC7BMi+14MwjvsgQ==|ALGODAO QUADRADO 50 UND PANVEL. 18    |PRIMEIROS SOCORROS    |1          |\n",
      "|eQBc3AFC7BMi+14MwjvsgQ==|ESTOMAZIL SEM SABOR PO EFERV 100G     |GASTROINTESTINAIS     |1          |\n",
      "|eQBc3AFC7BMi+14MwjvsgQ==|EPOCLER ABACAX FLAC 10ML AV           |GASTROINTESTINAIS     |2          |\n",
      "|eQBc3AFC7BMi+14MwjvsgQ==|CREME LOREAL REVITA HIALU DIU FP20 49G|TRATAMENTO FACIAL     |1          |\n",
      "|eQBc3AFC7BMi+14MwjvsgQ==|FLORATIL 200MG 6 CAP BLISTER C        |GASTROINTESTINAIS     |1          |\n",
      "|eQBc3AFC7BMi+14MwjvsgQ==|NOVALGINA 1G 10CP                     |DOR E FEBRE           |1          |\n",
      "|eQBc3AFC7BMi+14MwjvsgQ==|SAB LIQ PROTEX VITAMINA E 200ML       |SABONETE E ACESSORIOS |1          |\n",
      "|eQBc3AFC7BMi+14MwjvsgQ==|NARAMIG 2,5MG 4 CP                    |DOR E FEBRE           |1          |\n",
      "|eQBc3AFC7BMi+14MwjvsgQ==|DERMOMAX 4% CRE 5G P                  |DOR E FEBRE           |1          |\n",
      "|eQBc3AFC7BMi+14MwjvsgQ==|SHAMP VICHY DERCOS ANTIOLEOSIDAD 200ML|DERMOCOSMETICO        |1          |\n",
      "|eQBc3AFC7BMi+14MwjvsgQ==|GELOL MASSAGEADOR 60G                 |FERIMENTOS E CONTUSÕES|1          |\n",
      "|eQBc3AFC7BMi+14MwjvsgQ==|OMEPRAZOL 20MG 28CAP NEOQ GEN         |GASTROINTESTINAIS     |2          |\n",
      "|eQBc3AFC7BMi+14MwjvsgQ==|NUTREN PROTEIN CHOCOLATE PO 400G      |NUTRICAO ESPECIALIZADA|1          |\n",
      "|eQBc3AFC7BMi+14MwjvsgQ==|SAB LIQ PROTEX BALANCE 250ML          |SABONETE E ACESSORIOS |3          |\n",
      "|eQBc3AFC7BMi+14MwjvsgQ==|MIORRELAX 30 CP                       |DOR E FEBRE           |1          |\n",
      "|eQBc3AFC7BMi+14MwjvsgQ==|KIT AUST GOLD CORPO 200G+FAC 50G FPS50|PRODUTOS PARA O CORPO |2          |\n",
      "|eQBc3AFC7BMi+14MwjvsgQ==|SUMAX 50MG 2 CP                       |DOR E FEBRE           |4          |\n",
      "|eQBc3AFC7BMi+14MwjvsgQ==|LUFTA GASTRO PRO 10ML AV              |GASTROINTESTINAIS     |3          |\n",
      "|eQBc3AFC7BMi+14MwjvsgQ==|BLUSORO JET INFANTIL 0,9% FR 100ML    |GRIPES E RESFRIADOS   |1          |\n",
      "|eQBc3AFC7BMi+14MwjvsgQ==|ESC DENT ELMEX ULTRASOFT              |HIGIENE BUCAL         |1          |\n",
      "|eQBc3AFC7BMi+14MwjvsgQ==|BUSCOFEM 400 MG 2 CAP GEL MOLE AV     |DOR E FEBRE           |2          |\n",
      "|eQBc3AFC7BMi+14MwjvsgQ==|PROT SOL AUSTRALIAN GOLD TS FPS30 200G|PRODUTOS PARA O CORPO |1          |\n",
      "|eQBc3AFC7BMi+14MwjvsgQ==|SUMAX 100MG 2 CP                      |DOR E FEBRE           |1          |\n",
      "|eQBc3AFC7BMi+14MwjvsgQ==|HEXOMEDINE COLUTORIO 50ML SPRAY C1    |GRIPES E RESFRIADOS   |1          |\n",
      "|eQBc3AFC7BMi+14MwjvsgQ==|DERMOTIVIN ORIGINAL SAB LIQ 70ML      |DERMOCOSMETICO        |1          |\n",
      "|eQBc3AFC7BMi+14MwjvsgQ==|PROT SOL C&B FPS50 AERO 200ML         |PRODUTOS PARA O CORPO |1          |\n",
      "|eQBc3AFC7BMi+14MwjvsgQ==|YASMIN 21 CP REV C                    |SAÚDE DA MULHER       |1          |\n",
      "|eQBc3AFC7BMi+14MwjvsgQ==|MIOSAN 5MG 10 CP REV C                |DOR E FEBRE           |1          |\n",
      "|eQBc3AFC7BMi+14MwjvsgQ==|DORFLEX UNO ENXAQUECA 1G 10 CPR EFERV |DOR E FEBRE           |1          |\n",
      "|eQBc3AFC7BMi+14MwjvsgQ==|PROT DIA CAREFREE TODO DIA C/40       |HIGIENE INTIMA        |1          |\n",
      "|eQBc3AFC7BMi+14MwjvsgQ==|LISADOR DIP 1G 4CP                    |DOR E FEBRE           |1          |\n",
      "|eQBc3AFC7BMi+14MwjvsgQ==|MEDMULHER 400MG 2 CAP GEL AV          |DOR E FEBRE           |1          |\n",
      "|eQBc3AFC7BMi+14MwjvsgQ==|LRP ANTHELIOS AIRLICIUM FPS70 50G NV  |DERMOCOSMETICO        |1          |\n",
      "|eQBc3AFC7BMi+14MwjvsgQ==|DORFLEX ICY HOT ADESIVOS GRANDES C/5  |FERIMENTOS E CONTUSÕES|1          |\n",
      "|eQBc3AFC7BMi+14MwjvsgQ==|PILHA APAREL AUDITIVO DURACELL 10 50X6|CONVENIENCIA          |2          |\n",
      "|eQBc3AFC7BMi+14MwjvsgQ==|AGUA DE COCO CAMPO LARGO 250ML        |ALIMENTO              |1          |\n",
      "|eQBc3AFC7BMi+14MwjvsgQ==|SUMAX 50MG 2 CP                       |DOR E FEBRE           |6          |\n",
      "|eQBc3AFC7BMi+14MwjvsgQ==|SORINE SSC 0,9% JATO CONTINUO 100ML   |GRIPES E RESFRIADOS   |2          |\n",
      "|eQBc3AFC7BMi+14MwjvsgQ==|ABS INTIMUS NOTURNO C/ABA SUAVE C/30  |HIGIENE INTIMA        |1          |\n",
      "|eQBc3AFC7BMi+14MwjvsgQ==|PILHA APAREL AUDITIVO COMUNICARE +10 6|CONVENIENCIA          |1          |\n",
      "|eQBc3AFC7BMi+14MwjvsgQ==|KIT AUST GOLD CORPO 200G+FAC 50G FPS50|PRODUTOS PARA O CORPO |1          |\n",
      "|eQBc3AFC7BMi+14MwjvsgQ==|LUFTA GASTRO PRO 10ML AV              |GASTROINTESTINAIS     |6          |\n",
      "|eQBc3AFC7BMi+14MwjvsgQ==|CANUDO ECOPAPEL NEON C6 PANVEL ACESS19|CONVENIENCIA          |1          |\n",
      "|eQBc3AFC7BMi+14MwjvsgQ==|YASMIN 3X21 CP REV                    |SAÚDE DA MULHER       |1          |\n",
      "|eQBc3AFC7BMi+14MwjvsgQ==|HASTES FLEXIVEIS C/75 PANVEL. 18      |INFANTIL              |1          |\n",
      "+------------------------+--------------------------------------+----------------------+-----------+\n",
      "only showing top 50 rows"
     ]
    }
   ],
   "source": [
    "get_purchased('eQBc3AFC7BMi+14MwjvsgQ==')"
   ]
  },
  {
   "cell_type": "code",
   "execution_count": 40,
   "id": "bbff7e1b",
   "metadata": {
    "collapsed": true
   },
   "outputs": [
    {
     "data": {
      "application/vnd.jupyter.widget-view+json": {
       "model_id": "",
       "version_major": 2,
       "version_minor": 0
      },
      "text/plain": [
       "FloatProgress(value=0.0, bar_style='info', description='Progress:', layout=Layout(height='25px', width='50%'),…"
      ]
     },
     "metadata": {},
     "output_type": "display_data"
    },
    {
     "name": "stdout",
     "output_type": "stream",
     "text": [
      "Recommendations\n",
      "+------------------------+------+--------------------------------------+----------------------+------+\n",
      "|CUSTOMER_ID             |SKU   |desc_varejo                           |desc_grupo            |SCORE |\n",
      "+------------------------+------+--------------------------------------+----------------------+------+\n",
      "|eQBc3AFC7BMi+14MwjvsgQ==|114870|PROT SOL NIVEA P&B F30 200 GTS F30 100|PRODUTOS PARA O CORPO |1.2212|\n",
      "|eQBc3AFC7BMi+14MwjvsgQ==|113631|KIT CRE DEN ORAL-B ESC A.ACUCAR C3 70G|HIGIENE BUCAL         |1.2185|\n",
      "|eQBc3AFC7BMi+14MwjvsgQ==|110937|MASCARA DESCARTAVEL PANVEL 50 UNIDADES|PRIMEIROS SOCORROS    |1.1716|\n",
      "|eQBc3AFC7BMi+14MwjvsgQ==|156550|PARACETAMOL 750MG 20 CP NEOQ GEN      |DOR E FEBRE           |1.1513|\n",
      "|eQBc3AFC7BMi+14MwjvsgQ==|113933|LC AUTOBRONZEAD PANVEL GLOW DARK 120G |PRODUTOS PARA O CORPO |1.1479|\n",
      "|eQBc3AFC7BMi+14MwjvsgQ==|483870|SAL DE FRUTA ENO 5G 2ENV AV           |GASTROINTESTINAIS     |1.1128|\n",
      "|eQBc3AFC7BMi+14MwjvsgQ==|675290|ABS S.LIVRE ADAPT PLUS SUAV C/A L16P14|HIGIENE INTIMA        |1.0245|\n",
      "|eQBc3AFC7BMi+14MwjvsgQ==|118228|ABS INT OB MEDIO PROCOMFORT C/16      |HIGIENE INTIMA        |1.0066|\n",
      "|eQBc3AFC7BMi+14MwjvsgQ==|409300|CRE DENT COLGATE TRIPLA AÇÃO 90G      |HIGIENE BUCAL         |0.9872|\n",
      "|eQBc3AFC7BMi+14MwjvsgQ==|826590|ESCOV DENTAL INDICAT COLOR COLLEC 4 UN|HIGIENE BUCAL         |0.9837|\n",
      "|eQBc3AFC7BMi+14MwjvsgQ==|27440 |GEL ANTIS GIOVANNA BABY CLASSIC 60ML  |PRIMEIROS SOCORROS    |0.9748|\n",
      "|eQBc3AFC7BMi+14MwjvsgQ==|110765|KIT PRO C&B FPS30 200ML+OL FPS15 110ML|PRODUTOS PARA O CORPO |0.9741|\n",
      "|eQBc3AFC7BMi+14MwjvsgQ==|698700|EPOCLER 6X10ML                        |GASTROINTESTINAIS     |0.9572|\n",
      "|eQBc3AFC7BMi+14MwjvsgQ==|157190|LORATADINA 10MG 12 CP NEOQ GEN        |GRIPES E RESFRIADOS   |0.9561|\n",
      "|eQBc3AFC7BMi+14MwjvsgQ==|148784|HASTES COTONETES JXJ C/150            |INFANTIL              |0.9535|\n",
      "|eQBc3AFC7BMi+14MwjvsgQ==|109385|MASCARA DESCART INFANT PANVEL 10 UNI  |PRIMEIROS SOCORROS    |0.9499|\n",
      "|eQBc3AFC7BMi+14MwjvsgQ==|107983|MASCARA TRIPLA DESCART PANVEL 1 UNI   |PRIMEIROS SOCORROS    |0.9476|\n",
      "|eQBc3AFC7BMi+14MwjvsgQ==|27180 |GEL ANTIS GIOVANNA BABY BLUE 60ML     |PRIMEIROS SOCORROS    |0.947 |\n",
      "|eQBc3AFC7BMi+14MwjvsgQ==|846290|PROT LABIAL NIVEA MORANGO SHINE 4,8G  |TRATAMENTO FACIAL     |0.9447|\n",
      "|eQBc3AFC7BMi+14MwjvsgQ==|889470|CURAT BANDAID TRANSPARENTE C/40       |PRIMEIROS SOCORROS    |0.9443|\n",
      "|eQBc3AFC7BMi+14MwjvsgQ==|868710|MAGNESIA BISURADA 10 PAST AV CH       |GASTROINTESTINAIS     |0.9439|\n",
      "|eQBc3AFC7BMi+14MwjvsgQ==|116050|LENCOS UMED HUGGIES SUP. CARE LV4PG3  |INFANTIL              |0.9313|\n",
      "|eQBc3AFC7BMi+14MwjvsgQ==|802450|LUFTA GASTRO PRO 10ML AV              |GASTROINTESTINAIS     |0.9232|\n",
      "|eQBc3AFC7BMi+14MwjvsgQ==|119353|LENCOS UMED HUGGIES ONE&DONE LV4PG3   |INFANTIL              |0.9186|\n",
      "|eQBc3AFC7BMi+14MwjvsgQ==|116360|PROT DIARIO INTIMUS DAYS ANTIBAC C/80 |HIGIENE INTIMA        |0.9123|\n",
      "|eQBc3AFC7BMi+14MwjvsgQ==|853280|ESC DENT COLGATE SLIM SOFT BLACK C/3  |HIGIENE BUCAL         |0.9084|\n",
      "|eQBc3AFC7BMi+14MwjvsgQ==|111673|MASCARA TRIPLA DESCART PANVEL 10 UNI  |PRIMEIROS SOCORROS    |0.8927|\n",
      "|eQBc3AFC7BMi+14MwjvsgQ==|929270|NOVALGINA 1G 10CP                     |DOR E FEBRE           |0.8873|\n",
      "|eQBc3AFC7BMi+14MwjvsgQ==|403192|DIPIRONA SOD 500MG/ML 20ML EMS GEN G  |DOR E FEBRE           |0.8815|\n",
      "|eQBc3AFC7BMi+14MwjvsgQ==|119119|LRP ANTHELIOS AIRLICIUM FPS70 50G NV  |DERMOCOSMETICO        |0.8754|\n",
      "|eQBc3AFC7BMi+14MwjvsgQ==|356549|G.MASCAR TRIDENT MENTA AV             |ALIMENTO              |0.8707|\n",
      "|eQBc3AFC7BMi+14MwjvsgQ==|952150|ABS INTIMUS INTERNO MINI C/8 UN       |HIGIENE INTIMA        |0.8702|\n",
      "|eQBc3AFC7BMi+14MwjvsgQ==|853800|SIMETICONA 125MG 10 CAP GEL MEDL GEN  |GASTROINTESTINAIS     |0.8688|\n",
      "|eQBc3AFC7BMi+14MwjvsgQ==|109625|DESOD REXONA AERO CLINICAL CLASS 55ML |DESODORANTE           |0.8686|\n",
      "|eQBc3AFC7BMi+14MwjvsgQ==|105537|MASCARA DESCARTAVEL PRETA PANVEL 50 UN|PRIMEIROS SOCORROS    |0.8613|\n",
      "|eQBc3AFC7BMi+14MwjvsgQ==|696870|HASTES FLEXIVEIS C/75 PANVEL. 18      |INFANTIL              |0.8524|\n",
      "|eQBc3AFC7BMi+14MwjvsgQ==|691570|LENCOS UMED JXJ BABY H. DO SONO C/48  |INFANTIL              |0.8466|\n",
      "|eQBc3AFC7BMi+14MwjvsgQ==|112194|SAB LIQ ANTIBAC PANVEL SEMPBEM REF 1L |SABONETE E ACESSORIOS |0.8461|\n",
      "|eQBc3AFC7BMi+14MwjvsgQ==|111527|AGUA OXIGENADA 10VOL LIFAR 100ML      |FERIMENTOS E CONTUSÕES|0.8456|\n",
      "|eQBc3AFC7BMi+14MwjvsgQ==|800035|COMP ESTERIL 11F CREMER 7,5X7,5 10UN  |PRIMEIROS SOCORROS    |0.8436|\n",
      "|eQBc3AFC7BMi+14MwjvsgQ==|118232|ABS INT OB MINI PROCOMFORT C/8        |HIGIENE INTIMA        |0.8362|\n",
      "|eQBc3AFC7BMi+14MwjvsgQ==|569170|ADVIL 400MG 3CAP GEL AV               |DOR E FEBRE           |0.8152|\n",
      "|eQBc3AFC7BMi+14MwjvsgQ==|857440|PROT AUSTRALIAN GOLD FPS30 SPR 237 ML |PRODUTOS PARA O CORPO |0.8134|\n",
      "|eQBc3AFC7BMi+14MwjvsgQ==|111396|PROTE LABIAL BEPANTOL DERMA FPS50 4,5G|TRATAMENTO FACIAL     |0.8128|\n",
      "|eQBc3AFC7BMi+14MwjvsgQ==|884630|NALDECON NOITE 4 CP AV CH             |GRIPES E RESFRIADOS   |0.8092|\n",
      "|eQBc3AFC7BMi+14MwjvsgQ==|156817|TYLENOL EXT POD ALIV 750MG 20CP       |DOR E FEBRE           |0.8088|\n",
      "|eQBc3AFC7BMi+14MwjvsgQ==|447250|LC AUTOBRONZEADORA PANVEL GLOW 120G 17|PRODUTOS PARA O CORPO |0.8063|\n",
      "+------------------------+------+--------------------------------------+----------------------+------+"
     ]
    }
   ],
   "source": [
    "get_recommendations('eQBc3AFC7BMi+14MwjvsgQ==')"
   ]
  },
  {
   "cell_type": "code",
   "execution_count": 41,
   "id": "12a82873",
   "metadata": {
    "collapsed": true
   },
   "outputs": [
    {
     "data": {
      "application/vnd.jupyter.widget-view+json": {
       "model_id": "",
       "version_major": 2,
       "version_minor": 0
      },
      "text/plain": [
       "FloatProgress(value=0.0, bar_style='info', description='Progress:', layout=Layout(height='25px', width='50%'),…"
      ]
     },
     "metadata": {},
     "output_type": "display_data"
    },
    {
     "name": "stdout",
     "output_type": "stream",
     "text": [
      "Purchased\n",
      "+------------------------+----------------------------------------+---------------------------+-----------+\n",
      "|cpf                     |desc_varejo                             |desc_grupo                 |qtd_efetiva|\n",
      "+------------------------+----------------------------------------+---------------------------+-----------+\n",
      "|LWtkxv07ZvIAEmGY7IXAew==|METREXATO 2,5MG 24 CP C                 |ONCOLÓGICOS                |1          |\n",
      "|LWtkxv07ZvIAEmGY7IXAew==|PREDNISONA 5MG 20 CP NEOQ GEN           |ALERGIAS E INFECÇÕES       |1          |\n",
      "|LWtkxv07ZvIAEmGY7IXAew==|ROSUVASTATINA 5MG 30CP EMS GEN          |COLESTEROL E TRIGLICERÍDEOS|1          |\n",
      "|LWtkxv07ZvIAEmGY7IXAew==|PURAN T4 100 MCG 30 CP C                |SISTEMA ENDOCRINO          |1          |\n",
      "|LWtkxv07ZvIAEmGY7IXAew==|BENICAR ANLO 40MG/5MG 30 CP REV C       |CARDIO                     |1          |\n",
      "|LWtkxv07ZvIAEmGY7IXAew==|PENVIR 500MG 21 CP                      |ALERGIAS E INFECÇÕES       |1          |\n",
      "|LWtkxv07ZvIAEmGY7IXAew==|PREDNISONA 5MG 20CP BIOSI GEN           |ALERGIAS E INFECÇÕES       |4          |\n",
      "|LWtkxv07ZvIAEmGY7IXAew==|BOLSA TERMICA GEL PANVEL PEQUENA 20     |ORTOPEDICO                 |1          |\n",
      "|LWtkxv07ZvIAEmGY7IXAew==|AMOX+CLAV POT 875/125MG14CPREV EUROGEN  |ALERGIAS E INFECÇÕES       |1          |\n",
      "|LWtkxv07ZvIAEmGY7IXAew==|TORAGESIC 10MG SUBLING 10 CP            |DOR E FEBRE                |1          |\n",
      "|LWtkxv07ZvIAEmGY7IXAew==|PSOREX CAPILAR 50ML                     |PELE E MUCOSAS             |3          |\n",
      "|LWtkxv07ZvIAEmGY7IXAew==|BENICAR ANLO 40MG/5MG 30 CP REV C       |CARDIO                     |1          |\n",
      "|LWtkxv07ZvIAEmGY7IXAew==|PSOREX CRE 30G                          |PELE E MUCOSAS             |2          |\n",
      "|LWtkxv07ZvIAEmGY7IXAew==|PARACETAMOL 750MG 20 CP NEOQ GEN        |DOR E FEBRE                |1          |\n",
      "|LWtkxv07ZvIAEmGY7IXAew==|CURATIVO CREMERCARE BEGE C/40           |PRIMEIROS SOCORROS         |1          |\n",
      "|LWtkxv07ZvIAEmGY7IXAew==|DEPAKENE 500MG 50CP REV  C1             |PSICOTROPICO               |2          |\n",
      "|LWtkxv07ZvIAEmGY7IXAew==|ROSUVASTATINA  5MG 30 CP REV ALTHAIA GEN|COLESTEROL E TRIGLICERÍDEOS|2          |\n",
      "|LWtkxv07ZvIAEmGY7IXAew==|KIT C.DENT COLGATE LUMIN 70G C/3+ENX    |HIGIENE BUCAL              |1          |\n",
      "|LWtkxv07ZvIAEmGY7IXAew==|FOLIN 5MG 30 CP                         |SISTEMA SANGUINEO          |1          |\n",
      "|LWtkxv07ZvIAEmGY7IXAew==|PREDNISONA 5MG 20 CP MEDL GEN           |ALERGIAS E INFECÇÕES       |3          |\n",
      "|LWtkxv07ZvIAEmGY7IXAew==|CHIPS BATATA DOCE PANVEL LEVE 55G       |ALIMENTO                   |1          |\n",
      "|LWtkxv07ZvIAEmGY7IXAew==|METREXATO 2,5MG 24 CP C                 |ONCOLÓGICOS                |1          |\n",
      "|LWtkxv07ZvIAEmGY7IXAew==|METREXATO 2,5MG 24 CP C                 |ONCOLÓGICOS                |1          |\n",
      "|LWtkxv07ZvIAEmGY7IXAew==|DEPAKENE 500MG 50CP REV  C1             |PSICOTROPICO               |2          |\n",
      "|LWtkxv07ZvIAEmGY7IXAew==|PURAN T4 100 MCG 30 CP C                |SISTEMA ENDOCRINO          |1          |\n",
      "|LWtkxv07ZvIAEmGY7IXAew==|PREDNISONA 5MG 20 CP MEDL GEN           |ALERGIAS E INFECÇÕES       |3          |\n",
      "|LWtkxv07ZvIAEmGY7IXAew==|BENICAR ANLO 40MG/5MG 30 CP REV C       |CARDIO                     |1          |\n",
      "|LWtkxv07ZvIAEmGY7IXAew==|PROP.CLOBETASOL POM 30G NEOQ GEN P      |PELE E MUCOSAS             |2          |\n",
      "|LWtkxv07ZvIAEmGY7IXAew==|DESOD REXONA AERO SEM PERFUME 150ML     |DESODORANTE                |1          |\n",
      "|LWtkxv07ZvIAEmGY7IXAew==|BENICAR ANLO 40MG/5MG 30 CP REV C       |CARDIO                     |1          |\n",
      "|LWtkxv07ZvIAEmGY7IXAew==|TREZOR 5 MG 30CP REV                    |COLESTEROL E TRIGLICERÍDEOS|1          |\n",
      "|LWtkxv07ZvIAEmGY7IXAew==|DEPAKENE 500MG 50CP REV  C1             |PSICOTROPICO               |2          |\n",
      "|LWtkxv07ZvIAEmGY7IXAew==|SAB PHEBO PATCHOULY 90G                 |SABONETE E ACESSORIOS      |1          |\n",
      "|LWtkxv07ZvIAEmGY7IXAew==|SAB BARRA PHEBO LIMA DA PERSIA 90G      |SABONETE E ACESSORIOS      |2          |\n",
      "|LWtkxv07ZvIAEmGY7IXAew==|TOLREST 25 MG 30 CP REV C1              |PSICOTROPICO               |3          |\n",
      "|LWtkxv07ZvIAEmGY7IXAew==|DEPAKENE 500MG 50CP REV  C1             |PSICOTROPICO               |2          |\n",
      "|LWtkxv07ZvIAEmGY7IXAew==|METREXATO 2,5MG 24 CP C                 |ONCOLÓGICOS                |1          |\n",
      "|LWtkxv07ZvIAEmGY7IXAew==|PURAN T4 100 MCG 30 CP C                |SISTEMA ENDOCRINO          |1          |\n",
      "|LWtkxv07ZvIAEmGY7IXAew==|PREDNISONA 5MG 20 CP EMS GEN C          |ALERGIAS E INFECÇÕES       |3          |\n",
      "|LWtkxv07ZvIAEmGY7IXAew==|FENTIZOL CRE DERMATOLOGICO 20G          |PELE E MUCOSAS             |1          |\n",
      "|LWtkxv07ZvIAEmGY7IXAew==|BENICAR ANLO 40MG/5MG 30 CP REV C       |CARDIO                     |1          |\n",
      "+------------------------+----------------------------------------+---------------------------+-----------+"
     ]
    }
   ],
   "source": [
    "get_purchased('LWtkxv07ZvIAEmGY7IXAew==')"
   ]
  },
  {
   "cell_type": "code",
   "execution_count": 42,
   "id": "51f64766",
   "metadata": {
    "collapsed": true
   },
   "outputs": [
    {
     "data": {
      "application/vnd.jupyter.widget-view+json": {
       "model_id": "",
       "version_major": 2,
       "version_minor": 0
      },
      "text/plain": [
       "FloatProgress(value=0.0, bar_style='info', description='Progress:', layout=Layout(height='25px', width='50%'),…"
      ]
     },
     "metadata": {},
     "output_type": "display_data"
    },
    {
     "name": "stdout",
     "output_type": "stream",
     "text": [
      "Recommendations\n",
      "+------------------------+------+--------------------------------------+-----------------------+------+\n",
      "|CUSTOMER_ID             |SKU   |desc_varejo                           |desc_grupo             |SCORE |\n",
      "+------------------------+------+--------------------------------------+-----------------------+------+\n",
      "|LWtkxv07ZvIAEmGY7IXAew==|413990|REP CORP LA ROCHE-POSAY CIC B B5 20ML |DERMOCOSMETICO         |1.3733|\n",
      "|LWtkxv07ZvIAEmGY7IXAew==|117340|DESOD REXONA AERO CLINICAL CLASS 150ML|DESODORANTE            |1.3573|\n",
      "|LWtkxv07ZvIAEmGY7IXAew==|113553|ADVIL 400MG (LEVE 8 PAGUE 6) 8 CAP AV |DOR E FEBRE            |1.2161|\n",
      "|LWtkxv07ZvIAEmGY7IXAew==|675300|PROT DIA CAREFREE PROTECAO LV80PG60   |HIGIENE INTIMA         |1.177 |\n",
      "|LWtkxv07ZvIAEmGY7IXAew==|463380|GEL ANTISSEPTICO MAOS THAPSYA 55G     |PRIMEIROS SOCORROS     |1.14  |\n",
      "|LWtkxv07ZvIAEmGY7IXAew==|109865|VITAMINA C EFERV 1G PANVEL VITA 10 CP |VITAMINAS E SUPLEMENTOS|1.1222|\n",
      "|LWtkxv07ZvIAEmGY7IXAew==|385824|BUSCOPAN COMPOSTO 20 CP REV           |DOR E FEBRE            |1.1007|\n",
      "|LWtkxv07ZvIAEmGY7IXAew==|116889|PO DESCOLORAN 20G PANVEL ESSENC 19 AV |PRODUTOS PARA O CORPO  |1.0964|\n",
      "|LWtkxv07ZvIAEmGY7IXAew==|339776|CRE DENT GEL CLOSEUP LIQUI ICE 100G   |HIGIENE BUCAL          |1.092 |\n",
      "|LWtkxv07ZvIAEmGY7IXAew==|492360|PROT SOL SUND FPS30 200ML EMB.ECON    |PRODUTOS PARA O CORPO  |1.0791|\n",
      "|LWtkxv07ZvIAEmGY7IXAew==|114974|SALONPAS ADESIVO GRANDE 4UNID AV      |FERIMENTOS E CONTUSÕES |1.0742|\n",
      "|LWtkxv07ZvIAEmGY7IXAew==|324574|ESC DENT JXJ PROFESSIONAL MEDIA 40    |HIGIENE BUCAL          |1.0718|\n",
      "|LWtkxv07ZvIAEmGY7IXAew==|444120|SAB BARRA NIVEA CREME CARE 90G        |SABONETE E ACESSORIOS  |1.0463|\n",
      "|LWtkxv07ZvIAEmGY7IXAew==|832330|SAB BARRA NIVEA MEN ORIGINAL 90G      |SABONETE E ACESSORIOS  |1.035 |\n",
      "|LWtkxv07ZvIAEmGY7IXAew==|116057|ESC DENT ULTRASOFT PANVEL ORAL        |HIGIENE BUCAL          |1.0205|\n",
      "|LWtkxv07ZvIAEmGY7IXAew==|673530|VALDA LATA 50G AV                     |ALIMENTO               |1.0176|\n",
      "|LWtkxv07ZvIAEmGY7IXAew==|697410|EPISOL COLOR PELE CLARA FPS 70 40GR   |DERMOCOSMETICO         |1.0151|\n",
      "|LWtkxv07ZvIAEmGY7IXAew==|833980|PERIOGARD EXTRA MINT 250ML            |HIGIENE BUCAL          |1.0036|\n",
      "|LWtkxv07ZvIAEmGY7IXAew==|681430|ELASTICO 2CORES 15MM 10U PANVEL ACES14|ACESSORIOS P/ CABELO   |1.0032|\n",
      "|LWtkxv07ZvIAEmGY7IXAew==|846940|AGUA OXIG LIFAR CREMOSA 20VOL 100ML   |CABELOS                |1.0028|\n",
      "|LWtkxv07ZvIAEmGY7IXAew==|114972|SALONPAS ADESIVO PEQUENO 10 UNID AV   |FERIMENTOS E CONTUSÕES |1.0017|\n",
      "|LWtkxv07ZvIAEmGY7IXAew==|112511|GEL ANTISSÉPTICO LYSCA 200G           |PRIMEIROS SOCORROS     |0.9848|\n",
      "|LWtkxv07ZvIAEmGY7IXAew==|847140|ESCOVA PANVEL ORAL SMART LV2 PG1 MD   |HIGIENE BUCAL          |0.975 |\n",
      "|LWtkxv07ZvIAEmGY7IXAew==|348840|DESOD AERO ADIDAS FEM CONTROL 150ML   |DESODORANTE            |0.9712|\n",
      "|LWtkxv07ZvIAEmGY7IXAew==|867660|DESOD REXONA AERO FLORES BRANC&LICHIA |DESODORANTE            |0.9598|\n",
      "|LWtkxv07ZvIAEmGY7IXAew==|856300|HASTES FLEXIVEIS C/150 PANVEL. 18     |INFANTIL               |0.9558|\n",
      "|LWtkxv07ZvIAEmGY7IXAew==|645900|NOVALGINA 1G 10 COMPRIMIDOS EFER      |DOR E FEBRE            |0.9486|\n",
      "|LWtkxv07ZvIAEmGY7IXAew==|807350|LACTO PURGA 6CP AV                    |GASTROINTESTINAIS      |0.9454|\n",
      "|LWtkxv07ZvIAEmGY7IXAew==|447850|DESOD GIOVANNA BABY CHERRY AER 150ML  |DESODORANTE            |0.9431|\n",
      "|LWtkxv07ZvIAEmGY7IXAew==|3948  |DULCOLAX 5MG COM 20 DRG               |GASTROINTESTINAIS      |0.942 |\n",
      "|LWtkxv07ZvIAEmGY7IXAew==|112106|GEL ANTI VIEW COM ALOE VERA 440G      |PRIMEIROS SOCORROS     |0.9409|\n",
      "|LWtkxv07ZvIAEmGY7IXAew==|962410|SIMETICONA 75MG/ML GOTAS 10ML BIOGEN  |GASTROINTESTINAIS      |0.9346|\n",
      "|LWtkxv07ZvIAEmGY7IXAew==|847150|FIO DENTAL PANVEL ORAL SYSTEM 130M    |HIGIENE BUCAL          |0.9304|\n",
      "|LWtkxv07ZvIAEmGY7IXAew==|115351|SEAKALM 260MG 20 CP REV               |OUTROS MEDICAMENTOS.   |0.9249|\n",
      "|LWtkxv07ZvIAEmGY7IXAew==|111366|PROT NIVEA SUN TQ SEC AERO FPS30 200ML|PRODUTOS PARA O CORPO  |0.9218|\n",
      "|LWtkxv07ZvIAEmGY7IXAew==|117115|GEL LIMP PANVEL FACES MIS OLEO 150G 19|TRATAMENTO FACIAL      |0.9214|\n",
      "+------------------------+------+--------------------------------------+-----------------------+------+"
     ]
    }
   ],
   "source": [
    "get_recommendations('LWtkxv07ZvIAEmGY7IXAew==')"
   ]
  },
  {
   "cell_type": "code",
   "execution_count": 67,
   "id": "713daba1",
   "metadata": {
    "collapsed": true
   },
   "outputs": [
    {
     "data": {
      "application/vnd.jupyter.widget-view+json": {
       "model_id": "",
       "version_major": 2,
       "version_minor": 0
      },
      "text/plain": [
       "FloatProgress(value=0.0, bar_style='info', description='Progress:', layout=Layout(height='25px', width='50%'),…"
      ]
     },
     "metadata": {},
     "output_type": "display_data"
    },
    {
     "name": "stdout",
     "output_type": "stream",
     "text": [
      "Purchased\n",
      "+------------------------+----------------------------------------+---------------------------+-----------+\n",
      "|cpf                     |desc_varejo                             |desc_grupo                 |qtd_efetiva|\n",
      "+------------------------+----------------------------------------+---------------------------+-----------+\n",
      "|0cnCi6ZwgZc0xhKp/YIlEw==|DISFOR CAPS 30 CÁPSULAS                 |VITAMINAS E SUPLEMENTOS    |1          |\n",
      "|0cnCi6ZwgZc0xhKp/YIlEw==|GEL ANTIS GIOVANNA BABY BLUE 500ML      |PRIMEIROS SOCORROS         |1          |\n",
      "|0cnCi6ZwgZc0xhKp/YIlEw==|COLIRIO MOURA BRASIL 20ML               |CUIDADOS COM OLHOS         |2          |\n",
      "|0cnCi6ZwgZc0xhKp/YIlEw==|SHAMP PANTENE MICELAR 200ML             |CABELOS                    |1          |\n",
      "|0cnCi6ZwgZc0xhKp/YIlEw==|ROSUVASTATINA 10MG 30CP REV EMS GEN     |COLESTEROL E TRIGLICERÍDEOS|1          |\n",
      "|0cnCi6ZwgZc0xhKp/YIlEw==|SALONPAS ADESIVO GRANDE 2UNID AV        |FERIMENTOS E CONTUSÕES     |2          |\n",
      "|0cnCi6ZwgZc0xhKp/YIlEw==|SYNTHROID 88MCG 30 CP C                 |SISTEMA ENDOCRINO          |1          |\n",
      "|0cnCi6ZwgZc0xhKp/YIlEw==|VITAMINA D 1.000 UI PANVEL VITA 30 CP   |VITAMINAS E SUPLEMENTOS    |1          |\n",
      "|0cnCi6ZwgZc0xhKp/YIlEw==|BLOQUEADOR ODORES FREECO 60ML           |CONVENIENCIA               |3          |\n",
      "|0cnCi6ZwgZc0xhKp/YIlEw==|ANDOLBA AER 43G L                       |PELE E MUCOSAS             |1          |\n",
      "|0cnCi6ZwgZc0xhKp/YIlEw==|GEL P/ CAB ALTA FIX PANVEL HOMEM 120G   |MASCULINO                  |2          |\n",
      "|0cnCi6ZwgZc0xhKp/YIlEw==|SAB ENXOFRE GRANADO 90G                 |SABONETE E ACESSORIOS      |1          |\n",
      "|0cnCi6ZwgZc0xhKp/YIlEw==|KIT PANTENE REST SH 350ML+CO 3MM 170ML  |CABELOS                    |1          |\n",
      "|0cnCi6ZwgZc0xhKp/YIlEw==|SYNTHROID 150MCG 30 CP                  |SISTEMA ENDOCRINO          |1          |\n",
      "|0cnCi6ZwgZc0xhKp/YIlEw==|COLCHIS 0,5MG 30 CP C                   |DOR E FEBRE                |1          |\n",
      "|0cnCi6ZwgZc0xhKp/YIlEw==|HIDR FPS25 PANVEL FACES OLEOSA 50G 19   |TRATAMENTO FACIAL          |1          |\n",
      "|0cnCi6ZwgZc0xhKp/YIlEw==|COLA UNHA POST KISS NY 3 SEG            |MAOS E PES                 |1          |\n",
      "|0cnCi6ZwgZc0xhKp/YIlEw==|ROSUVASTATINA  5MG 30 CP REV ALTHAIA GEN|COLESTEROL E TRIGLICERÍDEOS|1          |\n",
      "|0cnCi6ZwgZc0xhKp/YIlEw==|AP DEP DES 3 LAM PANVEL ESSENCIAL 18    |PRODUTOS PARA O CORPO      |1          |\n",
      "|0cnCi6ZwgZc0xhKp/YIlEw==|LEAVE-IN ELSEVE CICATRI RENOV RT5 50ML  |CABELOS                    |1          |\n",
      "|0cnCi6ZwgZc0xhKp/YIlEw==|OZEMPIC 3,0ML 1MG GELAD GELAD           |DIABETES                   |1          |\n",
      "|0cnCi6ZwgZc0xhKp/YIlEw==|CLORANA 25MG 30 CP C                    |CARDIO                     |1          |\n",
      "|0cnCi6ZwgZc0xhKp/YIlEw==|BES.ANLODIPINO 5MG 30CP GEOLAB GEN      |CARDIO                     |1          |\n",
      "|0cnCi6ZwgZc0xhKp/YIlEw==|OZEMPIC 3,0ML 1MG GELAD GELAD           |DIABETES                   |2          |\n",
      "|0cnCi6ZwgZc0xhKp/YIlEw==|SYNTHROID 88MCG 30 CP C                 |SISTEMA ENDOCRINO          |1          |\n",
      "|0cnCi6ZwgZc0xhKp/YIlEw==|SABONETE NIVEA MILK SENSITIVE 6X90G     |SABONETE E ACESSORIOS      |1          |\n",
      "|0cnCi6ZwgZc0xhKp/YIlEw==|OLEO TRAT OGX ARGAN OIL 100ML           |CABELOS                    |1          |\n",
      "|0cnCi6ZwgZc0xhKp/YIlEw==|ROSUVASTATINA  5MG 30 CP REV ALTHAIA GEN|COLESTEROL E TRIGLICERÍDEOS|2          |\n",
      "|0cnCi6ZwgZc0xhKp/YIlEw==|PSOREX POM 30G                          |PELE E MUCOSAS             |1          |\n",
      "|0cnCi6ZwgZc0xhKp/YIlEw==|COLCHIS 0,5MG 30 CP C                   |DOR E FEBRE                |1          |\n",
      "|0cnCi6ZwgZc0xhKp/YIlEw==|ROSUVASTATINA 10MG 30 CP REV NOVAQ GEN  |COLESTEROL E TRIGLICERÍDEOS|1          |\n",
      "|0cnCi6ZwgZc0xhKp/YIlEw==|HIDR FPS25 PANVEL FACES OLEOSA 50G 19   |TRATAMENTO FACIAL          |1          |\n",
      "|0cnCi6ZwgZc0xhKp/YIlEw==|CLORANA 25MG 30 CP C                    |CARDIO                     |1          |\n",
      "|0cnCi6ZwgZc0xhKp/YIlEw==|OZEMPIC 1,5ML 0,25/0,5MG GELAD GELAD    |DIABETES                   |1          |\n",
      "|0cnCi6ZwgZc0xhKp/YIlEw==|SYNTHROID 100MCG 30 CP                  |SISTEMA ENDOCRINO          |1          |\n",
      "|0cnCi6ZwgZc0xhKp/YIlEw==|VITAMINA D 2.000 UI PANVEL VITA 30 CP   |VITAMINAS E SUPLEMENTOS    |2          |\n",
      "|0cnCi6ZwgZc0xhKp/YIlEw==|ASPIRINA C EF LIM 400MG 2CP AV CH       |DOR E FEBRE                |4          |\n",
      "|0cnCi6ZwgZc0xhKp/YIlEw==|REDOXON 500MG 30 CP                     |VITAMINAS E SUPLEMENTOS    |1          |\n",
      "|0cnCi6ZwgZc0xhKp/YIlEw==|GEL P/ CAB ALTA FIX PANVEL HOMEM 120G   |MASCULINO                  |2          |\n",
      "|0cnCi6ZwgZc0xhKp/YIlEw==|ABS S.LIVRE ADAPT SUAVE C/ABAS C/8      |HIGIENE INTIMA             |1          |\n",
      "|0cnCi6ZwgZc0xhKp/YIlEw==|BES.ANLODIPINO 5MG 30CP GEOLAB GEN      |CARDIO                     |2          |\n",
      "|0cnCi6ZwgZc0xhKp/YIlEw==|KIT VIAGEM RICCA 3 FRASCOS COLOR 100ML  |CONVENIENCIA               |1          |\n",
      "|0cnCi6ZwgZc0xhKp/YIlEw==|ALGODAO DISCO PANVEL FACES L100 P85 19  |TRATAMENTO FACIAL          |2          |\n",
      "|0cnCi6ZwgZc0xhKp/YIlEw==|PO TRANSLUCIDO PANVEL MAKE UP           |MAQUIAGEM                  |1          |\n",
      "|0cnCi6ZwgZc0xhKp/YIlEw==|AMATO 100MG 60 CP C1                    |PSICOTROPICO               |2          |\n",
      "|0cnCi6ZwgZc0xhKp/YIlEw==|ROSUVASTATINA 10MG 30 CP REV NOVAQ GEN  |COLESTEROL E TRIGLICERÍDEOS|1          |\n",
      "|0cnCi6ZwgZc0xhKp/YIlEw==|FITA MIC BEG 12,5CMX4,5ML6 PANVEL.20    |PRIMEIROS SOCORROS         |1          |\n",
      "|0cnCi6ZwgZc0xhKp/YIlEw==|DISFOR CAPS 30 CÁPSULAS                 |VITAMINAS E SUPLEMENTOS    |1          |\n",
      "|0cnCi6ZwgZc0xhKp/YIlEw==|SOMBRA QUARTET PANVEL MAKEUPBORGONHA16  |MAQUIAGEM                  |1          |\n",
      "|0cnCi6ZwgZc0xhKp/YIlEw==|PROT NIVEA SUN FPS30 125ML              |PRODUTOS PARA O CORPO      |1          |\n",
      "+------------------------+----------------------------------------+---------------------------+-----------+\n",
      "only showing top 50 rows"
     ]
    }
   ],
   "source": [
    "get_purchased('0cnCi6ZwgZc0xhKp/YIlEw==')"
   ]
  },
  {
   "cell_type": "code",
   "execution_count": 65,
   "id": "3b514ea0",
   "metadata": {
    "collapsed": true
   },
   "outputs": [
    {
     "data": {
      "application/vnd.jupyter.widget-view+json": {
       "model_id": "",
       "version_major": 2,
       "version_minor": 0
      },
      "text/plain": [
       "FloatProgress(value=0.0, bar_style='info', description='Progress:', layout=Layout(height='25px', width='50%'),…"
      ]
     },
     "metadata": {},
     "output_type": "display_data"
    },
    {
     "name": "stdout",
     "output_type": "stream",
     "text": [
      "Recommendations\n",
      "+------------------------+------+--------------------------------------+----------------------+------+\n",
      "|CUSTOMER_ID             |SKU   |desc_varejo                           |desc_grupo            |SCORE |\n",
      "+------------------------+------+--------------------------------------+----------------------+------+\n",
      "|0cnCi6ZwgZc0xhKp/YIlEw==|109385|MASCARA DESCART INFANT PANVEL 10 UNI  |PRIMEIROS SOCORROS    |1.2634|\n",
      "|0cnCi6ZwgZc0xhKp/YIlEw==|107190|PROT SOL ISDIN FUS WAT COR FPS50 50ML |DERMOCOSMETICO        |1.201 |\n",
      "|0cnCi6ZwgZc0xhKp/YIlEw==|853280|ESC DENT COLGATE SLIM SOFT BLACK C/3  |HIGIENE BUCAL         |1.1875|\n",
      "|0cnCi6ZwgZc0xhKp/YIlEw==|109635|MASC DESC ANTIVIRAL 12H PANVEL 20UN   |PRIMEIROS SOCORROS    |1.174 |\n",
      "|0cnCi6ZwgZc0xhKp/YIlEw==|468560|DORFLEX 36 COMPRIMIDOS                |DOR E FEBRE           |1.1393|\n",
      "|0cnCi6ZwgZc0xhKp/YIlEw==|108653|AGUA MINERAL DA PEDRA S/GAS 1,5LTS    |ALIMENTO              |1.0951|\n",
      "|0cnCi6ZwgZc0xhKp/YIlEw==|116058|ESC DENT ULTRASOFT PANVEL ORAL L3P2   |HIGIENE BUCAL         |1.0858|\n",
      "|0cnCi6ZwgZc0xhKp/YIlEw==|698550|PROT NIVEA SUN PROT&BRO FPS30 200ML   |PRODUTOS PARA O CORPO |1.0776|\n",
      "|0cnCi6ZwgZc0xhKp/YIlEw==|113553|ADVIL 400MG (LEVE 8 PAGUE 6) 8 CAP AV |DOR E FEBRE           |1.0769|\n",
      "|0cnCi6ZwgZc0xhKp/YIlEw==|948660|ABS S.LIVRE ADAPT SUAVE C/A L16 P14   |HIGIENE INTIMA        |1.0609|\n",
      "|0cnCi6ZwgZc0xhKp/YIlEw==|707330|ABS INTIMUS INTERNO MEDIO L16P15      |HIGIENE INTIMA        |1.0571|\n",
      "|0cnCi6ZwgZc0xhKp/YIlEw==|156833|TYLENOL 750MG 4CP AV                  |DOR E FEBRE           |1.0503|\n",
      "|0cnCi6ZwgZc0xhKp/YIlEw==|6009  |MELAGRIAO XPE 150ML                   |GRIPES E RESFRIADOS   |1.0397|\n",
      "|0cnCi6ZwgZc0xhKp/YIlEw==|828450|ALIVIUM 400MG 3 CAP GELAT AV          |DOR E FEBRE           |1.0391|\n",
      "|0cnCi6ZwgZc0xhKp/YIlEw==|895300|FIO DENTAL JXJ REACH ESSENCIAL 100M   |HIGIENE BUCAL         |1.0385|\n",
      "|0cnCi6ZwgZc0xhKp/YIlEw==|386464|ESP BARBA NIVEA SENSITIVE 193G        |MASCULINO             |1.0346|\n",
      "|0cnCi6ZwgZc0xhKp/YIlEw==|117572|ALGODAO DISCO PANVEL FACES L100 P85 19|TRATAMENTO FACIAL     |1.0314|\n",
      "|0cnCi6ZwgZc0xhKp/YIlEw==|940290|SERINGA BD SOLOMED 5ML 25X7           |PRIMEIROS SOCORROS    |1.0296|\n",
      "|0cnCi6ZwgZc0xhKp/YIlEw==|110865|CREME HIDRATANTE CERAVE PELE SECA 50G |DERMOCOSMETICO        |1.0272|\n",
      "|0cnCi6ZwgZc0xhKp/YIlEw==|110837|CANETA DELIN PANVEL MAKEUP PT 1,2ML 20|MAQUIAGEM             |1.0247|\n",
      "|0cnCi6ZwgZc0xhKp/YIlEw==|112081|TOALHA UMED PANVEL BABY 48 UN 20      |INFANTIL              |1.0238|\n",
      "|0cnCi6ZwgZc0xhKp/YIlEw==|156550|PARACETAMOL 750MG 20 CP NEOQ GEN      |DOR E FEBRE           |1.0183|\n",
      "|0cnCi6ZwgZc0xhKp/YIlEw==|940360|NEOSALDINA 4DRAGEAS AV                |DOR E FEBRE           |1.0175|\n",
      "|0cnCi6ZwgZc0xhKp/YIlEw==|107162|ELAS 1COR PRETO 10MM 10U PANVEL ACES21|ACESSORIOS P/ CABELO  |1.0164|\n",
      "|0cnCi6ZwgZc0xhKp/YIlEw==|115622|ANTHELIOS AIRL ANTIOS CLARA FPS70 40G |DERMOCOSMETICO        |1.0089|\n",
      "|0cnCi6ZwgZc0xhKp/YIlEw==|853800|SIMETICONA 125MG 10 CAP GEL MEDL GEN  |GASTROINTESTINAIS     |1.0085|\n",
      "|0cnCi6ZwgZc0xhKp/YIlEw==|409080|PROT DIA CAREFREE TODO DIA C/40       |HIGIENE INTIMA        |0.9953|\n",
      "|0cnCi6ZwgZc0xhKp/YIlEw==|111561|MASC CIL SOBRANC INCOLOR PANVEL MAKEUP|MAQUIAGEM             |0.9953|\n",
      "|0cnCi6ZwgZc0xhKp/YIlEw==|117173|LENC MICELAR PANVEL FACES 25 UN 19    |TRATAMENTO FACIAL     |0.9771|\n",
      "|0cnCi6ZwgZc0xhKp/YIlEw==|447250|LC AUTOBRONZEADORA PANVEL GLOW 120G 17|PRODUTOS PARA O CORPO |0.9763|\n",
      "|0cnCi6ZwgZc0xhKp/YIlEw==|120283|CERAVE LOCAO HIDRATANTE 473ML         |DERMOCOSMETICO        |0.9751|\n",
      "|0cnCi6ZwgZc0xhKp/YIlEw==|902400|SORO FISIO SOL.CL.SODIO 0,9% ADV500ML |FERIMENTOS E CONTUSÕES|0.9741|\n",
      "|0cnCi6ZwgZc0xhKp/YIlEw==|119971|PACK LENCO INT PANVEL ESSENCIAL 18    |HIGIENE INTIMA        |0.9725|\n",
      "|0cnCi6ZwgZc0xhKp/YIlEw==|980110|PROT NIVEA SUN FPS30 200ML            |PRODUTOS PARA O CORPO |0.9695|\n",
      "|0cnCi6ZwgZc0xhKp/YIlEw==|116359|PROT DIARIO INTIMUS DAYS ANTIBAC C/15 |HIGIENE INTIMA        |0.9677|\n",
      "|0cnCi6ZwgZc0xhKp/YIlEw==|940300|SERINGA BD SOLOMED 5ML 30X7           |PRIMEIROS SOCORROS    |0.9659|\n",
      "|0cnCi6ZwgZc0xhKp/YIlEw==|109709|SHAMP ELSEVE H.HIALURONICO 200ML      |CABELOS               |0.9603|\n",
      "|0cnCi6ZwgZc0xhKp/YIlEw==|402732|DORFLEX 10 CP AV CH                   |DOR E FEBRE           |0.9474|\n",
      "|0cnCi6ZwgZc0xhKp/YIlEw==|626970|SIMETICONA 125MG 10 CAP GEL BIOS GEN  |GASTROINTESTINAIS     |0.9387|\n",
      "|0cnCi6ZwgZc0xhKp/YIlEw==|115476|SHAMP SECO DETOX PANVEL HAIRTHER 150ML|CABELOS               |0.9367|\n",
      "|0cnCi6ZwgZc0xhKp/YIlEw==|631690|ABS IINTIMUS C/ABA SECA C/16          |HIGIENE INTIMA        |0.9361|\n",
      "|0cnCi6ZwgZc0xhKp/YIlEw==|643580|SYSTANE UL COLIRIO 15ML               |CUIDADOS COM OLHOS    |0.9358|\n",
      "|0cnCi6ZwgZc0xhKp/YIlEw==|109711|COND ELSEVE H.HIALURONICO 200ML       |CABELOS               |0.9322|\n",
      "|0cnCi6ZwgZc0xhKp/YIlEw==|611770|AZELAN GEL 30G                        |PELE E MUCOSAS        |0.9317|\n",
      "+------------------------+------+--------------------------------------+----------------------+------+"
     ]
    }
   ],
   "source": [
    "get_recommendations('0cnCi6ZwgZc0xhKp/YIlEw==')"
   ]
  },
  {
   "cell_type": "markdown",
   "id": "2b6bcea7",
   "metadata": {},
   "source": [
    "#### Write result to AWS bucket."
   ]
  },
  {
   "cell_type": "code",
   "execution_count": 19,
   "id": "47df1e65",
   "metadata": {},
   "outputs": [
    {
     "data": {
      "application/vnd.jupyter.widget-view+json": {
       "model_id": "",
       "version_major": 2,
       "version_minor": 0
      },
      "text/plain": [
       "FloatProgress(value=0.0, bar_style='info', description='Progress:', layout=Layout(height='25px', width='50%'),…"
      ]
     },
     "metadata": {},
     "output_type": "display_data"
    }
   ],
   "source": [
    "merge_users.coalesce(1).write.option(\"header\",\"true\").format(\"csv\").mode(\"overwrite\").save(\"s3://bckt-crm-in-prd/recomendations/user/pp_user_recomendations_04_01_2022_12_08_17.csv\")"
   ]
  },
  {
   "cell_type": "markdown",
   "id": "3bf92a9b",
   "metadata": {},
   "source": [
    "## Filter Sensitivy Items on Item Recommendations"
   ]
  },
  {
   "cell_type": "code",
   "execution_count": 21,
   "id": "2e752331",
   "metadata": {
    "scrolled": true
   },
   "outputs": [
    {
     "data": {
      "application/vnd.jupyter.widget-view+json": {
       "model_id": "",
       "version_major": 2,
       "version_minor": 0
      },
      "text/plain": [
       "FloatProgress(value=0.0, bar_style='info', description='Progress:', layout=Layout(height='25px', width='50%'),…"
      ]
     },
     "metadata": {},
     "output_type": "display_data"
    },
    {
     "name": "stdout",
     "output_type": "stream",
     "text": [
      "root\n",
      " |-- CUSTOMER_ID: string (nullable = true)\n",
      " |-- SKU: integer (nullable = true)\n",
      " |-- SCORE: double (nullable = true)"
     ]
    }
   ],
   "source": [
    "df_recommendations_item.printSchema()"
   ]
  },
  {
   "cell_type": "markdown",
   "id": "c40b2658",
   "metadata": {},
   "source": [
    "#### Create Dataframe from join with only sensitivy items."
   ]
  },
  {
   "cell_type": "code",
   "execution_count": 22,
   "id": "ef17faaf",
   "metadata": {},
   "outputs": [
    {
     "data": {
      "application/vnd.jupyter.widget-view+json": {
       "model_id": "",
       "version_major": 2,
       "version_minor": 0
      },
      "text/plain": [
       "FloatProgress(value=0.0, bar_style='info', description='Progress:', layout=Layout(height='25px', width='50%'),…"
      ]
     },
     "metadata": {},
     "output_type": "display_data"
    },
    {
     "name": "stdout",
     "output_type": "stream",
     "text": [
      "+--------------------+------+-------+--------+\n",
      "|         CUSTOMER_ID|   SKU|  SCORE|cod_item|\n",
      "+--------------------+------+-------+--------+\n",
      "|hjtpV+vIAw3BUmbhn...|329080| 1.5434|  329080|\n",
      "|hjtpV+vIAw3BUmbhn...|881230| 3.6458|  881230|\n",
      "|hjtpV+vIAw3BUmbhn...|117772|11.4597|  117772|\n",
      "|hjtpV+vIAw3BUmbhn...|117770| 8.2158|  117770|\n",
      "|hjtpV+vIAw3BUmbhn...|115188| 3.0724|  115188|\n",
      "+--------------------+------+-------+--------+\n",
      "only showing top 5 rows"
     ]
    }
   ],
   "source": [
    "merge_items = df_recommendations_item.join(n_sensiveis, df_recommendations_item[\"SKU\"] == n_sensiveis[\"cod_item\"])\n",
    "merge_items.show(5)"
   ]
  },
  {
   "cell_type": "code",
   "execution_count": 23,
   "id": "dc68b013",
   "metadata": {},
   "outputs": [
    {
     "data": {
      "application/vnd.jupyter.widget-view+json": {
       "model_id": "",
       "version_major": 2,
       "version_minor": 0
      },
      "text/plain": [
       "FloatProgress(value=0.0, bar_style='info', description='Progress:', layout=Layout(height='25px', width='50%'),…"
      ]
     },
     "metadata": {},
     "output_type": "display_data"
    }
   ],
   "source": [
    "merge_items = merge_items.drop(\"cod_item\")"
   ]
  },
  {
   "cell_type": "code",
   "execution_count": 24,
   "id": "a23e059f",
   "metadata": {},
   "outputs": [
    {
     "data": {
      "application/vnd.jupyter.widget-view+json": {
       "model_id": "",
       "version_major": 2,
       "version_minor": 0
      },
      "text/plain": [
       "FloatProgress(value=0.0, bar_style='info', description='Progress:', layout=Layout(height='25px', width='50%'),…"
      ]
     },
     "metadata": {},
     "output_type": "display_data"
    },
    {
     "name": "stdout",
     "output_type": "stream",
     "text": [
      "(592580000, 3)"
     ]
    }
   ],
   "source": [
    "print((merge_items.count(), len(merge_items.columns)))"
   ]
  },
  {
   "cell_type": "markdown",
   "id": "9f10d42b",
   "metadata": {},
   "source": [
    "#### Unique itens in recommendations"
   ]
  },
  {
   "cell_type": "code",
   "execution_count": 25,
   "id": "ee340c65",
   "metadata": {},
   "outputs": [
    {
     "data": {
      "application/vnd.jupyter.widget-view+json": {
       "model_id": "",
       "version_major": 2,
       "version_minor": 0
      },
      "text/plain": [
       "FloatProgress(value=0.0, bar_style='info', description='Progress:', layout=Layout(height='25px', width='50%'),…"
      ]
     },
     "metadata": {},
     "output_type": "display_data"
    },
    {
     "name": "stdout",
     "output_type": "stream",
     "text": [
      "14765"
     ]
    }
   ],
   "source": [
    "merge_items.select('SKU').distinct().count()"
   ]
  },
  {
   "cell_type": "markdown",
   "id": "30116695",
   "metadata": {},
   "source": [
    "#### Write result to AWS bucket."
   ]
  },
  {
   "cell_type": "code",
   "execution_count": null,
   "id": "04047c60",
   "metadata": {},
   "outputs": [
    {
     "data": {
      "application/vnd.jupyter.widget-view+json": {
       "model_id": "d9f3277f90954f6e9151df869c55379a",
       "version_major": 2,
       "version_minor": 0
      },
      "text/plain": [
       "FloatProgress(value=0.0, bar_style='info', description='Progress:', layout=Layout(height='25px', width='50%'),…"
      ]
     },
     "metadata": {},
     "output_type": "display_data"
    }
   ],
   "source": [
    "merge_items.coalesce(1).write.option(\"header\",\"true\").format(\"csv\").mode(\"overwrite\").save(\"s3://bckt-crm-in-prd/recomendations/item/pp_user_recomendations_04_01_2022_12_19_27.csv/\")"
   ]
  }
 ],
 "metadata": {
  "kernelspec": {
   "display_name": "Sparkmagic (PySpark)",
   "language": "python",
   "name": "pysparkkernel"
  },
  "language_info": {
   "codemirror_mode": {
    "name": "python",
    "version": 3
   },
   "file_extension": ".py",
   "mimetype": "text/x-python",
   "name": "pyspark",
   "pygments_lexer": "python3"
  }
 },
 "nbformat": 4,
 "nbformat_minor": 5
}
